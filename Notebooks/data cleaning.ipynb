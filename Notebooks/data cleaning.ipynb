{
 "cells": [
  {
   "cell_type": "markdown",
   "id": "eca34404-0a9e-46c3-a9bf-32064c3868d3",
   "metadata": {},
   "source": [
    "# 🚗 Vehicle Dataset: Data Cleaning & Feature Engineering\n",
    "\n",
    "This notebook focuses on preparing the raw vehicle dataset for machine learning.  \n",
    "We cover two main stages:\n",
    "\n",
    "## 1. Data Cleaning  \n",
    "- Handling duplicates and invalid values  \n",
    "- Detecting and treating outliers  \n",
    "- Managing missing values  \n",
    "- Standardizing units and formats  \n",
    "- Correcting data types  \n",
    "\n",
    "## 2. Feature Engineering  \n",
    "- Creating new meaningful features (e.g., vehicle age, mileage per year)  \n",
    "- Encoding categorical variables  \n",
    "- Scaling and transforming numerical features  \n",
    "- Cyclical encoding for time-related features  \n",
    "- Target encoding for high-cardinality features  \n",
    "\n",
    "🎯 **Goal:** Ensure the dataset is clean, consistent, and optimized for predictive modeling.\n"
   ]
  },
  {
   "cell_type": "code",
   "execution_count": 1,
   "id": "932d769d-3b50-4f64-a8a0-a6996666a1c0",
   "metadata": {},
   "outputs": [],
   "source": [
    "import pandas as pd\n",
    "import numpy as np\n",
    "import seaborn as sns\n",
    "import matplotlib.pyplot as plt\n",
    "from sklearn.model_selection import train_test_split\n",
    "import re\n",
    "from sklearn.model_selection import KFold\n",
    "from sklearn.model_selection import train_test_split\n",
    "from sklearn.preprocessing import StandardScaler, FunctionTransformer\n",
    "from sklearn.compose import ColumnTransformer\n",
    "from sklearn.pipeline import Pipeline \n",
    "from statsmodels.stats.outliers_influence import variance_inflation_factor\n",
    "import warnings\n",
    "warnings.filterwarnings('ignore')\n"
   ]
  },
  {
   "cell_type": "code",
   "execution_count": 2,
   "id": "d12d63d0-6b76-43c9-ae20-f8ac05020140",
   "metadata": {},
   "outputs": [
    {
     "data": {
      "text/html": [
       "<div>\n",
       "<style scoped>\n",
       "    .dataframe tbody tr th:only-of-type {\n",
       "        vertical-align: middle;\n",
       "    }\n",
       "\n",
       "    .dataframe tbody tr th {\n",
       "        vertical-align: top;\n",
       "    }\n",
       "\n",
       "    .dataframe thead th {\n",
       "        text-align: right;\n",
       "    }\n",
       "</style>\n",
       "<table border=\"1\" class=\"dataframe\">\n",
       "  <thead>\n",
       "    <tr style=\"text-align: right;\">\n",
       "      <th></th>\n",
       "      <th>Unnamed: 0</th>\n",
       "      <th>brand</th>\n",
       "      <th>model</th>\n",
       "      <th>color</th>\n",
       "      <th>registration_date</th>\n",
       "      <th>year</th>\n",
       "      <th>price_in_euro</th>\n",
       "      <th>power_kw</th>\n",
       "      <th>power_ps</th>\n",
       "      <th>transmission_type</th>\n",
       "      <th>fuel_type</th>\n",
       "      <th>fuel_consumption_l_100km</th>\n",
       "      <th>fuel_consumption_g_km</th>\n",
       "      <th>mileage_in_km</th>\n",
       "      <th>offer_description</th>\n",
       "    </tr>\n",
       "  </thead>\n",
       "  <tbody>\n",
       "    <tr>\n",
       "      <th>0</th>\n",
       "      <td>75721</td>\n",
       "      <td>ford</td>\n",
       "      <td>Ford Kuga</td>\n",
       "      <td>black</td>\n",
       "      <td>05/2023</td>\n",
       "      <td>2023</td>\n",
       "      <td>38490</td>\n",
       "      <td>140</td>\n",
       "      <td>190</td>\n",
       "      <td>Automatic</td>\n",
       "      <td>Hybrid</td>\n",
       "      <td>5,4 l/100 km</td>\n",
       "      <td>124 g/km</td>\n",
       "      <td>100.0</td>\n",
       "      <td>ST-Line Hybrid Adapt.LED+Head-Up-Display Klima</td>\n",
       "    </tr>\n",
       "    <tr>\n",
       "      <th>1</th>\n",
       "      <td>80184</td>\n",
       "      <td>hyundai</td>\n",
       "      <td>Hyundai i10</td>\n",
       "      <td>black</td>\n",
       "      <td>09/2018</td>\n",
       "      <td>2018</td>\n",
       "      <td>11555</td>\n",
       "      <td>49</td>\n",
       "      <td>67</td>\n",
       "      <td>Manual</td>\n",
       "      <td>Petrol</td>\n",
       "      <td>4,6 l/100 km</td>\n",
       "      <td>106 g/km</td>\n",
       "      <td>27782.0</td>\n",
       "      <td>blue Trend,Viele Extras,Top-Zustand</td>\n",
       "    </tr>\n",
       "    <tr>\n",
       "      <th>2</th>\n",
       "      <td>19864</td>\n",
       "      <td>audi</td>\n",
       "      <td>Audi Q4 e-tron</td>\n",
       "      <td>grey</td>\n",
       "      <td>05/2021</td>\n",
       "      <td>2021</td>\n",
       "      <td>48886</td>\n",
       "      <td>125</td>\n",
       "      <td>170</td>\n",
       "      <td>Automatic</td>\n",
       "      <td>Electric</td>\n",
       "      <td>NaN</td>\n",
       "      <td>0 g/km</td>\n",
       "      <td>4247.0</td>\n",
       "      <td>35 e-tron S line/Matrix/Pano/ACC/SONOS/LM 21</td>\n",
       "    </tr>\n",
       "    <tr>\n",
       "      <th>3</th>\n",
       "      <td>76699</td>\n",
       "      <td>honda</td>\n",
       "      <td>Honda CR-V</td>\n",
       "      <td>red</td>\n",
       "      <td>07/2018</td>\n",
       "      <td>2018</td>\n",
       "      <td>24490</td>\n",
       "      <td>114</td>\n",
       "      <td>155</td>\n",
       "      <td>Automatic</td>\n",
       "      <td>Petrol</td>\n",
       "      <td>7,5 l/100 km</td>\n",
       "      <td>175 g/km</td>\n",
       "      <td>57000.0</td>\n",
       "      <td>2.0 Lifestyle Plus Automatik Navi FAP</td>\n",
       "    </tr>\n",
       "    <tr>\n",
       "      <th>4</th>\n",
       "      <td>92991</td>\n",
       "      <td>kia</td>\n",
       "      <td>Kia Sportage</td>\n",
       "      <td>black</td>\n",
       "      <td>02/2023</td>\n",
       "      <td>2023</td>\n",
       "      <td>34990</td>\n",
       "      <td>110</td>\n",
       "      <td>150</td>\n",
       "      <td>Manual</td>\n",
       "      <td>Petrol</td>\n",
       "      <td>5,9 l/100 km</td>\n",
       "      <td>150 g/km</td>\n",
       "      <td>7500.0</td>\n",
       "      <td>1.6 T 48V 2WD Spirit LED, WR</td>\n",
       "    </tr>\n",
       "  </tbody>\n",
       "</table>\n",
       "</div>"
      ],
      "text/plain": [
       "   Unnamed: 0    brand           model  color registration_date  year  \\\n",
       "0       75721     ford       Ford Kuga  black           05/2023  2023   \n",
       "1       80184  hyundai     Hyundai i10  black           09/2018  2018   \n",
       "2       19864     audi  Audi Q4 e-tron   grey           05/2021  2021   \n",
       "3       76699    honda      Honda CR-V    red           07/2018  2018   \n",
       "4       92991      kia    Kia Sportage  black           02/2023  2023   \n",
       "\n",
       "  price_in_euro power_kw power_ps transmission_type fuel_type  \\\n",
       "0         38490      140      190         Automatic    Hybrid   \n",
       "1         11555       49       67            Manual    Petrol   \n",
       "2         48886      125      170         Automatic  Electric   \n",
       "3         24490      114      155         Automatic    Petrol   \n",
       "4         34990      110      150            Manual    Petrol   \n",
       "\n",
       "  fuel_consumption_l_100km fuel_consumption_g_km  mileage_in_km  \\\n",
       "0             5,4 l/100 km              124 g/km          100.0   \n",
       "1             4,6 l/100 km              106 g/km        27782.0   \n",
       "2                      NaN                0 g/km         4247.0   \n",
       "3             7,5 l/100 km              175 g/km        57000.0   \n",
       "4             5,9 l/100 km              150 g/km         7500.0   \n",
       "\n",
       "                                offer_description  \n",
       "0  ST-Line Hybrid Adapt.LED+Head-Up-Display Klima  \n",
       "1             blue Trend,Viele Extras,Top-Zustand  \n",
       "2    35 e-tron S line/Matrix/Pano/ACC/SONOS/LM 21  \n",
       "3           2.0 Lifestyle Plus Automatik Navi FAP  \n",
       "4                    1.6 T 48V 2WD Spirit LED, WR  "
      ]
     },
     "execution_count": 2,
     "metadata": {},
     "output_type": "execute_result"
    }
   ],
   "source": [
    "df = pd.read_csv(r\"C:\\Users\\HP\\OneDrive\\Desktop\\gcar_data.csv\")\n",
    "df.head()"
   ]
  },
  {
   "cell_type": "code",
   "execution_count": 3,
   "id": "5a05f577-e3e2-495c-b57a-e7c707b4654a",
   "metadata": {},
   "outputs": [
    {
     "data": {
      "text/plain": [
       "(100000, 15)"
      ]
     },
     "execution_count": 3,
     "metadata": {},
     "output_type": "execute_result"
    }
   ],
   "source": [
    "df.shape"
   ]
  },
  {
   "cell_type": "code",
   "execution_count": 4,
   "id": "21b4eb89-bc79-4816-9cc1-6cd6935e6d8c",
   "metadata": {},
   "outputs": [
    {
     "data": {
      "text/plain": [
       "Index(['Unnamed: 0', 'brand', 'model', 'color', 'registration_date', 'year',\n",
       "       'price_in_euro', 'power_kw', 'power_ps', 'transmission_type',\n",
       "       'fuel_type', 'fuel_consumption_l_100km', 'fuel_consumption_g_km',\n",
       "       'mileage_in_km', 'offer_description'],\n",
       "      dtype='object')"
      ]
     },
     "execution_count": 4,
     "metadata": {},
     "output_type": "execute_result"
    }
   ],
   "source": [
    "df.columns"
   ]
  },
  {
   "cell_type": "code",
   "execution_count": 5,
   "id": "827363a4-ed7b-4aeb-ac3a-9449e4fd00dc",
   "metadata": {},
   "outputs": [
    {
     "data": {
      "text/plain": [
       "Index(['brand', 'model', 'color', 'registration_date', 'year', 'price_in_euro',\n",
       "       'power_kw', 'power_ps', 'transmission_type', 'fuel_type',\n",
       "       'fuel_consumption_l_100km', 'fuel_consumption_g_km', 'mileage_in_km',\n",
       "       'offer_description'],\n",
       "      dtype='object')"
      ]
     },
     "execution_count": 5,
     "metadata": {},
     "output_type": "execute_result"
    }
   ],
   "source": [
    "df = df.drop(\"Unnamed: 0\" , axis = 1)\n",
    "df.columns"
   ]
  },
  {
   "cell_type": "code",
   "execution_count": 6,
   "id": "29f9eb6e-1fc3-4e36-8ac0-53c5679d4554",
   "metadata": {},
   "outputs": [
    {
     "data": {
      "text/plain": [
       "brand                           0\n",
       "model                           0\n",
       "color                          76\n",
       "registration_date               1\n",
       "year                            0\n",
       "price_in_euro                   0\n",
       "power_kw                       75\n",
       "power_ps                       72\n",
       "transmission_type               0\n",
       "fuel_type                       0\n",
       "fuel_consumption_l_100km    11239\n",
       "fuel_consumption_g_km           0\n",
       "mileage_in_km                  68\n",
       "offer_description               0\n",
       "dtype: int64"
      ]
     },
     "execution_count": 6,
     "metadata": {},
     "output_type": "execute_result"
    }
   ],
   "source": [
    "df.isna().sum()"
   ]
  },
  {
   "cell_type": "code",
   "execution_count": 7,
   "id": "db530a7d-f83f-47f0-8dbc-14a37903eab0",
   "metadata": {},
   "outputs": [],
   "source": [
    "df_clean = df"
   ]
  },
  {
   "cell_type": "markdown",
   "id": "71dd16f1-3663-465d-8354-c7841e911179",
   "metadata": {},
   "source": [
    "## 1. Handle Duplicates"
   ]
  },
  {
   "cell_type": "code",
   "execution_count": 8,
   "id": "f8532d27-4a5a-4982-b08d-772e21ded1ca",
   "metadata": {},
   "outputs": [
    {
     "data": {
      "text/plain": [
       "2752"
      ]
     },
     "execution_count": 8,
     "metadata": {},
     "output_type": "execute_result"
    }
   ],
   "source": [
    "df.duplicated().sum()\n"
   ]
  },
  {
   "cell_type": "code",
   "execution_count": 9,
   "id": "c5051a2e-ab79-4698-9d5e-bbdcb710bd69",
   "metadata": {},
   "outputs": [
    {
     "data": {
      "text/html": [
       "<div>\n",
       "<style scoped>\n",
       "    .dataframe tbody tr th:only-of-type {\n",
       "        vertical-align: middle;\n",
       "    }\n",
       "\n",
       "    .dataframe tbody tr th {\n",
       "        vertical-align: top;\n",
       "    }\n",
       "\n",
       "    .dataframe thead th {\n",
       "        text-align: right;\n",
       "    }\n",
       "</style>\n",
       "<table border=\"1\" class=\"dataframe\">\n",
       "  <thead>\n",
       "    <tr style=\"text-align: right;\">\n",
       "      <th></th>\n",
       "      <th>brand</th>\n",
       "      <th>model</th>\n",
       "      <th>color</th>\n",
       "      <th>registration_date</th>\n",
       "      <th>year</th>\n",
       "      <th>price_in_euro</th>\n",
       "      <th>power_kw</th>\n",
       "      <th>power_ps</th>\n",
       "      <th>transmission_type</th>\n",
       "      <th>fuel_type</th>\n",
       "      <th>fuel_consumption_l_100km</th>\n",
       "      <th>fuel_consumption_g_km</th>\n",
       "      <th>mileage_in_km</th>\n",
       "      <th>offer_description</th>\n",
       "    </tr>\n",
       "  </thead>\n",
       "  <tbody>\n",
       "    <tr>\n",
       "      <th>1068</th>\n",
       "      <td>fiat</td>\n",
       "      <td>Fiat 500e</td>\n",
       "      <td>grey</td>\n",
       "      <td>11/2022</td>\n",
       "      <td>2022</td>\n",
       "      <td>33490</td>\n",
       "      <td>87</td>\n",
       "      <td>118</td>\n",
       "      <td>Automatic</td>\n",
       "      <td>Electric</td>\n",
       "      <td>NaN</td>\n",
       "      <td>314 km Reichweite</td>\n",
       "      <td>99.0</td>\n",
       "      <td>BY BOCELLI 42 kWh CO-DRIVER PLUS WINTER LED</td>\n",
       "    </tr>\n",
       "    <tr>\n",
       "      <th>2660</th>\n",
       "      <td>ford</td>\n",
       "      <td>Ford Transit Custom</td>\n",
       "      <td>white</td>\n",
       "      <td>06/2023</td>\n",
       "      <td>2023</td>\n",
       "      <td>39850</td>\n",
       "      <td>96</td>\n",
       "      <td>131</td>\n",
       "      <td>Manual</td>\n",
       "      <td>Diesel</td>\n",
       "      <td>7,5 l/100 km</td>\n",
       "      <td>198 g/km</td>\n",
       "      <td>10.0</td>\n",
       "      <td>Kombi 320 L1 9-SITZE PDC*TEMP*KLIMA</td>\n",
       "    </tr>\n",
       "    <tr>\n",
       "      <th>2885</th>\n",
       "      <td>ford</td>\n",
       "      <td>Ford Transit Custom</td>\n",
       "      <td>white</td>\n",
       "      <td>06/2023</td>\n",
       "      <td>2023</td>\n",
       "      <td>39850</td>\n",
       "      <td>96</td>\n",
       "      <td>131</td>\n",
       "      <td>Manual</td>\n",
       "      <td>Diesel</td>\n",
       "      <td>7,5 l/100 km</td>\n",
       "      <td>198 g/km</td>\n",
       "      <td>10.0</td>\n",
       "      <td>Kombi 320 L1 9-SITZE PDC*TEMP*KLIMA</td>\n",
       "    </tr>\n",
       "    <tr>\n",
       "      <th>3160</th>\n",
       "      <td>fiat</td>\n",
       "      <td>Fiat Doblo</td>\n",
       "      <td>white</td>\n",
       "      <td>03/2023</td>\n",
       "      <td>2023</td>\n",
       "      <td>24899</td>\n",
       "      <td>74</td>\n",
       "      <td>101</td>\n",
       "      <td>Manual</td>\n",
       "      <td>Diesel</td>\n",
       "      <td>5,7 l/100 km</td>\n",
       "      <td>150 g/km</td>\n",
       "      <td>10.0</td>\n",
       "      <td>Multicab L2 1.5 Blue HDI 100PS Klima</td>\n",
       "    </tr>\n",
       "    <tr>\n",
       "      <th>3631</th>\n",
       "      <td>audi</td>\n",
       "      <td>Audi A3</td>\n",
       "      <td>blue</td>\n",
       "      <td>05/2023</td>\n",
       "      <td>2023</td>\n",
       "      <td>39288</td>\n",
       "      <td>110</td>\n",
       "      <td>150</td>\n",
       "      <td>Manual</td>\n",
       "      <td>Diesel</td>\n",
       "      <td>4,3 l/100 km</td>\n",
       "      <td>112 g/km</td>\n",
       "      <td>10.0</td>\n",
       "      <td>Lim 35 TDI 150 2xS line Nav LED Keyl SHZ PDC</td>\n",
       "    </tr>\n",
       "    <tr>\n",
       "      <th>3670</th>\n",
       "      <td>ford</td>\n",
       "      <td>Ford Kuga</td>\n",
       "      <td>grey</td>\n",
       "      <td>04/2023</td>\n",
       "      <td>2023</td>\n",
       "      <td>39890</td>\n",
       "      <td>140</td>\n",
       "      <td>190</td>\n",
       "      <td>Automatic</td>\n",
       "      <td>Hybrid</td>\n",
       "      <td>5,4 l/100 km</td>\n",
       "      <td>123 g/km</td>\n",
       "      <td>59.0</td>\n",
       "      <td>ST-Line X 2.5l FHEV HEAD-UP,B&amp;O,NAVI,iACC,</td>\n",
       "    </tr>\n",
       "    <tr>\n",
       "      <th>3725</th>\n",
       "      <td>audi</td>\n",
       "      <td>Audi Q2</td>\n",
       "      <td>red</td>\n",
       "      <td>06/2023</td>\n",
       "      <td>2023</td>\n",
       "      <td>28888</td>\n",
       "      <td>81</td>\n",
       "      <td>110</td>\n",
       "      <td>Manual</td>\n",
       "      <td>Petrol</td>\n",
       "      <td>5,2 l/100 km</td>\n",
       "      <td>132 g/km</td>\n",
       "      <td>10.0</td>\n",
       "      <td>30TFSI 110 adv. Nav CarPlay Klimaaut elHK PDC</td>\n",
       "    </tr>\n",
       "    <tr>\n",
       "      <th>3961</th>\n",
       "      <td>jeep</td>\n",
       "      <td>Jeep Compass</td>\n",
       "      <td>black</td>\n",
       "      <td>02/2023</td>\n",
       "      <td>2023</td>\n",
       "      <td>44990</td>\n",
       "      <td>96</td>\n",
       "      <td>131</td>\n",
       "      <td>Automatic</td>\n",
       "      <td>Hybrid</td>\n",
       "      <td>5,8 l/100 km</td>\n",
       "      <td>133 g/km</td>\n",
       "      <td>50.0</td>\n",
       "      <td>1.5 S MHEV GSE T4 48V +Panorama/e-sitze/LEDER/...</td>\n",
       "    </tr>\n",
       "    <tr>\n",
       "      <th>4187</th>\n",
       "      <td>isuzu</td>\n",
       "      <td>Isuzu D-Max</td>\n",
       "      <td>black</td>\n",
       "      <td>05/2023</td>\n",
       "      <td>2023</td>\n",
       "      <td>46988</td>\n",
       "      <td>120</td>\n",
       "      <td>163</td>\n",
       "      <td>Automatic</td>\n",
       "      <td>Diesel</td>\n",
       "      <td>7,4 l/100 km</td>\n",
       "      <td>235 g/km</td>\n",
       "      <td>10.0</td>\n",
       "      <td>DC 1.9 TD 163 Aut. 4WD V-Cross LED SHZ PDC</td>\n",
       "    </tr>\n",
       "    <tr>\n",
       "      <th>4219</th>\n",
       "      <td>ford</td>\n",
       "      <td>Ford Ranger</td>\n",
       "      <td>white</td>\n",
       "      <td>06/2023</td>\n",
       "      <td>2023</td>\n",
       "      <td>44390</td>\n",
       "      <td>151</td>\n",
       "      <td>205</td>\n",
       "      <td>Automatic</td>\n",
       "      <td>Diesel</td>\n",
       "      <td>8,8 l/100 km</td>\n",
       "      <td>230 g/km</td>\n",
       "      <td>10.0</td>\n",
       "      <td>Wildtrak 2.0 *NEUES MODELL*NAVI*CAM*LED*</td>\n",
       "    </tr>\n",
       "  </tbody>\n",
       "</table>\n",
       "</div>"
      ],
      "text/plain": [
       "      brand                model  color registration_date  year price_in_euro  \\\n",
       "1068   fiat            Fiat 500e   grey           11/2022  2022         33490   \n",
       "2660   ford  Ford Transit Custom  white           06/2023  2023         39850   \n",
       "2885   ford  Ford Transit Custom  white           06/2023  2023         39850   \n",
       "3160   fiat           Fiat Doblo  white           03/2023  2023         24899   \n",
       "3631   audi              Audi A3   blue           05/2023  2023         39288   \n",
       "3670   ford            Ford Kuga   grey           04/2023  2023         39890   \n",
       "3725   audi              Audi Q2    red           06/2023  2023         28888   \n",
       "3961   jeep         Jeep Compass  black           02/2023  2023         44990   \n",
       "4187  isuzu          Isuzu D-Max  black           05/2023  2023         46988   \n",
       "4219   ford          Ford Ranger  white           06/2023  2023         44390   \n",
       "\n",
       "     power_kw power_ps transmission_type fuel_type fuel_consumption_l_100km  \\\n",
       "1068       87      118         Automatic  Electric                      NaN   \n",
       "2660       96      131            Manual    Diesel             7,5 l/100 km   \n",
       "2885       96      131            Manual    Diesel             7,5 l/100 km   \n",
       "3160       74      101            Manual    Diesel             5,7 l/100 km   \n",
       "3631      110      150            Manual    Diesel             4,3 l/100 km   \n",
       "3670      140      190         Automatic    Hybrid             5,4 l/100 km   \n",
       "3725       81      110            Manual    Petrol             5,2 l/100 km   \n",
       "3961       96      131         Automatic    Hybrid             5,8 l/100 km   \n",
       "4187      120      163         Automatic    Diesel             7,4 l/100 km   \n",
       "4219      151      205         Automatic    Diesel             8,8 l/100 km   \n",
       "\n",
       "     fuel_consumption_g_km  mileage_in_km  \\\n",
       "1068     314 km Reichweite           99.0   \n",
       "2660              198 g/km           10.0   \n",
       "2885              198 g/km           10.0   \n",
       "3160              150 g/km           10.0   \n",
       "3631              112 g/km           10.0   \n",
       "3670              123 g/km           59.0   \n",
       "3725              132 g/km           10.0   \n",
       "3961              133 g/km           50.0   \n",
       "4187              235 g/km           10.0   \n",
       "4219              230 g/km           10.0   \n",
       "\n",
       "                                      offer_description  \n",
       "1068        BY BOCELLI 42 kWh CO-DRIVER PLUS WINTER LED  \n",
       "2660                Kombi 320 L1 9-SITZE PDC*TEMP*KLIMA  \n",
       "2885                Kombi 320 L1 9-SITZE PDC*TEMP*KLIMA  \n",
       "3160               Multicab L2 1.5 Blue HDI 100PS Klima  \n",
       "3631       Lim 35 TDI 150 2xS line Nav LED Keyl SHZ PDC  \n",
       "3670         ST-Line X 2.5l FHEV HEAD-UP,B&O,NAVI,iACC,  \n",
       "3725      30TFSI 110 adv. Nav CarPlay Klimaaut elHK PDC  \n",
       "3961  1.5 S MHEV GSE T4 48V +Panorama/e-sitze/LEDER/...  \n",
       "4187         DC 1.9 TD 163 Aut. 4WD V-Cross LED SHZ PDC  \n",
       "4219           Wildtrak 2.0 *NEUES MODELL*NAVI*CAM*LED*  "
      ]
     },
     "execution_count": 9,
     "metadata": {},
     "output_type": "execute_result"
    }
   ],
   "source": [
    "df[df.duplicated()].head(10)\n"
   ]
  },
  {
   "cell_type": "code",
   "execution_count": 10,
   "id": "272c06dc-e721-44dc-8643-6588a998823e",
   "metadata": {},
   "outputs": [],
   "source": [
    "df = df.drop_duplicates(subset=[\"brand\", \"model\", \"year\", \"power_kw\", \"transmission_type\", \"fuel_type\", \"price_in_euro\"])\n"
   ]
  },
  {
   "cell_type": "code",
   "execution_count": 11,
   "id": "039351ba-1654-4182-9a6f-353c8f41ee86",
   "metadata": {},
   "outputs": [
    {
     "data": {
      "text/plain": [
       "0"
      ]
     },
     "execution_count": 11,
     "metadata": {},
     "output_type": "execute_result"
    }
   ],
   "source": [
    "df.duplicated().sum()\n"
   ]
  },
  {
   "cell_type": "markdown",
   "id": "041ffd40-00a9-4f0e-bb32-dc24e4b5f9d4",
   "metadata": {},
   "source": [
    "## 2. Handling Missing Values and Column wise cleaning"
   ]
  },
  {
   "cell_type": "markdown",
   "id": "a0f359b5-7502-4fc7-9215-464c7ed5629f",
   "metadata": {},
   "source": [
    "### 1) Column Brand"
   ]
  },
  {
   "cell_type": "code",
   "execution_count": 12,
   "id": "627dba3a-c721-496e-a781-92e00b49f33d",
   "metadata": {},
   "outputs": [
    {
     "data": {
      "text/plain": [
       "array(['ford', 'hyundai', 'audi', 'honda', 'kia', 'dacia', 'bmw',\n",
       "       'citroen', 'alfa-romeo', 'land-rover', 'jaguar', 'dodge', 'fiat',\n",
       "       'lamborghini', 'mazda', 'isuzu', 'jeep', 'ferrari', 'bentley',\n",
       "       'maserati', 'daihatsu', 'chevrolet', 'aston-martin', 'cadillac',\n",
       "       'daewoo', 'chrysler', 'lancia', 'lada', 'infiniti'], dtype=object)"
      ]
     },
     "execution_count": 12,
     "metadata": {},
     "output_type": "execute_result"
    }
   ],
   "source": [
    "df_clean[\"brand\"].unique()"
   ]
  },
  {
   "cell_type": "code",
   "execution_count": 13,
   "id": "1a474161-6354-42f8-b192-ca616f45eeaa",
   "metadata": {},
   "outputs": [],
   "source": [
    "def clean_brand_name(name):\n",
    "    name = name.lower().strip()\n",
    "    return name"
   ]
  },
  {
   "cell_type": "code",
   "execution_count": 14,
   "id": "5b567175-f975-428e-8cc9-eb4c17cb1c76",
   "metadata": {},
   "outputs": [
    {
     "data": {
      "text/plain": [
       "array(['ford', 'hyundai', 'audi', 'honda', 'kia', 'dacia', 'bmw',\n",
       "       'citroen', 'alfa-romeo', 'land-rover', 'jaguar', 'dodge', 'fiat',\n",
       "       'lamborghini', 'mazda', 'isuzu', 'jeep', 'ferrari', 'bentley',\n",
       "       'maserati', 'daihatsu', 'chevrolet', 'aston-martin', 'cadillac',\n",
       "       'daewoo', 'chrysler', 'lancia', 'lada', 'infiniti'], dtype=object)"
      ]
     },
     "execution_count": 14,
     "metadata": {},
     "output_type": "execute_result"
    }
   ],
   "source": [
    "df_clean[\"brand\"] = df_clean[\"brand\"].astype(str).apply(clean_brand_name)\n",
    "df_clean[\"brand\"].unique()"
   ]
  },
  {
   "cell_type": "code",
   "execution_count": 15,
   "id": "f055c189-cf25-4993-b772-8284d4e21796",
   "metadata": {},
   "outputs": [
    {
     "data": {
      "text/plain": [
       "0"
      ]
     },
     "execution_count": 15,
     "metadata": {},
     "output_type": "execute_result"
    }
   ],
   "source": [
    "df_clean[\"brand\"].isna().sum()"
   ]
  },
  {
   "cell_type": "markdown",
   "id": "55d6d929-c541-4c70-aa37-c2ab58ff356e",
   "metadata": {},
   "source": [
    "### 2) Column Model"
   ]
  },
  {
   "cell_type": "code",
   "execution_count": 16,
   "id": "43a0bca6-bee3-4c27-9440-0b1cd7e65c0a",
   "metadata": {},
   "outputs": [
    {
     "data": {
      "text/plain": [
       "array(['Ford Kuga', 'Hyundai i10', 'Audi Q4 e-tron', 'Honda CR-V',\n",
       "       'Kia Sportage', 'Honda Civic', 'Hyundai STARIA', 'Hyundai KONA',\n",
       "       'Ford Fiesta', 'Dacia Sandero', 'BMW 520', 'BMW X5',\n",
       "       'Citroen Spacetourer', 'Audi A5', 'Audi A3', 'Kia',\n",
       "       'Alfa Romeo 147', 'Audi A4', 'Ford Focus', 'Ford EcoSport',\n",
       "       'Ford Transit', 'Audi A6', 'Hyundai IONIQ', 'Audi Q5',\n",
       "       'Land Rover Range Rover Sport', 'Kia XCeed', 'BMW X1',\n",
       "       'Hyundai TUCSON', 'Jaguar F-Pace', 'BMW 730', 'BMW 118',\n",
       "       'Land Rover Range Rover Evoque', 'Audi A1', 'Kia Optima',\n",
       "       'BMW 550', 'BMW 114', 'Dodge RAM', 'Ford S-Max', 'Audi A8',\n",
       "       'BMW M2', 'Audi Q3', 'BMW 218', 'Fiat 124 Spider', 'BMW 225',\n",
       "       'Lamborghini Huracan', 'Mazda CX-7', 'Alfa Romeo Stelvio',\n",
       "       'Ford C-Max', 'BMW 430', 'Hyundai i40', 'Citroen C5 Aircross',\n",
       "       'BMW 525', 'Isuzu D-Max', 'Alfa Romeo Giulietta', 'BMW X3',\n",
       "       'Dacia Duster', 'Mazda CX-5', 'BMW i3', 'BMW X6', 'Ford F 150',\n",
       "       'Jeep Compass', 'Mazda CX-3', 'Fiat 500C', 'Ford Edge',\n",
       "       'Dacia Logan', 'Fiat Tipo', 'Audi SQ5', 'Audi RS Q8', 'Kia Niro',\n",
       "       'Fiat 500', 'BMW 535', 'Ferrari F8 Tributo', 'Kia Sorento',\n",
       "       'Citroen Berlingo', 'Audi A4 allroad', 'Lamborghini Aventador',\n",
       "       'Land Rover Range Rover', 'Kia Stonic', 'Ford Transit Custom',\n",
       "       'Ford Mondeo', 'BMW M4', 'Jeep Renegade', 'Hyundai i30', 'BMW 120',\n",
       "       \"Kia Ceed / cee'd\", 'BMW Z4', 'Hyundai i20', 'BMW X3 M', 'BMW X4',\n",
       "       'BMW 530', 'Mazda 6', 'Audi Q2', 'Fiat Ducato', 'BMW 320',\n",
       "       'Alfa Romeo Giulia', 'Audi TT RS', 'BMW 135', 'Audi Q7', 'BMW 318',\n",
       "       'Bentley Continental', 'Maserati Ghibli', 'Bentley Mulsanne',\n",
       "       'Audi TT', 'BMW 420', 'Dacia Dokker', 'Jeep Grand Cherokee',\n",
       "       'Kia Rio', 'Dacia Spring', 'BMW 116', 'Ford Tourneo Custom',\n",
       "       'Dacia', 'Kia Picanto', 'BMW 325', 'Audi A6 allroad', 'Ford Crown',\n",
       "       'Ford Fusion', 'BMW', 'Citroen C3', 'Audi A2', 'Fiat Doblo',\n",
       "       'BMW X5 M', 'Kia Soul', 'Ford Mustang', 'BMW 340', 'BMW 125',\n",
       "       'Land Rover Discovery Sport', 'Fiat 500e', 'BMW 316',\n",
       "       'Dacia Jogger', 'BMW 335', 'Hyundai', 'Ford Ranger',\n",
       "       'Ford Focus C-Max', 'Audi RS3', 'Hyundai H-1',\n",
       "       \"Kia Ceed SW / cee'd SW\", 'Ferrari California', 'BMW 540',\n",
       "       'Jeep Wrangler', 'Audi RS4', 'Ford', 'Ford Ka/Ka+', 'BMW M3',\n",
       "       'Ford Puma', 'Land Rover Defender', 'Ford Tourneo Connect',\n",
       "       'Audi RS7', 'Citroen', 'Mazda MX-5', 'Citroen C5', 'BMW 330',\n",
       "       'Jaguar XF', 'Audi S4', 'Ford Galaxy', 'BMW M5', 'Fiat Fiorino',\n",
       "       'Citroen Grand C4 Picasso', 'Alfa Romeo Spider', 'Citroen C1',\n",
       "       'Daihatsu Sirion', 'Alfa Romeo 166', 'Hyundai Getz',\n",
       "       'Citroen C3 Picasso', 'BMW 220', 'Alfa Romeo Tonale',\n",
       "       'Maserati Levante', 'Fiat Punto', 'Jaguar XE', 'BMW Z4 M',\n",
       "       'Fiat 500X', 'BMW 435', 'Jaguar E-Pace', 'BMW 216', 'Ferrari',\n",
       "       'BMW X2', 'BMW 645', 'Chevrolet Camaro', 'Hyundai SANTA FE',\n",
       "       'Audi RS5', 'Fiat Punto Evo', 'BMW 523', 'Ford Tourneo',\n",
       "       'Ford Tourneo Courier', 'BMW X6 M', 'Land Rover Range Rover Velar',\n",
       "       'Audi SQ7', 'Audi S1', 'Aston Martin DB9', 'Ferrari 488',\n",
       "       'Fiat Panda', 'Ford Courier', 'Alfa Romeo MiTo', 'Audi R8',\n",
       "       'Hyundai BAYON', 'BMW M8', 'BMW 750', 'Bentley Continental GT',\n",
       "       'Ford Transit Courier', 'BMW 240', 'Audi RS Q3', 'Alfa Romeo 159',\n",
       "       'Aston Martin Vanquish', 'Fiat 500L', 'Ford Mustang Mach-E',\n",
       "       'Citroen Jumper', 'Ferrari 599', 'Jaguar I-Pace', 'BMW 640',\n",
       "       'Chevrolet C1500', 'Citroen C4', 'Land Rover Discovery',\n",
       "       \"Kia ProCeed / pro_cee'd\", 'Kia Carens', 'Audi S5', 'BMW X7',\n",
       "       'BMW 650', 'Audi A7', 'Audi S8', 'Daihatsu Copen', 'Fiat Scudo',\n",
       "       'Hyundai iX20', 'BMW 140', 'Ford Transit Connect', 'Ford B-Max',\n",
       "       'Audi Allroad', 'BMW 440', 'Ford Grand C-Max', 'BMW i8',\n",
       "       'Citroen DS3', 'Fiat Talento', 'Ferrari 812', 'Jeep Gladiator',\n",
       "       'BMW 123', 'Dacia Lodgy', 'BMW Z3', 'Audi TTS', 'Fiat',\n",
       "       'Hyundai iX35', 'Citroen C-Zero', 'Citroen C5 X', 'Kia Stinger',\n",
       "       'Hyundai IONIQ 5', 'Kia Venga', 'Citroen Grand C4 SpaceTourer',\n",
       "       'Ferrari SF90 Stradale', 'Mazda 2', 'Audi e-tron',\n",
       "       'Cadillac Escalade', 'Maserati GranTurismo', 'BMW M850',\n",
       "       'Citroen C3 Aircross', 'Lamborghini Urus', 'Aston Martin DB11',\n",
       "       'Kia EV6', 'Maserati Quattroporte', 'Daihatsu Terios', 'Audi Q8',\n",
       "       'Daewoo Kalos', 'Kia Opirus', 'Ferrari GTC4 Lusso',\n",
       "       'Dodge Challenger', 'Mazda 3', 'Aston Martin Vantage',\n",
       "       'Audi e-tron GT', 'Chrysler Pacifica', 'Audi Q8 e-tron',\n",
       "       'Bentley Brooklands', 'Lamborghini Murciélago', 'BMW 740',\n",
       "       'Lamborghini Gallardo', 'Ferrari 458', 'BMW iX', 'Audi S3',\n",
       "       'Audi S6', 'Cadillac CTS', 'BMW 528', 'BMW M6', 'Daewoo Matiz',\n",
       "       'BMW i4', 'Bentley Continental GTC', 'BMW 425', 'Honda Jazz',\n",
       "       'Dodge Durango', 'Alfa Romeo GTV', 'Bentley Flying Spur',\n",
       "       'Daihatsu Cuore', 'Lancia Voyager', 'BMW 428', 'Honda e', 'Audi',\n",
       "       'Ferrari F8 Spider', 'Fiat Grande Punto', 'Jaguar F-Type',\n",
       "       'Bentley Bentayga', 'BMW 323', 'Ferrari 550', 'Citroen DS4',\n",
       "       'Citroen C4 Cactus', 'Citroen Nemo', 'BMW 235', 'Mazda CX-30',\n",
       "       'Ferrari FF', 'Ford Streetka', 'Audi RS6', 'Chevrolet Cruze',\n",
       "       'Citroen C4 SpaceTourer', 'BMW 328', 'Ferrari Portofino',\n",
       "       'Lada Vesta', 'BMW 1er M Coupé', 'BMW 745', 'Infiniti Q30',\n",
       "       'Jeep Cherokee', 'BMW 735', 'Ford Grand Tourneo',\n",
       "       'Hyundai IONIQ 6', 'Bentley Azure', 'Fiat Qubo', 'Citroen Jumpy',\n",
       "       'Lada Kalina', 'BMW 760', 'Honda NSX', 'Citroen C4 Picasso',\n",
       "       'BMW iX1', 'Ferrari 360', 'Maserati GranCabrio', 'Alfa Romeo 156',\n",
       "       'Infiniti G37', 'BMW X4 M', 'BMW 635', 'Fiat E-Doblo',\n",
       "       'Ford Explorer', 'Alfa Romeo Brera', 'BMW 630', 'Jeep Patriot',\n",
       "       'Infiniti QX70', 'Chevrolet Trailblazer', 'Fiat Freemont',\n",
       "       'Bentley', 'Lada Taiga', 'Honda HR-V', 'Infiniti QX60',\n",
       "       'Jeep Avenger', 'Ferrari F430', 'Lada Niva',\n",
       "       'Land Rover Freelander', 'BMW Z3 M', 'Lamborghini',\n",
       "       'Ford Ranger Raptor', 'Ferrari Roma', 'Chevrolet Silverado',\n",
       "       'Ferrari 456', 'Ferrari 612', 'Audi S7', 'Mazda 5',\n",
       "       'Chevrolet Chevy Van', 'Hyundai NEXO', 'Daihatsu YRV', 'Audi SQ8',\n",
       "       'Dodge Grand Caravan', 'Maserati 4200', 'Fiat 595 Abarth',\n",
       "       'Maserati MC20', 'Maserati Grecale', 'Mazda', 'Audi Cabriolet',\n",
       "       'Hyundai Atos', 'Cadillac XT4', 'Daewoo Lanos', 'Cadillac STS',\n",
       "       'Infiniti Q50', 'Citroen E-C4 Electric', 'BMW 545', 'BMW 214',\n",
       "       'Fiat New Panda', 'Daewoo Nubira', 'Ford F 250', 'Aston Martin V8',\n",
       "       'Lancia Ypsilon', 'Lancia MUSA', 'Fiat Ulysse', 'Ford Maverick',\n",
       "       'Citroen C8', 'Kia e-Niro', 'BMW Z8', 'Cadillac CT6', 'BMW 230',\n",
       "       'Dodge Charger', 'Lancia Y', 'Dodge Caliber', 'BMW X2 M',\n",
       "       'Maserati 3200', 'Fiat Fullback', 'Hyundai KONA Elektro',\n",
       "       'Aston Martin DBX', 'Fiat Idea', 'BMW 223', 'Hyundai H 350',\n",
       "       'Audi SQ2', 'Ford Transit Bus', 'Fiat Sedici', 'Lada Urban',\n",
       "       'Bentley Arnage', 'Ferrari 575', 'BMW iX3', 'Cadillac XT6',\n",
       "       'Hyundai VELOSTER', 'Infiniti FX', 'Citroen C-Crosser',\n",
       "       'Lancia Flavia', 'Aston Martin DB7', 'Chevrolet Tahoe',\n",
       "       'Cadillac SRX', 'Citroen C4 Aircross', 'Lancia Lybra',\n",
       "       'Ford Expedition', 'Cadillac XT5', 'Ford Focus CC',\n",
       "       'Alfa Romeo 4C', 'Chevrolet Trax', 'BMW 728', 'Cadillac ATS',\n",
       "       'BMW XM', 'Aston Martin DBS', 'Infiniti M30', 'Citroen C6',\n",
       "       'Daihatsu Trevis', 'Citroen C2', 'BMW 850',\n",
       "       'Citroen Xsara Picasso', 'Ferrari F355', 'Ferrari SF90 Spider',\n",
       "       'BMW 518', 'Maserati Spyder', 'Aston Martin', 'Daewoo Lacetti',\n",
       "       'Daihatsu Move', 'Lada 111', 'BMW 840', 'BMW X7 M',\n",
       "       'Dacia Pick Up', 'Lancia Delta', 'Alfa Romeo', 'Lada Granta',\n",
       "       'BMW 418', 'Ford Escort', 'Ferrari 430 Scuderia', 'Lancia Thesis',\n",
       "       'Jaguar X-Type', 'Hyundai Coupe', 'BMW M550', 'Jaguar XJ',\n",
       "       'Ferrari F12', 'Maserati', 'Alfa Romeo Alfa 6',\n",
       "       'Hyundai Grand Santa Fe', 'Fiat Bravo', 'BMW 228',\n",
       "       'Ford E-Transit', 'Infiniti Q60', 'Lancia Phedra', 'Fiat Croma',\n",
       "       'Kia Carnival', 'Infiniti QX30', 'Alfa Romeo GT', 'Honda Insight',\n",
       "       'Cadillac Seville', 'Ford Taurus', 'Aston Martin Rapide', 'Isuzu',\n",
       "       'BMW 128', 'Citroen E-C4 X', 'Citroen C-Elysée', 'Lada 4x4',\n",
       "       'Citroen DS5', 'Citroen DS', 'Hyundai Matrix', 'Audi 80',\n",
       "       'Dodge Journey', 'Chevrolet Captiva', 'BMW Active Hybrid 7',\n",
       "       'Cadillac BLS', 'Jaguar XKR', 'Dodge Nitro', 'Hyundai Genesis',\n",
       "       'Chevrolet Kalos', 'Infiniti QX80', 'Infiniti Q70',\n",
       "       'Chevrolet Suburban', 'Daihatsu Materia', 'Maserati GranSport',\n",
       "       'Daihatsu Applause', 'Audi 50', 'Hyundai ELANTRA', 'Ford F 350',\n",
       "       'Daihatsu Charade', 'Ford Bronco', 'Ford Windstar', 'Lancia ZETA',\n",
       "       'Daewoo Rezzo', 'Chevrolet Colorado', 'Jaguar XK',\n",
       "       'Chevrolet Orlando', 'Honda Accord', 'Kia Cerato', 'Lancia Thema',\n",
       "       'Isuzu Trooper', 'Chevrolet Matiz', 'Chevrolet Express',\n",
       "       'Alfa Romeo 164', 'Daewoo Evanda', 'Chevrolet Corvette', 'BMW 620',\n",
       "       'Maserati Coupe', 'Fiat Multipla', 'Alfa Romeo Sportwagon',\n",
       "       'Ferrari 348', 'Jeep Wagoneer', 'Infiniti EX30', 'Ford M',\n",
       "       'Fiat Linea', 'Alfa Romeo 145', 'Hyundai Genesis Coupe',\n",
       "       'Ford Flex', 'Aston Martin Lagonda', 'BMW i7',\n",
       "       'Aston Martin Virage', 'Infiniti M37', 'Lancia Kappa',\n",
       "       'Fiat Stilo', 'Chevrolet Aveo', 'Cadillac', 'Hyundai ACCENT',\n",
       "       'Kia Shuma', 'Citroen Xantia', 'Audi QUATTRO', 'Dodge Avenger',\n",
       "       'Cadillac Eldorado', 'Infiniti EX35', 'Daewoo Tacuma', 'BMW i5',\n",
       "       'Alfa Romeo 8C', 'Hyundai Terracan', 'Citroen Ami',\n",
       "       'Infiniti EX37', 'Chrysler Ram Van', 'Lamborghini Diablo',\n",
       "       'BMW 130', 'Honda Odyssey', 'Jeep', 'Ford GT', 'Citroen Xsara',\n",
       "       'Chevrolet Spark', 'Ferrari 296', 'Mazda BT-50', 'Audi RS',\n",
       "       'Chevrolet 2500', 'BMW M1', 'Daewoo Espero', 'Jeep Commander',\n",
       "       'Ford Gran Torino', 'Chevrolet Blazer', 'Land Rover',\n",
       "       'Infiniti QX50', 'Chevrolet Bolt', 'Infiniti M35', 'Mazda 323',\n",
       "       'Bentley Turbo R', 'Hyundai SONATA', 'Lada Priora',\n",
       "       'Fiat Seicento', 'Lancia Dedra', 'BMW Active Hybrid 3',\n",
       "       'Ferrari 512', 'Alfa Romeo 155', 'Lada', 'Kia Joice',\n",
       "       'Mazda Tribute', 'Chrysler 200', 'Lada Nova', 'Mazda RX-8',\n",
       "       'Alfa Romeo 146', 'Ford Probe', 'BMW 725', 'Hyundai iX55',\n",
       "       'Fiat Strada', 'Citroen C35', 'Honda Stream', 'Mazda CX-9',\n",
       "       'Ferrari Mondial'], dtype=object)"
      ]
     },
     "execution_count": 16,
     "metadata": {},
     "output_type": "execute_result"
    }
   ],
   "source": [
    "df_clean[\"model\"].unique()"
   ]
  },
  {
   "cell_type": "code",
   "execution_count": null,
   "id": "f13c7e9c-7146-49b9-a9f1-aee179689ba8",
   "metadata": {},
   "outputs": [],
   "source": []
  },
  {
   "cell_type": "code",
   "execution_count": 17,
   "id": "55ba89e5-9fb2-4d86-88b3-18282c2c132b",
   "metadata": {
    "scrolled": true
   },
   "outputs": [
    {
     "data": {
      "text/plain": [
       "array(['ford_kuga', 'hyundai_i10', 'audi_q4_e-tron', 'honda_cr-v',\n",
       "       'kia_sportage', 'honda_civic', 'hyundai_staria', 'hyundai_kona',\n",
       "       'ford_fiesta', 'dacia_sandero', 'bmw_520', 'bmw_x5',\n",
       "       'citroen_spacetourer', 'audi_a5', 'audi_a3', 'kia',\n",
       "       'alfa_romeo_147', 'audi_a4', 'ford_focus', 'ford_ecosport',\n",
       "       'ford_transit', 'audi_a6', 'hyundai_ioniq', 'audi_q5',\n",
       "       'land_rover_range_rover_sport', 'kia_xceed', 'bmw_x1',\n",
       "       'hyundai_tucson', 'jaguar_f-pace', 'bmw_730', 'bmw_118',\n",
       "       'land_rover_range_rover_evoque', 'audi_a1', 'kia_optima',\n",
       "       'bmw_550', 'bmw_114', 'dodge_ram', 'ford_s-max', 'audi_a8',\n",
       "       'bmw_m2', 'audi_q3', 'bmw_218', 'fiat_124_spider', 'bmw_225',\n",
       "       'lamborghini_huracan', 'mazda_cx-7', 'alfa_romeo_stelvio',\n",
       "       'ford_c-max', 'bmw_430', 'hyundai_i40', 'citroen_c5_aircross',\n",
       "       'bmw_525', 'isuzu_d-max', 'alfa_romeo_giulietta', 'bmw_x3',\n",
       "       'dacia_duster', 'mazda_cx-5', 'bmw_i3', 'bmw_x6', 'ford_f_150',\n",
       "       'jeep_compass', 'mazda_cx-3', 'fiat_500c', 'ford_edge',\n",
       "       'dacia_logan', 'fiat_tipo', 'audi_sq5', 'audi_rs_q8', 'kia_niro',\n",
       "       'fiat_500', 'bmw_535', 'ferrari_f8_tributo', 'kia_sorento',\n",
       "       'citroen_berlingo', 'audi_a4_allroad', 'lamborghini_aventador',\n",
       "       'land_rover_range_rover', 'kia_stonic', 'ford_transit_custom',\n",
       "       'ford_mondeo', 'bmw_m4', 'jeep_renegade', 'hyundai_i30', 'bmw_120',\n",
       "       'kia_ceed_', 'bmw_z4', 'hyundai_i20', 'bmw_x3_m', 'bmw_x4',\n",
       "       'bmw_530', 'mazda_6', 'audi_q2', 'fiat_ducato', 'bmw_320',\n",
       "       'alfa_romeo_giulia', 'audi_tt_rs', 'bmw_135', 'audi_q7', 'bmw_318',\n",
       "       'bentley_continental', 'maserati_ghibli', 'bentley_mulsanne',\n",
       "       'audi_tt', 'bmw_420', 'dacia_dokker', 'jeep_grand_cherokee',\n",
       "       'kia_rio', 'dacia_spring', 'bmw_116', 'ford_tourneo_custom',\n",
       "       'dacia', 'kia_picanto', 'bmw_325', 'audi_a6_allroad', 'ford_crown',\n",
       "       'ford_fusion', 'bmw', 'citroen_c3', 'audi_a2', 'fiat_doblo',\n",
       "       'bmw_x5_m', 'kia_soul', 'ford_mustang', 'bmw_340', 'bmw_125',\n",
       "       'land_rover_discovery_sport', 'fiat_500e', 'bmw_316',\n",
       "       'dacia_jogger', 'bmw_335', 'hyundai', 'ford_ranger',\n",
       "       'ford_focus_c-max', 'audi_rs3', 'hyundai_h-1', 'kia_ceed_sw_',\n",
       "       'ferrari_california', 'bmw_540', 'jeep_wrangler', 'audi_rs4',\n",
       "       'ford', 'ford_ka', 'bmw_m3', 'ford_puma', 'land_rover_defender',\n",
       "       'ford_tourneo_connect', 'audi_rs7', 'citroen', 'mazda_mx-5',\n",
       "       'citroen_c5', 'bmw_330', 'jaguar_xf', 'audi_s4', 'ford_galaxy',\n",
       "       'bmw_m5', 'fiat_fiorino', 'citroen_grand_c4_picasso',\n",
       "       'alfa_romeo_spider', 'citroen_c1', 'daihatsu_sirion',\n",
       "       'alfa_romeo_166', 'hyundai_getz', 'citroen_c3_picasso', 'bmw_220',\n",
       "       'alfa_romeo_tonale', 'maserati_levante', 'fiat_punto', 'jaguar_xe',\n",
       "       'bmw_z4_m', 'fiat_500x', 'bmw_435', 'jaguar_e-pace', 'bmw_216',\n",
       "       'ferrari', 'bmw_x2', 'bmw_645', 'chevrolet_camaro',\n",
       "       'hyundai_santa_fe', 'audi_rs5', 'fiat_punto_evo', 'bmw_523',\n",
       "       'ford_tourneo', 'ford_tourneo_courier', 'bmw_x6_m',\n",
       "       'land_rover_range_rover_velar', 'audi_sq7', 'audi_s1',\n",
       "       'aston_martin_db9', 'ferrari_488', 'fiat_panda', 'ford_courier',\n",
       "       'alfa_romeo_mito', 'audi_r8', 'hyundai_bayon', 'bmw_m8', 'bmw_750',\n",
       "       'bentley_continental_gt', 'ford_transit_courier', 'bmw_240',\n",
       "       'audi_rs_q3', 'alfa_romeo_159', 'aston_martin_vanquish',\n",
       "       'fiat_500l', 'ford_mustang_mach-e', 'citroen_jumper',\n",
       "       'ferrari_599', 'jaguar_i-pace', 'bmw_640', 'chevrolet_c1500',\n",
       "       'citroen_c4', 'land_rover_discovery', 'kia_proceed_', 'kia_carens',\n",
       "       'audi_s5', 'bmw_x7', 'bmw_650', 'audi_a7', 'audi_s8',\n",
       "       'daihatsu_copen', 'fiat_scudo', 'hyundai_ix20', 'bmw_140',\n",
       "       'ford_transit_connect', 'ford_b-max', 'audi_allroad', 'bmw_440',\n",
       "       'ford_grand_c-max', 'bmw_i8', 'citroen_ds3', 'fiat_talento',\n",
       "       'ferrari_812', 'jeep_gladiator', 'bmw_123', 'dacia_lodgy',\n",
       "       'bmw_z3', 'audi_tts', 'fiat', 'hyundai_ix35', 'citroen_c-zero',\n",
       "       'citroen_c5_x', 'kia_stinger', 'hyundai_ioniq_5', 'kia_venga',\n",
       "       'citroen_grand_c4_spacetourer', 'ferrari_sf90_stradale', 'mazda_2',\n",
       "       'audi_e-tron', 'cadillac_escalade', 'maserati_granturismo',\n",
       "       'bmw_m850', 'citroen_c3_aircross', 'lamborghini_urus',\n",
       "       'aston_martin_db11', 'kia_ev6', 'maserati_quattroporte',\n",
       "       'daihatsu_terios', 'audi_q8', 'daewoo_kalos', 'kia_opirus',\n",
       "       'ferrari_gtc4_lusso', 'dodge_challenger', 'mazda_3',\n",
       "       'aston_martin_vantage', 'audi_e-tron_gt', 'chrysler_pacifica',\n",
       "       'audi_q8_e-tron', 'bentley_brooklands', 'lamborghini_murciélago',\n",
       "       'bmw_740', 'lamborghini_gallardo', 'ferrari_458', 'bmw_ix',\n",
       "       'audi_s3', 'audi_s6', 'cadillac_cts', 'bmw_528', 'bmw_m6',\n",
       "       'daewoo_matiz', 'bmw_i4', 'bentley_continental_gtc', 'bmw_425',\n",
       "       'honda_jazz', 'dodge_durango', 'alfa_romeo_gtv',\n",
       "       'bentley_flying_spur', 'daihatsu_cuore', 'lancia_voyager',\n",
       "       'bmw_428', 'honda_e', 'audi', 'ferrari_f8_spider',\n",
       "       'fiat_grande_punto', 'jaguar_f-type', 'bentley_bentayga',\n",
       "       'bmw_323', 'ferrari_550', 'citroen_ds4', 'citroen_c4_cactus',\n",
       "       'citroen_nemo', 'bmw_235', 'mazda_cx-30', 'ferrari_ff',\n",
       "       'ford_streetka', 'audi_rs6', 'chevrolet_cruze',\n",
       "       'citroen_c4_spacetourer', 'bmw_328', 'ferrari_portofino',\n",
       "       'lada_vesta', 'bmw_1er_m_coupé', 'bmw_745', 'infiniti_q30',\n",
       "       'jeep_cherokee', 'bmw_735', 'ford_grand_tourneo',\n",
       "       'hyundai_ioniq_6', 'bentley_azure', 'fiat_qubo', 'citroen_jumpy',\n",
       "       'lada_kalina', 'bmw_760', 'honda_nsx', 'citroen_c4_picasso',\n",
       "       'bmw_ix1', 'ferrari_360', 'maserati_grancabrio', 'alfa_romeo_156',\n",
       "       'infiniti_g37', 'bmw_x4_m', 'bmw_635', 'fiat_e-doblo',\n",
       "       'ford_explorer', 'alfa_romeo_brera', 'bmw_630', 'jeep_patriot',\n",
       "       'infiniti_qx70', 'chevrolet_trailblazer', 'fiat_freemont',\n",
       "       'bentley', 'lada_taiga', 'honda_hr-v', 'infiniti_qx60',\n",
       "       'jeep_avenger', 'ferrari_f430', 'lada_niva',\n",
       "       'land_rover_freelander', 'bmw_z3_m', 'lamborghini',\n",
       "       'ford_ranger_raptor', 'ferrari_roma', 'chevrolet_silverado',\n",
       "       'ferrari_456', 'ferrari_612', 'audi_s7', 'mazda_5',\n",
       "       'chevrolet_chevy_van', 'hyundai_nexo', 'daihatsu_yrv', 'audi_sq8',\n",
       "       'dodge_grand_caravan', 'maserati_4200', 'fiat_595_abarth',\n",
       "       'maserati_mc20', 'maserati_grecale', 'mazda', 'audi_cabriolet',\n",
       "       'hyundai_atos', 'cadillac_xt4', 'daewoo_lanos', 'cadillac_sts',\n",
       "       'infiniti_q50', 'citroen_e-c4_electric', 'bmw_545', 'bmw_214',\n",
       "       'fiat_new_panda', 'daewoo_nubira', 'ford_f_250', 'aston_martin_v8',\n",
       "       'lancia_ypsilon', 'lancia_musa', 'fiat_ulysse', 'ford_maverick',\n",
       "       'citroen_c8', 'kia_e-niro', 'bmw_z8', 'cadillac_ct6', 'bmw_230',\n",
       "       'dodge_charger', 'lancia_y', 'dodge_caliber', 'bmw_x2_m',\n",
       "       'maserati_3200', 'fiat_fullback', 'hyundai_kona_elektro',\n",
       "       'aston_martin_dbx', 'fiat_idea', 'bmw_223', 'hyundai_h_350',\n",
       "       'audi_sq2', 'ford_transit_bus', 'fiat_sedici', 'lada_urban',\n",
       "       'bentley_arnage', 'ferrari_575', 'bmw_ix3', 'cadillac_xt6',\n",
       "       'hyundai_veloster', 'infiniti_fx', 'citroen_c-crosser',\n",
       "       'lancia_flavia', 'aston_martin_db7', 'chevrolet_tahoe',\n",
       "       'cadillac_srx', 'citroen_c4_aircross', 'lancia_lybra',\n",
       "       'ford_expedition', 'cadillac_xt5', 'ford_focus_cc',\n",
       "       'alfa_romeo_4c', 'chevrolet_trax', 'bmw_728', 'cadillac_ats',\n",
       "       'bmw_xm', 'aston_martin_dbs', 'infiniti_m30', 'citroen_c6',\n",
       "       'daihatsu_trevis', 'citroen_c2', 'bmw_850',\n",
       "       'citroen_xsara_picasso', 'ferrari_f355', 'ferrari_sf90_spider',\n",
       "       'bmw_518', 'maserati_spyder', 'aston_martin', 'daewoo_lacetti',\n",
       "       'daihatsu_move', 'lada_111', 'bmw_840', 'bmw_x7_m',\n",
       "       'dacia_pick_up', 'lancia_delta', 'alfa_romeo', 'lada_granta',\n",
       "       'bmw_418', 'ford_escort', 'ferrari_430_scuderia', 'lancia_thesis',\n",
       "       'jaguar_x-type', 'hyundai_coupe', 'bmw_m550', 'jaguar_xj',\n",
       "       'ferrari_f12', 'maserati', 'alfa_romeo_alfa_6',\n",
       "       'hyundai_grand_santa_fe', 'fiat_bravo', 'bmw_228',\n",
       "       'ford_e-transit', 'infiniti_q60', 'lancia_phedra', 'fiat_croma',\n",
       "       'kia_carnival', 'infiniti_qx30', 'alfa_romeo_gt', 'honda_insight',\n",
       "       'cadillac_seville', 'ford_taurus', 'aston_martin_rapide', 'isuzu',\n",
       "       'bmw_128', 'citroen_e-c4_x', 'citroen_c-elysée', 'lada_4x4',\n",
       "       'citroen_ds5', 'citroen_ds', 'hyundai_matrix', 'audi_80',\n",
       "       'dodge_journey', 'chevrolet_captiva', 'bmw_active_hybrid_7',\n",
       "       'cadillac_bls', 'jaguar_xkr', 'dodge_nitro', 'hyundai_genesis',\n",
       "       'chevrolet_kalos', 'infiniti_qx80', 'infiniti_q70',\n",
       "       'chevrolet_suburban', 'daihatsu_materia', 'maserati_gransport',\n",
       "       'daihatsu_applause', 'audi_50', 'hyundai_elantra', 'ford_f_350',\n",
       "       'daihatsu_charade', 'ford_bronco', 'ford_windstar', 'lancia_zeta',\n",
       "       'daewoo_rezzo', 'chevrolet_colorado', 'jaguar_xk',\n",
       "       'chevrolet_orlando', 'honda_accord', 'kia_cerato', 'lancia_thema',\n",
       "       'isuzu_trooper', 'chevrolet_matiz', 'chevrolet_express',\n",
       "       'alfa_romeo_164', 'daewoo_evanda', 'chevrolet_corvette', 'bmw_620',\n",
       "       'maserati_coupe', 'fiat_multipla', 'alfa_romeo_sportwagon',\n",
       "       'ferrari_348', 'jeep_wagoneer', 'infiniti_ex30', 'ford_m',\n",
       "       'fiat_linea', 'alfa_romeo_145', 'hyundai_genesis_coupe',\n",
       "       'ford_flex', 'aston_martin_lagonda', 'bmw_i7',\n",
       "       'aston_martin_virage', 'infiniti_m37', 'lancia_kappa',\n",
       "       'fiat_stilo', 'chevrolet_aveo', 'cadillac', 'hyundai_accent',\n",
       "       'kia_shuma', 'citroen_xantia', 'audi_quattro', 'dodge_avenger',\n",
       "       'cadillac_eldorado', 'infiniti_ex35', 'daewoo_tacuma', 'bmw_i5',\n",
       "       'alfa_romeo_8c', 'hyundai_terracan', 'citroen_ami',\n",
       "       'infiniti_ex37', 'chrysler_ram_van', 'lamborghini_diablo',\n",
       "       'bmw_130', 'honda_odyssey', 'jeep', 'ford_gt', 'citroen_xsara',\n",
       "       'chevrolet_spark', 'ferrari_296', 'mazda_bt-50', 'audi_rs',\n",
       "       'chevrolet_2500', 'bmw_m1', 'daewoo_espero', 'jeep_commander',\n",
       "       'ford_gran_torino', 'chevrolet_blazer', 'land_rover',\n",
       "       'infiniti_qx50', 'chevrolet_bolt', 'infiniti_m35', 'mazda_323',\n",
       "       'bentley_turbo_r', 'hyundai_sonata', 'lada_priora',\n",
       "       'fiat_seicento', 'lancia_dedra', 'bmw_active_hybrid_3',\n",
       "       'ferrari_512', 'alfa_romeo_155', 'lada', 'kia_joice',\n",
       "       'mazda_tribute', 'chrysler_200', 'lada_nova', 'mazda_rx-8',\n",
       "       'alfa_romeo_146', 'ford_probe', 'bmw_725', 'hyundai_ix55',\n",
       "       'fiat_strada', 'citroen_c35', 'honda_stream', 'mazda_cx-9',\n",
       "       'ferrari_mondial'], dtype=object)"
      ]
     },
     "execution_count": 17,
     "metadata": {},
     "output_type": "execute_result"
    }
   ],
   "source": [
    "\n",
    "def clean_model_name(name):\n",
    "    name = name.lower().strip()\n",
    "    name = name.split(\"/\")[0]\n",
    "    name = re.sub(r\"\\s+\", \"_\", name)\n",
    "    return name\n",
    "\n",
    "df_clean[\"model\"] = df_clean[\"model\"].astype(str).apply(clean_model_name)\n",
    "df_clean[\"model\"].unique()\n"
   ]
  },
  {
   "cell_type": "code",
   "execution_count": 18,
   "id": "6c1c24e7-82c4-4b17-86e3-3d2bfad49ad3",
   "metadata": {},
   "outputs": [],
   "source": [
    "brands = [\n",
    "    'ford', 'hyundai', 'audi', 'honda', 'kia', 'dacia', 'bmw',\n",
    "    'citroen', 'alfa_romeo', 'land-rover', 'jaguar', 'dodge', 'fiat',\n",
    "    'lamborghini', 'mazda', 'isuzu', 'jeep', 'ferrari', 'bentley',\n",
    "    'maserati', 'daihatsu', 'chevrolet', 'aston-martin', 'cadillac',\n",
    "    'daewoo', 'chrysler', 'lancia', 'lada', 'infiniti'\n",
    "]\n",
    "\n",
    "# Remove brand prefix if it exists\n",
    "def remove_brand(model):\n",
    "    for brand in brands:\n",
    "        prefix = brand + \"_\"\n",
    "        if model.startswith(prefix):\n",
    "            return model[len(prefix):]  # cut off the brand\n",
    "    return model  # if no brand found, keep original\n",
    "\n",
    "df_clean[\"model_only\"] = df_clean[\"model\"].apply(remove_brand)\n"
   ]
  },
  {
   "cell_type": "code",
   "execution_count": 19,
   "id": "d6f4b556-8f6f-4c13-a7e7-dcacef282cf7",
   "metadata": {},
   "outputs": [
    {
     "data": {
      "text/plain": [
       "array(['kuga', 'i10', 'q4_e-tron', 'cr-v', 'sportage', 'civic', 'staria',\n",
       "       'kona', 'fiesta', 'sandero', '520', 'x5', 'spacetourer', 'a5',\n",
       "       'a3', 'kia', '147', 'a4', 'focus', 'ecosport', 'transit', 'a6',\n",
       "       'ioniq', 'q5', 'land_rover_range_rover_sport', 'xceed', 'x1',\n",
       "       'tucson', 'f-pace', '730', '118', 'land_rover_range_rover_evoque',\n",
       "       'a1', 'optima', '550', '114', 'ram', 's-max', 'a8', 'm2', 'q3',\n",
       "       '218', '124_spider', '225', 'huracan', 'cx-7', 'stelvio', 'c-max',\n",
       "       '430', 'i40', 'c5_aircross', '525', 'd-max', 'giulietta', 'x3',\n",
       "       'duster', 'cx-5', 'i3', 'x6', 'f_150', 'compass', 'cx-3', '500c',\n",
       "       'edge', 'logan', 'tipo', 'sq5', 'rs_q8', 'niro', '500', '535',\n",
       "       'f8_tributo', 'sorento', 'berlingo', 'a4_allroad', 'aventador',\n",
       "       'land_rover_range_rover', 'stonic', 'transit_custom', 'mondeo',\n",
       "       'm4', 'renegade', 'i30', '120', 'ceed_', 'z4', 'i20', 'x3_m', 'x4',\n",
       "       '530', '6', 'q2', 'ducato', '320', 'giulia', 'tt_rs', '135', 'q7',\n",
       "       '318', 'continental', 'ghibli', 'mulsanne', 'tt', '420', 'dokker',\n",
       "       'grand_cherokee', 'rio', 'spring', '116', 'tourneo_custom',\n",
       "       'dacia', 'picanto', '325', 'a6_allroad', 'crown', 'fusion', 'bmw',\n",
       "       'c3', 'a2', 'doblo', 'x5_m', 'soul', 'mustang', '340', '125',\n",
       "       'land_rover_discovery_sport', '500e', '316', 'jogger', '335',\n",
       "       'hyundai', 'ranger', 'focus_c-max', 'rs3', 'h-1', 'ceed_sw_',\n",
       "       'california', '540', 'wrangler', 'rs4', 'ford', 'ka', 'm3', 'puma',\n",
       "       'land_rover_defender', 'tourneo_connect', 'rs7', 'citroen', 'mx-5',\n",
       "       'c5', '330', 'xf', 's4', 'galaxy', 'm5', 'fiorino',\n",
       "       'grand_c4_picasso', 'spider', 'c1', 'sirion', '166', 'getz',\n",
       "       'c3_picasso', '220', 'tonale', 'levante', 'punto', 'xe', 'z4_m',\n",
       "       '500x', '435', 'e-pace', '216', 'ferrari', 'x2', '645', 'camaro',\n",
       "       'santa_fe', 'rs5', 'punto_evo', '523', 'tourneo',\n",
       "       'tourneo_courier', 'x6_m', 'land_rover_range_rover_velar', 'sq7',\n",
       "       's1', 'aston_martin_db9', '488', 'panda', 'courier', 'mito', 'r8',\n",
       "       'bayon', 'm8', '750', 'continental_gt', 'transit_courier', '240',\n",
       "       'rs_q3', '159', 'aston_martin_vanquish', '500l', 'mustang_mach-e',\n",
       "       'jumper', '599', 'i-pace', '640', 'c1500', 'c4',\n",
       "       'land_rover_discovery', 'proceed_', 'carens', 's5', 'x7', '650',\n",
       "       'a7', 's8', 'copen', 'scudo', 'ix20', '140', 'transit_connect',\n",
       "       'b-max', 'allroad', '440', 'grand_c-max', 'i8', 'ds3', 'talento',\n",
       "       '812', 'gladiator', '123', 'lodgy', 'z3', 'tts', 'fiat', 'ix35',\n",
       "       'c-zero', 'c5_x', 'stinger', 'ioniq_5', 'venga',\n",
       "       'grand_c4_spacetourer', 'sf90_stradale', '2', 'e-tron', 'escalade',\n",
       "       'granturismo', 'm850', 'c3_aircross', 'urus', 'aston_martin_db11',\n",
       "       'ev6', 'quattroporte', 'terios', 'q8', 'kalos', 'opirus',\n",
       "       'gtc4_lusso', 'challenger', '3', 'aston_martin_vantage',\n",
       "       'e-tron_gt', 'pacifica', 'q8_e-tron', 'brooklands', 'murciélago',\n",
       "       '740', 'gallardo', '458', 'ix', 's3', 's6', 'cts', '528', 'm6',\n",
       "       'matiz', 'i4', 'continental_gtc', '425', 'jazz', 'durango', 'gtv',\n",
       "       'flying_spur', 'cuore', 'voyager', '428', 'e', 'audi', 'f8_spider',\n",
       "       'grande_punto', 'f-type', 'bentayga', '323', 'ds4', 'c4_cactus',\n",
       "       'nemo', '235', 'cx-30', 'ff', 'streetka', 'rs6', 'cruze',\n",
       "       'c4_spacetourer', '328', 'portofino', 'vesta', '1er_m_coupé',\n",
       "       '745', 'q30', 'cherokee', '735', 'grand_tourneo', 'ioniq_6',\n",
       "       'azure', 'qubo', 'jumpy', 'kalina', '760', 'nsx', 'c4_picasso',\n",
       "       'ix1', '360', 'grancabrio', '156', 'g37', 'x4_m', '635', 'e-doblo',\n",
       "       'explorer', 'brera', '630', 'patriot', 'qx70', 'trailblazer',\n",
       "       'freemont', 'bentley', 'taiga', 'hr-v', 'qx60', 'avenger', 'f430',\n",
       "       'niva', 'land_rover_freelander', 'z3_m', 'lamborghini',\n",
       "       'ranger_raptor', 'roma', 'silverado', '456', '612', 's7', '5',\n",
       "       'chevy_van', 'nexo', 'yrv', 'sq8', 'grand_caravan', '4200',\n",
       "       '595_abarth', 'mc20', 'grecale', 'mazda', 'cabriolet', 'atos',\n",
       "       'xt4', 'lanos', 'sts', 'q50', 'e-c4_electric', '545', '214',\n",
       "       'new_panda', 'nubira', 'f_250', 'aston_martin_v8', 'ypsilon',\n",
       "       'musa', 'ulysse', 'maverick', 'c8', 'e-niro', 'z8', 'ct6', '230',\n",
       "       'charger', 'y', 'caliber', 'x2_m', '3200', 'fullback',\n",
       "       'kona_elektro', 'aston_martin_dbx', 'idea', '223', 'h_350', 'sq2',\n",
       "       'transit_bus', 'sedici', 'urban', 'arnage', '575', 'ix3', 'xt6',\n",
       "       'veloster', 'fx', 'c-crosser', 'flavia', 'aston_martin_db7',\n",
       "       'tahoe', 'srx', 'c4_aircross', 'lybra', 'expedition', 'xt5',\n",
       "       'focus_cc', '4c', 'trax', '728', 'ats', 'xm', 'aston_martin_dbs',\n",
       "       'm30', 'c6', 'trevis', 'c2', '850', 'xsara_picasso', 'f355',\n",
       "       'sf90_spider', '518', 'spyder', 'aston_martin', 'lacetti', 'move',\n",
       "       '111', '840', 'x7_m', 'pick_up', 'delta', 'alfa_romeo', 'granta',\n",
       "       '418', 'escort', '430_scuderia', 'thesis', 'x-type', 'coupe',\n",
       "       'm550', 'xj', 'f12', 'maserati', 'alfa_6', 'grand_santa_fe',\n",
       "       'bravo', '228', 'e-transit', 'q60', 'phedra', 'croma', 'carnival',\n",
       "       'qx30', 'gt', 'insight', 'seville', 'taurus',\n",
       "       'aston_martin_rapide', 'isuzu', '128', 'e-c4_x', 'c-elysée', '4x4',\n",
       "       'ds5', 'ds', 'matrix', '80', 'journey', 'captiva',\n",
       "       'active_hybrid_7', 'bls', 'xkr', 'nitro', 'genesis', 'qx80', 'q70',\n",
       "       'suburban', 'materia', 'gransport', 'applause', '50', 'elantra',\n",
       "       'f_350', 'charade', 'bronco', 'windstar', 'zeta', 'rezzo',\n",
       "       'colorado', 'xk', 'orlando', 'accord', 'cerato', 'thema',\n",
       "       'trooper', 'express', '164', 'evanda', 'corvette', '620',\n",
       "       'multipla', 'sportwagon', '348', 'wagoneer', 'ex30', 'm', 'linea',\n",
       "       '145', 'genesis_coupe', 'flex', 'aston_martin_lagonda', 'i7',\n",
       "       'aston_martin_virage', 'm37', 'kappa', 'stilo', 'aveo', 'cadillac',\n",
       "       'accent', 'shuma', 'xantia', 'quattro', 'eldorado', 'ex35',\n",
       "       'tacuma', 'i5', '8c', 'terracan', 'ami', 'ex37', 'ram_van',\n",
       "       'diablo', '130', 'odyssey', 'jeep', 'xsara', 'spark', '296',\n",
       "       'bt-50', 'rs', '2500', 'm1', 'espero', 'commander', 'gran_torino',\n",
       "       'blazer', 'land_rover', 'qx50', 'bolt', 'm35', 'turbo_r', 'sonata',\n",
       "       'priora', 'seicento', 'dedra', 'active_hybrid_3', '512', '155',\n",
       "       'lada', 'joice', 'tribute', '200', 'nova', 'rx-8', '146', 'probe',\n",
       "       '725', 'ix55', 'strada', 'c35', 'stream', 'cx-9', 'mondial'],\n",
       "      dtype=object)"
      ]
     },
     "execution_count": 19,
     "metadata": {},
     "output_type": "execute_result"
    }
   ],
   "source": [
    "df_clean[\"model_only\"].unique()"
   ]
  },
  {
   "cell_type": "code",
   "execution_count": 20,
   "id": "ed1bc614-2f9f-4fc9-bff8-d35f6c2538ab",
   "metadata": {},
   "outputs": [],
   "source": [
    "# Correction mapping for model_only column\n",
    "model_corrections = {\n",
    "    # Land Rover\n",
    "    \"land_rover_range_rover_sport\": \"range_rover_sport\",\n",
    "    \"land_rover_range_rover_evoque\": \"range_rover_evoque\",\n",
    "    \"land_rover_range_rover_velar\": \"range_rover_velar\",\n",
    "    \"land_rover_range_rover\": \"range_rover\",\n",
    "    \"land_rover_discovery_sport\": \"discovery_sport\",\n",
    "    \"land_rover_discovery\": \"discovery\",\n",
    "    \"land_rover_defender\": \"defender\",\n",
    "    \"land_rover_freelander\": \"freelander\",\n",
    "\n",
    "    # Kia\n",
    "    \"ceed_\": \"ceed\",\n",
    "    \"ceed_sw_\": \"ceed_sw\",\n",
    "    \"proceed_\": \"proceed\",\n",
    "\n",
    "    # Ford\n",
    "    \"f_150\": \"f150\",\n",
    "    \"f_250\": \"f250\",\n",
    "    \"f_350\": \"f350\",\n",
    "\n",
    "    # BMW\n",
    "    \"bmw\": None,   # drop invalid standalone brand rows\n",
    "    \"1er_m_coupé\": \"1m_coupe\",\n",
    "\n",
    "    # Audi\n",
    "    \"rs_q8\": \"rsq8\",\n",
    "    \"rs_q3\": \"rsq3\",\n",
    "    \"tt_rs\": \"ttrs\",\n",
    "    \"tt\": \"tt\",  # keep\n",
    "    \"audi\": None,\n",
    "\n",
    "    # Hyundai\n",
    "    \"h-1\": \"h1\",\n",
    "    \"h_350\": \"h350\",\n",
    "    \"ix35\": \"ix35\",\n",
    "    \"ix55\": \"ix55\",\n",
    "    \"ioniq_5\": \"ioniq5\",\n",
    "    \"ioniq_6\": \"ioniq6\",\n",
    "    \"kona_elektro\": \"kona_electric\",\n",
    "\n",
    "    # Aston Martin cleanup\n",
    "    \"aston_martin_db7\": \"db7\",\n",
    "    \"aston_martin_db9\": \"db9\",\n",
    "    \"aston_martin_db11\": \"db11\",\n",
    "    \"aston_martin_dbs\": \"dbs\",\n",
    "    \"aston_martin_dbx\": \"dbx\",\n",
    "    \"aston_martin_v8\": \"v8\",\n",
    "    \"aston_martin_vantage\": \"vantage\",\n",
    "    \"aston_martin_vanquish\": \"vanquish\",\n",
    "    \"aston_martin_rapide\": \"rapide\",\n",
    "    \"aston_martin_virage\": \"virage\",\n",
    "\n",
    "    # Other common fixes\n",
    "    \"mustang_mach-e\": \"mustang_mach_e\",\n",
    "    \"grand_c4_picasso\": \"c4_grand_picasso\",\n",
    "    \"grand_c4_spacetourer\": \"c4_grand_spacetourer\",\n",
    "    \"continental_gt\": \"continental_gt\",\n",
    "    \"continental_gtc\": \"continental_gtc\",\n",
    "    \"grand_tourneo\": \"tourneo_grand\"\n",
    "}\n"
   ]
  },
  {
   "cell_type": "code",
   "execution_count": 21,
   "id": "174c57c6-0f53-49fe-926c-99683f7ea434",
   "metadata": {},
   "outputs": [],
   "source": [
    "# Apply corrections\n",
    "df_clean[\"model_only\"] = df_clean[\"model_only\"].replace(model_corrections)\n",
    "\n",
    "# Optional: Drop invalid rows where we mapped to None\n",
    "df_clean = df_clean.dropna(subset=[\"model_only\"])\n"
   ]
  },
  {
   "cell_type": "code",
   "execution_count": 22,
   "id": "3af1fe0d-be0d-4d7d-997b-ea3c06116795",
   "metadata": {},
   "outputs": [
    {
     "data": {
      "text/plain": [
       "array(['kuga', 'i10', 'q4_e-tron', 'cr-v', 'sportage', 'civic', 'staria',\n",
       "       'kona', 'fiesta', 'sandero', '520', 'x5', 'spacetourer', 'a5',\n",
       "       'a3', 'kia', '147', 'a4', 'focus', 'ecosport', 'transit', 'a6',\n",
       "       'ioniq', 'q5', 'range_rover_sport', 'xceed', 'x1', 'tucson',\n",
       "       'f-pace', '730', '118', 'range_rover_evoque', 'a1', 'optima',\n",
       "       '550', '114', 'ram', 's-max', 'a8', 'm2', 'q3', '218',\n",
       "       '124_spider', '225', 'huracan', 'cx-7', 'stelvio', 'c-max', '430',\n",
       "       'i40', 'c5_aircross', '525', 'd-max', 'giulietta', 'x3', 'duster',\n",
       "       'cx-5', 'i3', 'x6', 'f150', 'compass', 'cx-3', '500c', 'edge',\n",
       "       'logan', 'tipo', 'sq5', 'rsq8', 'niro', '500', '535', 'f8_tributo',\n",
       "       'sorento', 'berlingo', 'a4_allroad', 'aventador', 'range_rover',\n",
       "       'stonic', 'transit_custom', 'mondeo', 'm4', 'renegade', 'i30',\n",
       "       '120', 'ceed', 'z4', 'i20', 'x3_m', 'x4', '530', '6', 'q2',\n",
       "       'ducato', '320', 'giulia', 'ttrs', '135', 'q7', '318',\n",
       "       'continental', 'ghibli', 'mulsanne', 'tt', '420', 'dokker',\n",
       "       'grand_cherokee', 'rio', 'spring', '116', 'tourneo_custom',\n",
       "       'dacia', 'picanto', '325', 'a6_allroad', 'crown', 'fusion', 'c3',\n",
       "       'a2', 'doblo', 'x5_m', 'soul', 'mustang', '340', '125',\n",
       "       'discovery_sport', '500e', '316', 'jogger', '335', 'hyundai',\n",
       "       'ranger', 'focus_c-max', 'rs3', 'h1', 'ceed_sw', 'california',\n",
       "       '540', 'wrangler', 'rs4', 'ford', 'ka', 'm3', 'puma', 'defender',\n",
       "       'tourneo_connect', 'rs7', 'citroen', 'mx-5', 'c5', '330', 'xf',\n",
       "       's4', 'galaxy', 'm5', 'fiorino', 'c4_grand_picasso', 'spider',\n",
       "       'c1', 'sirion', '166', 'getz', 'c3_picasso', '220', 'tonale',\n",
       "       'levante', 'punto', 'xe', 'z4_m', '500x', '435', 'e-pace', '216',\n",
       "       'ferrari', 'x2', '645', 'camaro', 'santa_fe', 'rs5', 'punto_evo',\n",
       "       '523', 'tourneo', 'tourneo_courier', 'x6_m', 'range_rover_velar',\n",
       "       'sq7', 's1', 'db9', '488', 'panda', 'courier', 'mito', 'r8',\n",
       "       'bayon', 'm8', '750', 'continental_gt', 'transit_courier', '240',\n",
       "       'rsq3', '159', 'vanquish', '500l', 'mustang_mach_e', 'jumper',\n",
       "       '599', 'i-pace', '640', 'c1500', 'c4', 'discovery', 'proceed',\n",
       "       'carens', 's5', 'x7', '650', 'a7', 's8', 'copen', 'scudo', 'ix20',\n",
       "       '140', 'transit_connect', 'b-max', 'allroad', '440', 'grand_c-max',\n",
       "       'i8', 'ds3', 'talento', '812', 'gladiator', '123', 'lodgy', 'z3',\n",
       "       'tts', 'fiat', 'ix35', 'c-zero', 'c5_x', 'stinger', 'ioniq5',\n",
       "       'venga', 'c4_grand_spacetourer', 'sf90_stradale', '2', 'e-tron',\n",
       "       'escalade', 'granturismo', 'm850', 'c3_aircross', 'urus', 'db11',\n",
       "       'ev6', 'quattroporte', 'terios', 'q8', 'kalos', 'opirus',\n",
       "       'gtc4_lusso', 'challenger', '3', 'vantage', 'e-tron_gt',\n",
       "       'pacifica', 'q8_e-tron', 'brooklands', 'murciélago', '740',\n",
       "       'gallardo', '458', 'ix', 's3', 's6', 'cts', '528', 'm6', 'matiz',\n",
       "       'i4', 'continental_gtc', '425', 'jazz', 'durango', 'gtv',\n",
       "       'flying_spur', 'cuore', 'voyager', '428', 'e', 'f8_spider',\n",
       "       'grande_punto', 'f-type', 'bentayga', '323', 'ds4', 'c4_cactus',\n",
       "       'nemo', '235', 'cx-30', 'ff', 'streetka', 'rs6', 'cruze',\n",
       "       'c4_spacetourer', '328', 'portofino', 'vesta', '1m_coupe', '745',\n",
       "       'q30', 'cherokee', '735', 'tourneo_grand', 'ioniq6', 'azure',\n",
       "       'qubo', 'jumpy', 'kalina', '760', 'nsx', 'c4_picasso', 'ix1',\n",
       "       '360', 'grancabrio', '156', 'g37', 'x4_m', '635', 'e-doblo',\n",
       "       'explorer', 'brera', '630', 'patriot', 'qx70', 'trailblazer',\n",
       "       'freemont', 'bentley', 'taiga', 'hr-v', 'qx60', 'avenger', 'f430',\n",
       "       'niva', 'freelander', 'z3_m', 'lamborghini', 'ranger_raptor',\n",
       "       'roma', 'silverado', '456', '612', 's7', '5', 'chevy_van', 'nexo',\n",
       "       'yrv', 'sq8', 'grand_caravan', '4200', '595_abarth', 'mc20',\n",
       "       'grecale', 'mazda', 'cabriolet', 'atos', 'xt4', 'lanos', 'sts',\n",
       "       'q50', 'e-c4_electric', '545', '214', 'new_panda', 'nubira',\n",
       "       'f250', 'v8', 'ypsilon', 'musa', 'ulysse', 'maverick', 'c8',\n",
       "       'e-niro', 'z8', 'ct6', '230', 'charger', 'y', 'caliber', 'x2_m',\n",
       "       '3200', 'fullback', 'kona_electric', 'dbx', 'idea', '223', 'h350',\n",
       "       'sq2', 'transit_bus', 'sedici', 'urban', 'arnage', '575', 'ix3',\n",
       "       'xt6', 'veloster', 'fx', 'c-crosser', 'flavia', 'db7', 'tahoe',\n",
       "       'srx', 'c4_aircross', 'lybra', 'expedition', 'xt5', 'focus_cc',\n",
       "       '4c', 'trax', '728', 'ats', 'xm', 'dbs', 'm30', 'c6', 'trevis',\n",
       "       'c2', '850', 'xsara_picasso', 'f355', 'sf90_spider', '518',\n",
       "       'spyder', 'aston_martin', 'lacetti', 'move', '111', '840', 'x7_m',\n",
       "       'pick_up', 'delta', 'alfa_romeo', 'granta', '418', 'escort',\n",
       "       '430_scuderia', 'thesis', 'x-type', 'coupe', 'm550', 'xj', 'f12',\n",
       "       'maserati', 'alfa_6', 'grand_santa_fe', 'bravo', '228',\n",
       "       'e-transit', 'q60', 'phedra', 'croma', 'carnival', 'qx30', 'gt',\n",
       "       'insight', 'seville', 'taurus', 'rapide', 'isuzu', '128', 'e-c4_x',\n",
       "       'c-elysée', '4x4', 'ds5', 'ds', 'matrix', '80', 'journey',\n",
       "       'captiva', 'active_hybrid_7', 'bls', 'xkr', 'nitro', 'genesis',\n",
       "       'qx80', 'q70', 'suburban', 'materia', 'gransport', 'applause',\n",
       "       '50', 'elantra', 'f350', 'charade', 'bronco', 'windstar', 'zeta',\n",
       "       'rezzo', 'colorado', 'xk', 'orlando', 'accord', 'cerato', 'thema',\n",
       "       'trooper', 'express', '164', 'evanda', 'corvette', '620',\n",
       "       'multipla', 'sportwagon', '348', 'wagoneer', 'ex30', 'm', 'linea',\n",
       "       '145', 'genesis_coupe', 'flex', 'aston_martin_lagonda', 'i7',\n",
       "       'virage', 'm37', 'kappa', 'stilo', 'aveo', 'cadillac', 'accent',\n",
       "       'shuma', 'xantia', 'quattro', 'eldorado', 'ex35', 'tacuma', 'i5',\n",
       "       '8c', 'terracan', 'ami', 'ex37', 'ram_van', 'diablo', '130',\n",
       "       'odyssey', 'jeep', 'xsara', 'spark', '296', 'bt-50', 'rs', '2500',\n",
       "       'm1', 'espero', 'commander', 'gran_torino', 'blazer', 'land_rover',\n",
       "       'qx50', 'bolt', 'm35', 'turbo_r', 'sonata', 'priora', 'seicento',\n",
       "       'dedra', 'active_hybrid_3', '512', '155', 'lada', 'joice',\n",
       "       'tribute', '200', 'nova', 'rx-8', '146', 'probe', '725', 'ix55',\n",
       "       'strada', 'c35', 'stream', 'cx-9', 'mondial'], dtype=object)"
      ]
     },
     "execution_count": 22,
     "metadata": {},
     "output_type": "execute_result"
    }
   ],
   "source": [
    "df_clean[\"model_only\"].unique()"
   ]
  },
  {
   "cell_type": "code",
   "execution_count": 23,
   "id": "72da213e-637b-49e0-bd2e-90797be5c9a0",
   "metadata": {},
   "outputs": [],
   "source": [
    "df_clean[\"model_only\"] = df_clean[\"model_only\"].str.replace(\"_\", \"-\", regex=False)"
   ]
  },
  {
   "cell_type": "code",
   "execution_count": 24,
   "id": "fdca3c3e-3263-4a0f-8fbb-927458365a82",
   "metadata": {},
   "outputs": [
    {
     "data": {
      "text/plain": [
       "array(['ford_kuga', 'hyundai_i10', 'audi_q4-e-tron', 'honda_cr-v',\n",
       "       'kia_sportage', 'honda_civic', 'hyundai_staria', 'hyundai_kona',\n",
       "       'ford_fiesta', 'dacia_sandero', 'bmw_520', 'bmw_x5',\n",
       "       'citroen_spacetourer', 'audi_a5', 'audi_a3', 'kia_kia',\n",
       "       'alfa-romeo_147', 'audi_a4', 'ford_focus', 'ford_ecosport',\n",
       "       'ford_transit', 'audi_a6', 'hyundai_ioniq', 'audi_q5',\n",
       "       'land-rover_range-rover-sport', 'kia_xceed', 'bmw_x1',\n",
       "       'hyundai_tucson', 'jaguar_f-pace', 'bmw_730', 'bmw_118',\n",
       "       'land-rover_range-rover-evoque', 'audi_a1', 'kia_optima',\n",
       "       'bmw_550', 'bmw_114', 'dodge_ram', 'ford_s-max', 'audi_a8',\n",
       "       'bmw_m2', 'audi_q3', 'bmw_218', 'fiat_124-spider', 'bmw_225',\n",
       "       'lamborghini_huracan', 'mazda_cx-7', 'alfa-romeo_stelvio',\n",
       "       'ford_c-max', 'bmw_430', 'hyundai_i40', 'citroen_c5-aircross',\n",
       "       'bmw_525', 'isuzu_d-max', 'alfa-romeo_giulietta', 'bmw_x3',\n",
       "       'dacia_duster', 'mazda_cx-5', 'bmw_i3', 'bmw_x6', 'ford_f150',\n",
       "       'jeep_compass', 'mazda_cx-3', 'fiat_500c', 'ford_edge',\n",
       "       'dacia_logan', 'fiat_tipo', 'audi_sq5', 'audi_rsq8', 'kia_niro',\n",
       "       'fiat_500', 'bmw_535', 'ferrari_f8-tributo', 'kia_sorento',\n",
       "       'citroen_berlingo', 'audi_a4-allroad', 'lamborghini_aventador',\n",
       "       'land-rover_range-rover', 'kia_stonic', 'ford_transit-custom',\n",
       "       'ford_mondeo', 'bmw_m4', 'jeep_renegade', 'hyundai_i30', 'bmw_120',\n",
       "       'kia_ceed', 'bmw_z4', 'hyundai_i20', 'bmw_x3-m', 'bmw_x4',\n",
       "       'bmw_530', 'mazda_6', 'audi_q2', 'fiat_ducato', 'bmw_320',\n",
       "       'alfa-romeo_giulia', 'audi_ttrs', 'bmw_135', 'audi_q7', 'bmw_318',\n",
       "       'bentley_continental', 'maserati_ghibli', 'bentley_mulsanne',\n",
       "       'audi_tt', 'bmw_420', 'dacia_dokker', 'jeep_grand-cherokee',\n",
       "       'kia_rio', 'dacia_spring', 'bmw_116', 'ford_tourneo-custom',\n",
       "       'dacia_dacia', 'kia_picanto', 'bmw_325', 'audi_a6-allroad',\n",
       "       'ford_crown', 'ford_fusion', 'citroen_c3', 'audi_a2', 'fiat_doblo',\n",
       "       'bmw_x5-m', 'kia_soul', 'ford_mustang', 'bmw_340', 'bmw_125',\n",
       "       'land-rover_discovery-sport', 'fiat_500e', 'bmw_316',\n",
       "       'dacia_jogger', 'bmw_335', 'hyundai_hyundai', 'ford_ranger',\n",
       "       'ford_focus-c-max', 'audi_rs3', 'hyundai_h1', 'kia_ceed-sw',\n",
       "       'ferrari_california', 'bmw_540', 'jeep_wrangler', 'audi_rs4',\n",
       "       'ford_ford', 'ford_ka', 'bmw_m3', 'ford_puma',\n",
       "       'land-rover_defender', 'ford_tourneo-connect', 'audi_rs7',\n",
       "       'citroen_citroen', 'mazda_mx-5', 'citroen_c5', 'bmw_330',\n",
       "       'jaguar_xf', 'audi_s4', 'ford_galaxy', 'bmw_m5', 'fiat_fiorino',\n",
       "       'citroen_c4-grand-picasso', 'alfa-romeo_spider', 'citroen_c1',\n",
       "       'daihatsu_sirion', 'alfa-romeo_166', 'hyundai_getz',\n",
       "       'citroen_c3-picasso', 'bmw_220', 'alfa-romeo_tonale',\n",
       "       'maserati_levante', 'fiat_punto', 'jaguar_xe', 'bmw_z4-m',\n",
       "       'fiat_500x', 'bmw_435', 'jaguar_e-pace', 'bmw_216',\n",
       "       'ferrari_ferrari', 'bmw_x2', 'bmw_645', 'chevrolet_camaro',\n",
       "       'hyundai_santa-fe', 'audi_rs5', 'fiat_punto-evo', 'bmw_523',\n",
       "       'ford_tourneo', 'ford_tourneo-courier', 'bmw_x6-m',\n",
       "       'land-rover_range-rover-velar', 'audi_sq7', 'audi_s1',\n",
       "       'aston-martin_db9', 'ferrari_488', 'fiat_panda', 'ford_courier',\n",
       "       'alfa-romeo_mito', 'audi_r8', 'hyundai_bayon', 'bmw_m8', 'bmw_750',\n",
       "       'bentley_continental-gt', 'ford_transit-courier', 'bmw_240',\n",
       "       'audi_rsq3', 'alfa-romeo_159', 'aston-martin_vanquish',\n",
       "       'fiat_500l', 'ford_mustang-mach-e', 'citroen_jumper',\n",
       "       'ferrari_599', 'jaguar_i-pace', 'bmw_640', 'chevrolet_c1500',\n",
       "       'citroen_c4', 'land-rover_discovery', 'kia_proceed', 'kia_carens',\n",
       "       'audi_s5', 'bmw_x7', 'bmw_650', 'audi_a7', 'audi_s8',\n",
       "       'daihatsu_copen', 'fiat_scudo', 'hyundai_ix20', 'bmw_140',\n",
       "       'ford_transit-connect', 'ford_b-max', 'audi_allroad', 'bmw_440',\n",
       "       'ford_grand-c-max', 'bmw_i8', 'citroen_ds3', 'fiat_talento',\n",
       "       'ferrari_812', 'jeep_gladiator', 'bmw_123', 'dacia_lodgy',\n",
       "       'bmw_z3', 'audi_tts', 'fiat_fiat', 'hyundai_ix35',\n",
       "       'citroen_c-zero', 'citroen_c5-x', 'kia_stinger', 'hyundai_ioniq5',\n",
       "       'kia_venga', 'citroen_c4-grand-spacetourer',\n",
       "       'ferrari_sf90-stradale', 'mazda_2', 'audi_e-tron',\n",
       "       'cadillac_escalade', 'maserati_granturismo', 'bmw_m850',\n",
       "       'citroen_c3-aircross', 'lamborghini_urus', 'aston-martin_db11',\n",
       "       'kia_ev6', 'maserati_quattroporte', 'daihatsu_terios', 'audi_q8',\n",
       "       'daewoo_kalos', 'kia_opirus', 'ferrari_gtc4-lusso',\n",
       "       'dodge_challenger', 'mazda_3', 'aston-martin_vantage',\n",
       "       'audi_e-tron-gt', 'chrysler_pacifica', 'audi_q8-e-tron',\n",
       "       'bentley_brooklands', 'lamborghini_murciélago', 'bmw_740',\n",
       "       'lamborghini_gallardo', 'ferrari_458', 'bmw_ix', 'audi_s3',\n",
       "       'audi_s6', 'cadillac_cts', 'bmw_528', 'bmw_m6', 'daewoo_matiz',\n",
       "       'bmw_i4', 'bentley_continental-gtc', 'bmw_425', 'honda_jazz',\n",
       "       'dodge_durango', 'alfa-romeo_gtv', 'bentley_flying-spur',\n",
       "       'daihatsu_cuore', 'lancia_voyager', 'bmw_428', 'honda_e',\n",
       "       'ferrari_f8-spider', 'fiat_grande-punto', 'jaguar_f-type',\n",
       "       'bentley_bentayga', 'bmw_323', 'ferrari_550', 'citroen_ds4',\n",
       "       'citroen_c4-cactus', 'citroen_nemo', 'bmw_235', 'mazda_cx-30',\n",
       "       'ferrari_ff', 'ford_streetka', 'audi_rs6', 'chevrolet_cruze',\n",
       "       'citroen_c4-spacetourer', 'bmw_328', 'ferrari_portofino',\n",
       "       'lada_vesta', 'bmw_1m-coupe', 'bmw_745', 'infiniti_q30',\n",
       "       'jeep_cherokee', 'bmw_735', 'ford_tourneo-grand', 'hyundai_ioniq6',\n",
       "       'bentley_azure', 'fiat_qubo', 'citroen_jumpy', 'lada_kalina',\n",
       "       'bmw_760', 'honda_nsx', 'citroen_c4-picasso', 'bmw_ix1',\n",
       "       'ferrari_360', 'maserati_grancabrio', 'alfa-romeo_156',\n",
       "       'infiniti_g37', 'bmw_x4-m', 'bmw_635', 'fiat_e-doblo',\n",
       "       'ford_explorer', 'alfa-romeo_brera', 'bmw_630', 'jeep_patriot',\n",
       "       'infiniti_qx70', 'chevrolet_trailblazer', 'fiat_freemont',\n",
       "       'bentley_bentley', 'lada_taiga', 'honda_hr-v', 'infiniti_qx60',\n",
       "       'jeep_avenger', 'ferrari_f430', 'lada_niva',\n",
       "       'land-rover_freelander', 'bmw_z3-m', 'lamborghini_lamborghini',\n",
       "       'ford_ranger-raptor', 'ferrari_roma', 'chevrolet_silverado',\n",
       "       'ferrari_456', 'ferrari_612', 'audi_s7', 'mazda_5',\n",
       "       'chevrolet_chevy-van', 'hyundai_nexo', 'daihatsu_yrv', 'audi_sq8',\n",
       "       'dodge_grand-caravan', 'maserati_4200', 'fiat_595-abarth',\n",
       "       'maserati_mc20', 'maserati_grecale', 'mazda_mazda',\n",
       "       'audi_cabriolet', 'hyundai_atos', 'cadillac_xt4', 'daewoo_lanos',\n",
       "       'cadillac_sts', 'infiniti_q50', 'citroen_e-c4-electric', 'bmw_545',\n",
       "       'bmw_214', 'fiat_new-panda', 'daewoo_nubira', 'ford_f250',\n",
       "       'aston-martin_v8', 'lancia_ypsilon', 'lancia_musa', 'fiat_ulysse',\n",
       "       'ford_maverick', 'citroen_c8', 'kia_e-niro', 'bmw_z8',\n",
       "       'cadillac_ct6', 'bmw_230', 'dodge_charger', 'lancia_y',\n",
       "       'dodge_caliber', 'bmw_x2-m', 'maserati_3200', 'fiat_fullback',\n",
       "       'hyundai_kona-electric', 'aston-martin_dbx', 'fiat_idea',\n",
       "       'bmw_223', 'hyundai_h350', 'audi_sq2', 'ford_transit-bus',\n",
       "       'fiat_sedici', 'lada_urban', 'bentley_arnage', 'ferrari_575',\n",
       "       'bmw_ix3', 'cadillac_xt6', 'hyundai_veloster', 'infiniti_fx',\n",
       "       'citroen_c-crosser', 'lancia_flavia', 'aston-martin_db7',\n",
       "       'chevrolet_tahoe', 'cadillac_srx', 'citroen_c4-aircross',\n",
       "       'lancia_lybra', 'ford_expedition', 'cadillac_xt5', 'ford_focus-cc',\n",
       "       'alfa-romeo_4c', 'chevrolet_trax', 'bmw_728', 'cadillac_ats',\n",
       "       'bmw_xm', 'aston-martin_dbs', 'infiniti_m30', 'citroen_c6',\n",
       "       'daihatsu_trevis', 'citroen_c2', 'bmw_850',\n",
       "       'citroen_xsara-picasso', 'ferrari_f355', 'ferrari_sf90-spider',\n",
       "       'bmw_518', 'maserati_spyder', 'aston-martin_aston-martin',\n",
       "       'daewoo_lacetti', 'daihatsu_move', 'lada_111', 'bmw_840',\n",
       "       'bmw_x7-m', 'dacia_pick-up', 'lancia_delta',\n",
       "       'alfa-romeo_alfa-romeo', 'lada_granta', 'bmw_418', 'ford_escort',\n",
       "       'ferrari_430-scuderia', 'lancia_thesis', 'jaguar_x-type',\n",
       "       'hyundai_coupe', 'bmw_m550', 'jaguar_xj', 'ferrari_f12',\n",
       "       'maserati_maserati', 'alfa-romeo_alfa-6', 'hyundai_grand-santa-fe',\n",
       "       'fiat_bravo', 'bmw_228', 'ford_e-transit', 'infiniti_q60',\n",
       "       'lancia_phedra', 'fiat_croma', 'kia_carnival', 'infiniti_qx30',\n",
       "       'alfa-romeo_gt', 'honda_insight', 'cadillac_seville',\n",
       "       'ford_taurus', 'aston-martin_rapide', 'isuzu_isuzu', 'bmw_128',\n",
       "       'citroen_e-c4-x', 'citroen_c-elysée', 'lada_4x4', 'citroen_ds5',\n",
       "       'citroen_ds', 'hyundai_matrix', 'audi_80', 'dodge_journey',\n",
       "       'chevrolet_captiva', 'bmw_active-hybrid-7', 'cadillac_bls',\n",
       "       'jaguar_xkr', 'dodge_nitro', 'hyundai_genesis', 'chevrolet_kalos',\n",
       "       'infiniti_qx80', 'infiniti_q70', 'chevrolet_suburban',\n",
       "       'daihatsu_materia', 'maserati_gransport', 'daihatsu_applause',\n",
       "       'audi_50', 'hyundai_elantra', 'ford_f350', 'daihatsu_charade',\n",
       "       'ford_bronco', 'ford_windstar', 'lancia_zeta', 'daewoo_rezzo',\n",
       "       'chevrolet_colorado', 'jaguar_xk', 'chevrolet_orlando',\n",
       "       'honda_accord', 'kia_cerato', 'lancia_thema', 'isuzu_trooper',\n",
       "       'chevrolet_matiz', 'chevrolet_express', 'alfa-romeo_164',\n",
       "       'daewoo_evanda', 'chevrolet_corvette', 'bmw_620', 'maserati_coupe',\n",
       "       'fiat_multipla', 'alfa-romeo_sportwagon', 'ferrari_348',\n",
       "       'jeep_wagoneer', 'infiniti_ex30', 'ford_m', 'fiat_linea',\n",
       "       'alfa-romeo_145', 'hyundai_genesis-coupe', 'ford_flex',\n",
       "       'aston-martin_aston-martin-lagonda', 'bmw_i7',\n",
       "       'aston-martin_virage', 'infiniti_m37', 'lancia_kappa',\n",
       "       'fiat_stilo', 'chevrolet_aveo', 'cadillac_cadillac',\n",
       "       'hyundai_accent', 'kia_shuma', 'citroen_xantia', 'audi_quattro',\n",
       "       'dodge_avenger', 'cadillac_eldorado', 'infiniti_ex35',\n",
       "       'daewoo_tacuma', 'bmw_i5', 'alfa-romeo_8c', 'hyundai_terracan',\n",
       "       'citroen_ami', 'infiniti_ex37', 'chrysler_ram-van',\n",
       "       'lamborghini_diablo', 'bmw_130', 'honda_odyssey', 'jeep_jeep',\n",
       "       'ford_gt', 'citroen_xsara', 'chevrolet_spark', 'ferrari_296',\n",
       "       'mazda_bt-50', 'audi_rs', 'chevrolet_2500', 'bmw_m1',\n",
       "       'daewoo_espero', 'jeep_commander', 'ford_gran-torino',\n",
       "       'chevrolet_blazer', 'land-rover_land-rover', 'infiniti_qx50',\n",
       "       'chevrolet_bolt', 'infiniti_m35', 'mazda_323', 'bentley_turbo-r',\n",
       "       'hyundai_sonata', 'lada_priora', 'fiat_seicento', 'lancia_dedra',\n",
       "       'bmw_active-hybrid-3', 'ferrari_512', 'alfa-romeo_155',\n",
       "       'lada_lada', 'kia_joice', 'mazda_tribute', 'chrysler_200',\n",
       "       'lada_nova', 'mazda_rx-8', 'alfa-romeo_146', 'ford_probe',\n",
       "       'bmw_725', 'hyundai_ix55', 'fiat_strada', 'citroen_c35',\n",
       "       'honda_stream', 'mazda_cx-9', 'ferrari_mondial'], dtype=object)"
      ]
     },
     "execution_count": 24,
     "metadata": {},
     "output_type": "execute_result"
    }
   ],
   "source": [
    "# Combine brand and model_only into a new column\n",
    "df_clean[\"cleaned_names\"] = df_clean[\"brand\"].str.lower() + \"_\" + df_clean[\"model_only\"].str.lower()\n",
    "df_clean[\"cleaned_names\"].unique()"
   ]
  },
  {
   "cell_type": "code",
   "execution_count": 25,
   "id": "132bbc8f-4a5e-453f-ad27-97a41cfd5016",
   "metadata": {},
   "outputs": [
    {
     "data": {
      "text/plain": [
       "Index(['brand', 'model', 'color', 'registration_date', 'year', 'price_in_euro',\n",
       "       'power_kw', 'power_ps', 'transmission_type', 'fuel_type',\n",
       "       'fuel_consumption_l_100km', 'fuel_consumption_g_km', 'mileage_in_km',\n",
       "       'offer_description'],\n",
       "      dtype='object')"
      ]
     },
     "execution_count": 25,
     "metadata": {},
     "output_type": "execute_result"
    }
   ],
   "source": [
    "df_clean[\"model\"] =df_clean[\"cleaned_names\"]\n",
    "df_clean = df_clean.drop(columns =[\"model_only\",\"cleaned_names\"], axis = 1)\n",
    "df_clean.columns"
   ]
  },
  {
   "cell_type": "code",
   "execution_count": 26,
   "id": "2dbaa2c9-03d6-4336-bb1c-608b079e0b50",
   "metadata": {},
   "outputs": [
    {
     "data": {
      "text/plain": [
       "0"
      ]
     },
     "execution_count": 26,
     "metadata": {},
     "output_type": "execute_result"
    }
   ],
   "source": [
    "df_clean[\"model\"].isna().sum()"
   ]
  },
  {
   "cell_type": "markdown",
   "id": "cd94ca6a-6de9-4fc6-8166-4280aba4f9a2",
   "metadata": {},
   "source": [
    "### 3) Column year"
   ]
  },
  {
   "cell_type": "code",
   "execution_count": 27,
   "id": "36317fdd-8f43-4da8-a30b-12b650723adf",
   "metadata": {},
   "outputs": [
    {
     "data": {
      "text/plain": [
       "array(['2023', '2018', '2021', '2009', '2019', '2012', '2022', '2016',\n",
       "       '2005', '1999', '2015', '2004', '2020', '2011', '2017', '2010',\n",
       "       '2013', '2014', '2007', '2003', '2008', '2001', '1998', '2002',\n",
       "       '2000', '2006', '1995', '1997', '1996', 'Manual', 'Petrol',\n",
       "       'Diesel', '04/2017', 'Automatic', '113.000 km', '05/2017',\n",
       "       'Hybrid', '3700', 'Electric', '01/2019', '06/2021', '8.000 km',\n",
       "       '02/2020', '04/2006', 'LPG', '07/2021', '32.250 km', '03/2023',\n",
       "       '12/2003'], dtype=object)"
      ]
     },
     "execution_count": 27,
     "metadata": {},
     "output_type": "execute_result"
    }
   ],
   "source": [
    "df_clean[\"year\"].unique()"
   ]
  },
  {
   "cell_type": "code",
   "execution_count": 28,
   "id": "1f56f7a2-3680-44ba-ac03-2b68a4b86e93",
   "metadata": {},
   "outputs": [
    {
     "data": {
      "text/plain": [
       "array([2023., 2018., 2021., 2009., 2019., 2012., 2022., 2016., 2005.,\n",
       "       1999., 2015., 2004., 2020., 2011., 2017., 2010., 2013., 2014.,\n",
       "       2007., 2003., 2008., 2001., 1998., 2002., 2000., 2006., 1995.,\n",
       "       1997., 1996.,   nan])"
      ]
     },
     "execution_count": 28,
     "metadata": {},
     "output_type": "execute_result"
    }
   ],
   "source": [
    "def clean_year(value):\n",
    "    val = str(value).strip()\n",
    "    \n",
    "    if val.isdigit():\n",
    "        year = int(val)\n",
    "        if 1950 <= year <= 2025:\n",
    "            return year\n",
    "    match = re.search(r\"(\\d{4})\", val)\n",
    "    if match:\n",
    "        year = int(match.group(1))\n",
    "        if 1950 <= year <= 2025:\n",
    "            return year\n",
    "    return np.nan\n",
    "\n",
    "df_clean[\"year\"] = df_clean[\"year\"].apply(clean_year)\n",
    "\n",
    "df_clean[\"year\"].unique()"
   ]
  },
  {
   "cell_type": "code",
   "execution_count": 29,
   "id": "de95a9ca-bf63-438d-8d3e-bee1ff5b4013",
   "metadata": {},
   "outputs": [
    {
     "data": {
      "text/plain": [
       "array([2023., 2018., 2021., 2009., 2019., 2012., 2022., 2016., 2005.,\n",
       "       1999., 2015., 2004., 2020., 2011., 2017., 2010., 2013., 2014.,\n",
       "       2007., 2003., 2008., 2001., 1998., 2002., 2000., 2006., 1995.,\n",
       "       1997., 1996.,   nan])"
      ]
     },
     "execution_count": 29,
     "metadata": {},
     "output_type": "execute_result"
    }
   ],
   "source": [
    "df_clean[\"year\"].unique()"
   ]
  },
  {
   "cell_type": "code",
   "execution_count": 30,
   "id": "1f06bc64-7d54-4405-a831-53dd0986756b",
   "metadata": {},
   "outputs": [
    {
     "data": {
      "text/plain": [
       "44"
      ]
     },
     "execution_count": 30,
     "metadata": {},
     "output_type": "execute_result"
    }
   ],
   "source": [
    "df_clean[\"year\"].isna().sum()"
   ]
  },
  {
   "cell_type": "markdown",
   "id": "67cec60f-acee-4b58-af1d-157d88acf7c2",
   "metadata": {},
   "source": [
    "### 4) Column price_in_euro  "
   ]
  },
  {
   "cell_type": "code",
   "execution_count": 31,
   "id": "e1eb6fa4-3dd4-43f0-82fc-a8a77ee43b8a",
   "metadata": {},
   "outputs": [
    {
     "data": {
      "text/plain": [
       "array(['38490', '11555', '48886', ..., '27555', '66930', '50299'],\n",
       "      dtype=object)"
      ]
     },
     "execution_count": 31,
     "metadata": {},
     "output_type": "execute_result"
    }
   ],
   "source": [
    "df_clean[\"price_in_euro\"].unique()"
   ]
  },
  {
   "cell_type": "code",
   "execution_count": 32,
   "id": "fe91f638-9784-4e6e-a3a5-90c0057cb4ff",
   "metadata": {},
   "outputs": [
    {
     "data": {
      "text/plain": [
       "array(['AHK', ' 62.000km', ' AC-Schnitzer 360 PS', ' Style',\n",
       "       ' LED+AHVK+Na', ' Klima!  TÜV neu!', ' Matrix ', ' leder',\n",
       "       'Automatik', ' Remus Sport', 'Winter', 'ROSTFREI', 'LEDER',\n",
       "       ' 258 PS TÜV 07/24', 'VOLL LED', ' LED', ' 4-J.GARANTIE',\n",
       "       'ROSTHREI', '6-Gang', ' UPE \\x80 103', ' GARANTIE', ' Unfallfrei',\n",
       "       ' PP', 'Navigation', 'Inkl-2.Jahre Garantie', ' Sofort Verfügbar',\n",
       "       'Deutsch', '5 t', '  Navigation', 'Navi', ' AzV und Fahrradträger',\n",
       "       ' Leder *sofort verfügbar*', ' NAVplus LEDER PANO ALC',\n",
       "       'AHK schwenkbar', '5L/ o.TÜV / 5 trg',\n",
       "       ' 4x4 mit hoher Anhängelast*', ' Panoramdach', 'amp', ' Navi',\n",
       "       'TÜV NEU', ' KLIMAAUTOMATIK*', ' Scheckheft **',\n",
       "       ' AAC/ NAV/ LEDER/ SHZ/ GRA', ' TÜV NEU',\n",
       "       ' XEN AAC SHZ FSP APS 5TRG', ' NAVpro HUD HiFi AHK..',\n",
       "       ' Klimaaut+Parkpil', ' 8 x Räder', 'SYNC 4', ' Klima', ' 8xREIFEN'],\n",
       "      dtype=object)"
      ]
     },
     "execution_count": 32,
     "metadata": {},
     "output_type": "execute_result"
    }
   ],
   "source": [
    "mask_non_numeric = df_clean[\"price_in_euro\"].astype(str).str.contains(r\"[^0-9]\")\n",
    "bad_rows = df_clean[mask_non_numeric]\n",
    "bad_rows[\"price_in_euro\"].unique()"
   ]
  },
  {
   "cell_type": "code",
   "execution_count": 33,
   "id": "e1d38499-9039-419a-949f-cad2535db557",
   "metadata": {},
   "outputs": [
    {
     "data": {
      "text/plain": [
       "array([38490., 11555., 48886., ..., 27555., 66930., 50299.])"
      ]
     },
     "execution_count": 33,
     "metadata": {},
     "output_type": "execute_result"
    }
   ],
   "source": [
    "df_clean[\"price_in_euro\"] = pd.to_numeric(df_clean[\"price_in_euro\"], errors=\"coerce\")\n",
    "df_clean[\"price_in_euro\"].unique()"
   ]
  },
  {
   "cell_type": "code",
   "execution_count": 34,
   "id": "f0c74165-ee6d-465b-8d03-caa74a54249d",
   "metadata": {},
   "outputs": [
    {
     "data": {
      "text/plain": [
       "count    9.981400e+04\n",
       "mean     2.938809e+04\n",
       "std      4.777309e+04\n",
       "min      1.500000e+02\n",
       "25%      1.290000e+04\n",
       "50%      2.047000e+04\n",
       "75%      3.245000e+04\n",
       "max      5.890500e+06\n",
       "Name: price_in_euro, dtype: float64"
      ]
     },
     "execution_count": 34,
     "metadata": {},
     "output_type": "execute_result"
    }
   ],
   "source": [
    "df_clean[\"price_in_euro\"].describe()"
   ]
  },
  {
   "cell_type": "code",
   "execution_count": 35,
   "id": "5855e1b8-cbd2-40f8-a373-ed2ff3c8315c",
   "metadata": {},
   "outputs": [],
   "source": [
    "Q1 = df_clean[\"price_in_euro\"].quantile(0.25)\n",
    "Q3 = df_clean[\"price_in_euro\"].quantile(0.75)\n",
    "IQR = Q3 - Q1\n",
    "\n",
    "lower_bound = Q1 - 1.5 * IQR\n",
    "upper_bound = Q3 + 1.5 * IQR\n",
    "\n",
    "outliers = df_clean[(df_clean[\"price_in_euro\"] < lower_bound) | \n",
    "                    (df_clean[\"price_in_euro\"] > upper_bound)]"
   ]
  },
  {
   "cell_type": "code",
   "execution_count": 36,
   "id": "6502a5b8-6d19-4951-b40f-c236cbca1396",
   "metadata": {},
   "outputs": [
    {
     "data": {
      "text/html": [
       "<div>\n",
       "<style scoped>\n",
       "    .dataframe tbody tr th:only-of-type {\n",
       "        vertical-align: middle;\n",
       "    }\n",
       "\n",
       "    .dataframe tbody tr th {\n",
       "        vertical-align: top;\n",
       "    }\n",
       "\n",
       "    .dataframe thead th {\n",
       "        text-align: right;\n",
       "    }\n",
       "</style>\n",
       "<table border=\"1\" class=\"dataframe\">\n",
       "  <thead>\n",
       "    <tr style=\"text-align: right;\">\n",
       "      <th></th>\n",
       "      <th>brand</th>\n",
       "      <th>model</th>\n",
       "      <th>color</th>\n",
       "      <th>registration_date</th>\n",
       "      <th>year</th>\n",
       "      <th>price_in_euro</th>\n",
       "      <th>power_kw</th>\n",
       "      <th>power_ps</th>\n",
       "      <th>transmission_type</th>\n",
       "      <th>fuel_type</th>\n",
       "      <th>fuel_consumption_l_100km</th>\n",
       "      <th>fuel_consumption_g_km</th>\n",
       "      <th>mileage_in_km</th>\n",
       "      <th>offer_description</th>\n",
       "    </tr>\n",
       "  </thead>\n",
       "  <tbody>\n",
       "    <tr>\n",
       "      <th>11</th>\n",
       "      <td>bmw</td>\n",
       "      <td>bmw_x5</td>\n",
       "      <td>blue</td>\n",
       "      <td>07/2022</td>\n",
       "      <td>2022.0</td>\n",
       "      <td>87800.0</td>\n",
       "      <td>290</td>\n",
       "      <td>394</td>\n",
       "      <td>Automatic</td>\n",
       "      <td>Hybrid</td>\n",
       "      <td>NaN</td>\n",
       "      <td>99 km Reichweite</td>\n",
       "      <td>21674.0</td>\n",
       "      <td>xDrive45e M Sport h&amp;k AHK Pano Laser ACC PA</td>\n",
       "    </tr>\n",
       "    <tr>\n",
       "      <th>24</th>\n",
       "      <td>bmw</td>\n",
       "      <td>bmw_x5</td>\n",
       "      <td>blue</td>\n",
       "      <td>07/2021</td>\n",
       "      <td>2021.0</td>\n",
       "      <td>68990.0</td>\n",
       "      <td>245</td>\n",
       "      <td>333</td>\n",
       "      <td>Automatic</td>\n",
       "      <td>Petrol</td>\n",
       "      <td>8,4 l/100 km</td>\n",
       "      <td>192 g/km</td>\n",
       "      <td>19788.0</td>\n",
       "      <td>xDrive40i M Sport 20'' H/K Pano StHzg AHK Lase...</td>\n",
       "    </tr>\n",
       "    <tr>\n",
       "      <th>38</th>\n",
       "      <td>land-rover</td>\n",
       "      <td>land-rover_range-rover-evoque</td>\n",
       "      <td>grey</td>\n",
       "      <td>06/2023</td>\n",
       "      <td>2023.0</td>\n",
       "      <td>63900.0</td>\n",
       "      <td>147</td>\n",
       "      <td>200</td>\n",
       "      <td>Automatic</td>\n",
       "      <td>Petrol</td>\n",
       "      <td>9,3 l/100 km</td>\n",
       "      <td>211 g/km</td>\n",
       "      <td>1500.0</td>\n",
       "      <td>2.0 Benzin P200 R-Dynamic SE,</td>\n",
       "    </tr>\n",
       "    <tr>\n",
       "      <th>56</th>\n",
       "      <td>lamborghini</td>\n",
       "      <td>lamborghini_huracan</td>\n",
       "      <td>red</td>\n",
       "      <td>08/2018</td>\n",
       "      <td>2018.0</td>\n",
       "      <td>334900.0</td>\n",
       "      <td>471</td>\n",
       "      <td>640</td>\n",
       "      <td>Automatic</td>\n",
       "      <td>Petrol</td>\n",
       "      <td>12,3 l/100 km</td>\n",
       "      <td>285 g/km</td>\n",
       "      <td>13819.0</td>\n",
       "      <td>Performante Spyder LP 640-4</td>\n",
       "    </tr>\n",
       "    <tr>\n",
       "      <th>92</th>\n",
       "      <td>audi</td>\n",
       "      <td>audi_sq5</td>\n",
       "      <td>black</td>\n",
       "      <td>08/2018</td>\n",
       "      <td>2018.0</td>\n",
       "      <td>178000.0</td>\n",
       "      <td>260</td>\n",
       "      <td>354</td>\n",
       "      <td>Automatic</td>\n",
       "      <td>Petrol</td>\n",
       "      <td>8,3 l/100 km</td>\n",
       "      <td>- (g/km)</td>\n",
       "      <td>18500.0</td>\n",
       "      <td>3.0 TFSI quattro/HUD/B&amp;O/360°/Luftfed./Distr</td>\n",
       "    </tr>\n",
       "  </tbody>\n",
       "</table>\n",
       "</div>"
      ],
      "text/plain": [
       "          brand                          model  color registration_date  \\\n",
       "11          bmw                         bmw_x5   blue           07/2022   \n",
       "24          bmw                         bmw_x5   blue           07/2021   \n",
       "38   land-rover  land-rover_range-rover-evoque   grey           06/2023   \n",
       "56  lamborghini            lamborghini_huracan    red           08/2018   \n",
       "92         audi                       audi_sq5  black           08/2018   \n",
       "\n",
       "      year  price_in_euro power_kw power_ps transmission_type fuel_type  \\\n",
       "11  2022.0        87800.0      290      394         Automatic    Hybrid   \n",
       "24  2021.0        68990.0      245      333         Automatic    Petrol   \n",
       "38  2023.0        63900.0      147      200         Automatic    Petrol   \n",
       "56  2018.0       334900.0      471      640         Automatic    Petrol   \n",
       "92  2018.0       178000.0      260      354         Automatic    Petrol   \n",
       "\n",
       "   fuel_consumption_l_100km fuel_consumption_g_km  mileage_in_km  \\\n",
       "11                      NaN      99 km Reichweite        21674.0   \n",
       "24             8,4 l/100 km              192 g/km        19788.0   \n",
       "38             9,3 l/100 km              211 g/km         1500.0   \n",
       "56            12,3 l/100 km              285 g/km        13819.0   \n",
       "92             8,3 l/100 km              - (g/km)        18500.0   \n",
       "\n",
       "                                    offer_description  \n",
       "11        xDrive45e M Sport h&k AHK Pano Laser ACC PA  \n",
       "24  xDrive40i M Sport 20'' H/K Pano StHzg AHK Lase...  \n",
       "38                      2.0 Benzin P200 R-Dynamic SE,  \n",
       "56                        Performante Spyder LP 640-4  \n",
       "92       3.0 TFSI quattro/HUD/B&O/360°/Luftfed./Distr  "
      ]
     },
     "execution_count": 36,
     "metadata": {},
     "output_type": "execute_result"
    }
   ],
   "source": [
    "outliers.head()"
   ]
  },
  {
   "cell_type": "code",
   "execution_count": 37,
   "id": "618444a5-aa1e-49cf-8221-c0fcadb57b65",
   "metadata": {},
   "outputs": [
    {
     "name": "stdout",
     "output_type": "stream",
     "text": [
      "0.900      50990.0\n",
      "0.950      69980.0\n",
      "0.990     229797.4\n",
      "0.995     299900.0\n",
      "1.000    5890500.0\n",
      "Name: price_in_euro, dtype: float64\n"
     ]
    }
   ],
   "source": [
    "percentiles = df_clean[\"price_in_euro\"].quantile([0.90, 0.95, 0.99, 0.995, 1.0])\n",
    "print(percentiles)\n"
   ]
  },
  {
   "cell_type": "code",
   "execution_count": 38,
   "id": "8428adfe-d031-450a-ab4b-3fc7b7e0d406",
   "metadata": {},
   "outputs": [
    {
     "data": {
      "image/png": "[encoded data removed]",
      "text/plain": [
       "<Figure size 1000x500 with 1 Axes>"
      ]
     },
     "metadata": {},
     "output_type": "display_data"
    }
   ],
   "source": [
    "import matplotlib.pyplot as plt\n",
    "import seaborn as sns\n",
    "\n",
    "plt.figure(figsize=(10,5))\n",
    "sns.histplot(df_clean[\"price_in_euro\"], bins=100, kde=True)\n",
    "plt.xlim(0, 500000)  # zoom in (adjust this threshold)\n",
    "plt.title(\"Distribution of Vehicle Prices\")\n",
    "plt.show()\n"
   ]
  },
  {
   "cell_type": "code",
   "execution_count": 39,
   "id": "dcc0e2c9-b95b-4c21-be30-9baf19c6f856",
   "metadata": {},
   "outputs": [],
   "source": [
    "upper_cap = df_clean[\"price_in_euro\"].quantile(0.995)\n",
    "df_clean = df_clean[df_clean[\"price_in_euro\"] <= upper_cap]"
   ]
  },
  {
   "cell_type": "code",
   "execution_count": 40,
   "id": "eef8acab-4bde-40a2-89c6-7d4137585087",
   "metadata": {},
   "outputs": [
    {
     "name": "stdout",
     "output_type": "stream",
     "text": [
      "0.900     49980.00\n",
      "0.950     67880.00\n",
      "0.990    155888.73\n",
      "0.995    229900.00\n",
      "1.000    299900.00\n",
      "Name: price_in_euro, dtype: float64\n"
     ]
    }
   ],
   "source": [
    "percentiles = df_clean[\"price_in_euro\"].quantile([0.90, 0.95, 0.99, 0.995, 1.0])\n",
    "print(percentiles)\n"
   ]
  },
  {
   "cell_type": "code",
   "execution_count": 41,
   "id": "f89b5ca3-b0b6-4ab8-9316-5d1efd7d2567",
   "metadata": {},
   "outputs": [
    {
     "data": {
      "text/plain": [
       "0"
      ]
     },
     "execution_count": 41,
     "metadata": {},
     "output_type": "execute_result"
    }
   ],
   "source": [
    "df_clean[\"price_in_euro\"].isna().sum()"
   ]
  },
  {
   "cell_type": "markdown",
   "id": "b40a9556-4c9b-4636-a933-563d51d9c5ee",
   "metadata": {},
   "source": [
    "### 5) Column transmission_type "
   ]
  },
  {
   "cell_type": "code",
   "execution_count": 42,
   "id": "6bb4d96f-14a5-4544-9fb1-879bbef9bfa1",
   "metadata": {},
   "outputs": [
    {
     "data": {
      "text/plain": [
       "array(['Automatic', 'Manual', 'Unknown', 'Semi-automatic'], dtype=object)"
      ]
     },
     "execution_count": 42,
     "metadata": {},
     "output_type": "execute_result"
    }
   ],
   "source": [
    "df_clean[\"transmission_type\"].unique()"
   ]
  },
  {
   "cell_type": "code",
   "execution_count": 43,
   "id": "6648dee3-9480-48c7-be2b-635c786464c3",
   "metadata": {},
   "outputs": [
    {
     "data": {
      "text/plain": [
       "array(['automatic', 'manual', nan, 'semi-automatic'], dtype=object)"
      ]
     },
     "execution_count": 43,
     "metadata": {},
     "output_type": "execute_result"
    }
   ],
   "source": [
    "df_clean[\"transmission_type\"] = (\n",
    "    df_clean[\"transmission_type\"]\n",
    "    .str.lower()\n",
    "    .replace(\"unknown\", np.nan)\n",
    ")\n",
    "df_clean[\"transmission_type\"].unique()"
   ]
  },
  {
   "cell_type": "code",
   "execution_count": 44,
   "id": "2018acd6-9c8b-4127-82ee-5668cde74f95",
   "metadata": {},
   "outputs": [
    {
     "data": {
      "text/plain": [
       "491"
      ]
     },
     "execution_count": 44,
     "metadata": {},
     "output_type": "execute_result"
    }
   ],
   "source": [
    "df_clean[\"transmission_type\"].isna().sum()"
   ]
  },
  {
   "cell_type": "code",
   "execution_count": 45,
   "id": "68caa888-ee22-49ba-93b3-acd45aef2ec7",
   "metadata": {},
   "outputs": [],
   "source": [
    "mode_transmission = (\n",
    "    df_clean.groupby([\"model\", \"year\"])[\"transmission_type\"]\n",
    "    .agg(lambda x: x.mode()[0] if not x.mode().empty else np.nan)\n",
    ")\n",
    "\n",
    "# Step 2: replace NaNs using that mapping\n",
    "df_clean.loc[df_clean[\"transmission_type\"].isna(), \"transmission_type\"] = (\n",
    "    df_clean.loc[df_clean[\"transmission_type\"].isna(), [\"model\", \"year\"]]\n",
    "    .apply(lambda row: mode_transmission.get((row[\"model\"], row[\"year\"])), axis=1)\n",
    ")"
   ]
  },
  {
   "cell_type": "code",
   "execution_count": 46,
   "id": "25cbcfe3-4158-4a6b-8196-0bb5b44b75fa",
   "metadata": {},
   "outputs": [
    {
     "data": {
      "text/plain": [
       "8"
      ]
     },
     "execution_count": 46,
     "metadata": {},
     "output_type": "execute_result"
    }
   ],
   "source": [
    "df_clean[\"transmission_type\"].isna().sum()"
   ]
  },
  {
   "cell_type": "code",
   "execution_count": 47,
   "id": "aeb9bf29-c441-4f53-9ac0-207403284d04",
   "metadata": {},
   "outputs": [],
   "source": [
    "mode_transmission_year = (\n",
    "    df_clean.groupby(\"year\")[\"transmission_type\"]\n",
    "    .agg(lambda x: x.mode()[0] if not x.mode().empty else np.nan)\n",
    ")\n",
    "\n",
    "# Step 2: replace NaNs using the year-level mode\n",
    "df_clean.loc[df_clean[\"transmission_type\"].isna(), \"transmission_type\"] = (\n",
    "    df_clean.loc[df_clean[\"transmission_type\"].isna(), \"year\"]\n",
    "    .map(mode_transmission_year)\n",
    ")"
   ]
  },
  {
   "cell_type": "code",
   "execution_count": 48,
   "id": "1bc5992c-46c1-4751-b05b-1651c33e0737",
   "metadata": {},
   "outputs": [
    {
     "data": {
      "text/plain": [
       "0"
      ]
     },
     "execution_count": 48,
     "metadata": {},
     "output_type": "execute_result"
    }
   ],
   "source": [
    "df_clean[\"transmission_type\"].isna().sum()"
   ]
  },
  {
   "cell_type": "markdown",
   "id": "b882cb06-dd37-49e0-9f66-5d6e79252e89",
   "metadata": {},
   "source": [
    "### 6) Column fuel_type "
   ]
  },
  {
   "cell_type": "code",
   "execution_count": 49,
   "id": "a81288f7-32f5-4232-837c-ae435b73db32",
   "metadata": {},
   "outputs": [
    {
     "data": {
      "text/plain": [
       "array(['Hybrid', 'Petrol', 'Electric', 'Diesel', 'LPG', 'Diesel Hybrid',\n",
       "       'Other', 'CNG', 'Unknown', 'Hydrogen', 'Ethanol'], dtype=object)"
      ]
     },
     "execution_count": 49,
     "metadata": {},
     "output_type": "execute_result"
    }
   ],
   "source": [
    "df_clean[\"fuel_type\"].unique()"
   ]
  },
  {
   "cell_type": "code",
   "execution_count": 50,
   "id": "6734927f-88c9-4554-a4ac-1abec4665c03",
   "metadata": {},
   "outputs": [],
   "source": [
    "valid_fuels = [\n",
    "    \"petrol\", \"diesel\", \"electric\", \"hybrid\",\n",
    "    \"diesel_hybrid\", \"lpg\", \"cng\", \"hydrogen\", \"ethanol\"\n",
    "]\n",
    "\n",
    "df_clean[\"fuel_type\"] = (\n",
    "    df_clean[\"fuel_type\"]\n",
    "    .str.lower()                               # lowercase\n",
    "    .str.strip()                               # remove leading/trailing spaces\n",
    "    .str.replace(\" \", \"_\", regex=True)         # replace spaces with underscores\n",
    "    .apply(lambda x: x if x in valid_fuels else np.nan)  # keep only valid fuels\n",
    ")\n"
   ]
  },
  {
   "cell_type": "code",
   "execution_count": 51,
   "id": "40b5592e-9ff5-496f-88c2-947c34e597bb",
   "metadata": {},
   "outputs": [
    {
     "data": {
      "text/plain": [
       "array(['hybrid', 'petrol', 'electric', 'diesel', 'lpg', 'diesel_hybrid',\n",
       "       nan, 'cng', 'hydrogen', 'ethanol'], dtype=object)"
      ]
     },
     "execution_count": 51,
     "metadata": {},
     "output_type": "execute_result"
    }
   ],
   "source": [
    "df_clean[\"fuel_type\"].unique()"
   ]
  },
  {
   "cell_type": "code",
   "execution_count": 52,
   "id": "c177620a-6ff8-47ca-b424-65a31bedc124",
   "metadata": {},
   "outputs": [
    {
     "data": {
      "text/plain": [
       "127"
      ]
     },
     "execution_count": 52,
     "metadata": {},
     "output_type": "execute_result"
    }
   ],
   "source": [
    "df_clean[\"fuel_type\"].isna().sum()"
   ]
  },
  {
   "cell_type": "code",
   "execution_count": 53,
   "id": "59d26c78-c8d7-48c3-9d31-14f0b9dcf5ad",
   "metadata": {},
   "outputs": [],
   "source": [
    "df_clean = df_clean.reset_index(drop=True)\n",
    "\n",
    "\n",
    "year_mode = (\n",
    "    df_clean.groupby(\"year\")[\"fuel_type\"]\n",
    "    .agg(lambda x: x.mode()[0] if not x.mode().empty else np.nan)\n",
    ")\n",
    "\n",
    "\n",
    "df_clean.loc[df_clean[\"fuel_type\"].isna(), \"fuel_type\"] = (\n",
    "    df_clean.loc[df_clean[\"fuel_type\"].isna(), \"year\"].map(year_mode)\n",
    ")\n"
   ]
  },
  {
   "cell_type": "code",
   "execution_count": 54,
   "id": "e2edff75-1e0d-4338-884d-0296c5e6e6ef",
   "metadata": {},
   "outputs": [
    {
     "data": {
      "text/plain": [
       "array(['hybrid', 'petrol', 'electric', 'diesel', 'lpg', 'diesel_hybrid',\n",
       "       'cng', 'hydrogen', 'ethanol'], dtype=object)"
      ]
     },
     "execution_count": 54,
     "metadata": {},
     "output_type": "execute_result"
    }
   ],
   "source": [
    "df_clean[\"fuel_type\"].unique()"
   ]
  },
  {
   "cell_type": "code",
   "execution_count": 55,
   "id": "5304d31f-b3f1-4156-be2e-698dfcce3f87",
   "metadata": {},
   "outputs": [
    {
     "data": {
      "text/plain": [
       "0"
      ]
     },
     "execution_count": 55,
     "metadata": {},
     "output_type": "execute_result"
    }
   ],
   "source": [
    "df_clean[\"fuel_type\"].isna().sum()"
   ]
  },
  {
   "cell_type": "markdown",
   "id": "881f5f5d-d51e-41fd-b095-68f76a0fc3f2",
   "metadata": {},
   "source": [
    "### 7) Column fuel_consumption_g_km"
   ]
  },
  {
   "cell_type": "code",
   "execution_count": 56,
   "id": "6f4b75d3-0120-4d9d-8eaf-7775777326d5",
   "metadata": {},
   "outputs": [
    {
     "data": {
      "text/plain": [
       "array(['124 g/km', '106 g/km', '0 g/km', '175 g/km', '150 g/km',\n",
       "       '155 g/km', '232 g/km', '125 g/km', '129 g/km', '113 g/km',\n",
       "       '- (g/km)', '99 km Reichweite', '119 g/km', '59 km Reichweite',\n",
       "       '170 g/km', '196 g/km', '226 g/km', '120 g/km', '199 g/km',\n",
       "       '280 km Reichweite', '189 g/km', '192 g/km', '123 g/km',\n",
       "       '183 g/km', '139 g/km', '122 g/km', '166 g/km', '127 g/km',\n",
       "       '117 g/km', '165 g/km', '153 g/km', '211 g/km', '107 g/km',\n",
       "       '224 g/km', '114 g/km', '176 g/km', '145 g/km', '201 g/km',\n",
       "       '185 g/km', '134 g/km', '116 g/km', '148 g/km', '57 g/km',\n",
       "       '156 g/km', '149 g/km', '159 g/km', '160 g/km', '195 g/km',\n",
       "       '157 g/km', '206 g/km', '136 g/km', '115 g/km', '154 g/km',\n",
       "       '103 g/km', '276 g/km', '161 g/km', '146 g/km', '180 g/km',\n",
       "       '289 g/km', '112 g/km', '234 g/km', '140 g/km', '121 g/km',\n",
       "       '118 g/km', '169 g/km', '41 g/km', '137 g/km', '207 g/km',\n",
       "       '91 g/km', '143 g/km', '248 g/km', '179 g/km', '130 g/km',\n",
       "       '144 g/km', '135 g/km', '126 g/km', '102 g/km', '184 g/km',\n",
       "       '104 g/km', '163 g/km', '108 g/km', '255 g/km', '393 g/km',\n",
       "       '147 g/km', '110 g/km', '230 km Reichweite', '152 g/km', '88 g/km',\n",
       "       '260 km Reichweite', '133 g/km', '132 g/km', '93 g/km', '109 g/km',\n",
       "       '31 g/km', '111 g/km', '203 g/km', '228 g/km', '264 g/km',\n",
       "       '208 g/km', '142 g/km', '198 g/km', '141 g/km', '99 g/km',\n",
       "       '188 g/km', '138 g/km', '212 g/km', '281 g/km', '197 g/km',\n",
       "       '287 g/km', '167 g/km', '174 g/km', '505 km Reichweite',\n",
       "       '205 g/km', '158 g/km', '164 g/km', '92 g/km', '225 g/km',\n",
       "       '187 g/km', '230 g/km', '217,4 g/km', '290 g/km', '221 g/km',\n",
       "       '264 km Reichweite', '105 g/km', '177 g/km', '216 g/km',\n",
       "       '171 g/km', '178 g/km', '191 g/km', '131 g/km', '1 g/km',\n",
       "       '172 g/km', '218 g/km', '352 g/km', '190 g/km', '90 g/km',\n",
       "       '231 g/km', '74 km Reichweite', '34 g/km', '243 g/km', '266 g/km',\n",
       "       '162 g/km', '97 g/km', '128 g/km', '151 g/km', '219 g/km',\n",
       "       '398 g/km', '194 g/km', '338 g/km', '227 g/km', '60 km Reichweite',\n",
       "       '279 g/km', '182 g/km', '326 g/km', '282 g/km', '263 g/km',\n",
       "       '233 g/km', '46 km Reichweite', '44 g/km', '26 g/km', '333 g/km',\n",
       "       '29 g/km', '462 km Reichweite', '181 g/km', '306 g/km', '96 g/km',\n",
       "       '98 g/km', '285 g/km', '278 g/km', '36 g/km', '100 g/km',\n",
       "       '298 g/km', '95 g/km', '246 g/km', '440 km Reichweite',\n",
       "       '540 km Reichweite', '238 g/km', '40 g/km', '490 g/km',\n",
       "       '470 km Reichweite', '43 g/km', '314 km Reichweite', '200 g/km',\n",
       "       '101 g/km', '134,4 g/km', '368 g/km', '480 km Reichweite',\n",
       "       '239 g/km', '57 km Reichweite', '217 g/km', '186 g/km', '235 g/km',\n",
       "       '222 g/km', '168 g/km', '274 g/km', '220 g/km', '252 g/km',\n",
       "       '257 g/km', '-/-', '173 g/km', '450 km Reichweite', '303 g/km',\n",
       "       '335 g/km', '85 g/km', '315 g/km', '53 g/km', '49 g/km',\n",
       "       '382 km Reichweite', '331 g/km', '310 g/km', '268 g/km',\n",
       "       '261 g/km', '170 km Reichweite', '51 g/km', '424 km Reichweite',\n",
       "       '254 g/km', '33 g/km', '421 km Reichweite', '410 g/km', '286 g/km',\n",
       "       '46 g/km', '359 km Reichweite', '273 g/km', '350 g/km',\n",
       "       '550 km Reichweite', '250 g/km', '452 km Reichweite', '210 g/km',\n",
       "       '283 g/km', '410 km Reichweite', '229 g/km', '465 g/km',\n",
       "       '500 g/km', '325 g/km', '307 g/km', '398 km Reichweite',\n",
       "       '190 km Reichweite', '204 g/km', '341 g/km', '275 g/km', '84 g/km',\n",
       "       '42 g/km', '244 g/km', '209 g/km', '54 g/km', '428 km Reichweite',\n",
       "       '193 g/km', '202 g/km', '237 g/km', '247 g/km', '45 km Reichweite',\n",
       "       '50 km Reichweite', '94 g/km', '66 g/km', '387 g/km',\n",
       "       '350 km Reichweite', '294 g/km', '313 g/km', '321 km Reichweite',\n",
       "       '48 g/km', '245 g/km', '210 km Reichweite', '134,3 g/km',\n",
       "       '223 g/km', '215 g/km', '249 g/km', '72 km Reichweite', '28 g/km',\n",
       "       '286 km Reichweite', '328 g/km', '82 g/km', '256 g/km',\n",
       "       '226,1 g/km', '253 g/km', '330 g/km', '213 g/km', '380 g/km',\n",
       "       '314 g/km', '265 g/km', '320 km Reichweite', '355 g/km',\n",
       "       '236 g/km', '50 g/km', '271 g/km', '269 g/km', '73 g/km',\n",
       "       '312 g/km', '32 g/km', '56 km Reichweite', '330 km Reichweite',\n",
       "       '51 km Reichweite', '299 g/km', '440 g/km', '216,8 g/km',\n",
       "       '332 g/km', '55 km Reichweite', '340 g/km', '190,1 g/km',\n",
       "       '275 km Reichweite', '40 km Reichweite', '44 km Reichweite',\n",
       "       '30 g/km', '920 g/km', '58 km Reichweite', '351 g/km', '272 g/km',\n",
       "       '54 km Reichweite', '38 g/km', '180,8 g/km', '481 km Reichweite',\n",
       "       '276 km Reichweite', '41 km Reichweite', '241 g/km', '358 g/km',\n",
       "       '214 g/km', '320 g/km', '240 g/km', '484 km Reichweite',\n",
       "       '342 g/km', '258 g/km', '155,1 g/km', '400 km Reichweite',\n",
       "       '284 g/km', '251 g/km', '355 km Reichweite', '242 g/km',\n",
       "       '420 g/km', '143,5 g/km', '345 g/km', '292 g/km',\n",
       "       '47 km Reichweite', '347 g/km', '79 g/km', '301 g/km',\n",
       "       '281 km Reichweite', '305 km Reichweite', '460 km Reichweite',\n",
       "       '88 km Reichweite', '130,3 g/km', '415 km Reichweite',\n",
       "       '541 km Reichweite', '130,5 g/km', '499 km Reichweite',\n",
       "       '67 km Reichweite', '16 g/km', '47 g/km', '270 g/km', '138,5 g/km',\n",
       "       '293 g/km', '225 km Reichweite', '86 g/km', '311 km Reichweite',\n",
       "       '200 km Reichweite', '220 km Reichweite', '71 g/km',\n",
       "       '62 km Reichweite', '139,4 g/km', '322 g/km', '308 g/km',\n",
       "       '454 km Reichweite', '407 g/km', '247,4 g/km', '296 g/km',\n",
       "       '15.405 g/km', '8 g/km', '459 km Reichweite', '24 g/km',\n",
       "       '145,1 g/km', '35 g/km', '395 km Reichweite', '226,5 g/km',\n",
       "       '48 km Reichweite', '33 km Reichweite', '304 g/km',\n",
       "       '521 km Reichweite', '37 g/km', '259 g/km', '260 g/km',\n",
       "       '329 km Reichweite', '372 km Reichweite', '354 km Reichweite',\n",
       "       '135,5 g/km', '49 km Reichweite', '137,5 g/km', '53 km Reichweite',\n",
       "       '45 g/km', '369 km Reichweite', '249 km Reichweite', '302 g/km',\n",
       "       '346 g/km', '323 g/km', '477 km Reichweite', '384 g/km',\n",
       "       '301 km Reichweite', '389 km Reichweite', '323 km Reichweite',\n",
       "       '163,9 g/km', '280 g/km', '137,4 g/km', '317 km Reichweite',\n",
       "       '321 g/km', '433 km Reichweite', '27 g/km', '135,2 g/km',\n",
       "       '347 km Reichweite', '337 g/km', '493 km Reichweite',\n",
       "       '453 km Reichweite', '68 km Reichweite', '89 g/km',\n",
       "       '109 km Reichweite', '1.740 g/km', '420 km Reichweite', '305 g/km',\n",
       "       '65 km Reichweite', '288,3 g/km', '610 km Reichweite', '72 g/km',\n",
       "       '406 km Reichweite', '251 km Reichweite', '92 km Reichweite',\n",
       "       '25 g/km', '357 g/km', '450 g/km', '223,7 g/km',\n",
       "       '279 km Reichweite', '162,5 g/km', '148,9 g/km', '161,9 g/km',\n",
       "       '504 km Reichweite', '429 km Reichweite', '277 g/km', '354 g/km',\n",
       "       '360 g/km', '339 g/km', '392 g/km', '455 km Reichweite', '52 g/km',\n",
       "       '282 km Reichweite', '528 km Reichweite', '291 g/km', '425 g/km',\n",
       "       '352 km Reichweite', '406 g/km', '319 g/km', '466 km Reichweite',\n",
       "       '311 g/km', '421 g/km', '313 km Reichweite', '134,6 g/km',\n",
       "       '306 km Reichweite', '101,5 g/km', '317 g/km', '472 km Reichweite',\n",
       "       '52 km Reichweite', '175,1 g/km', '560 km Reichweite', '395 g/km',\n",
       "       '37 km Reichweite', '549 km Reichweite', '224,8 g/km', '295 g/km',\n",
       "       '5 g/km', '614 km Reichweite', '39 km Reichweite', '22 g/km',\n",
       "       '188,1 g/km', '346 km Reichweite', '396 g/km', '329 g/km',\n",
       "       '303 km Reichweite', '309 g/km', '495 g/km', '394 g/km',\n",
       "       '417 km Reichweite', '43 km Reichweite', '930 g/km', '21 g/km',\n",
       "       '380 km Reichweite', '479 km Reichweite', '365 g/km',\n",
       "       '394 km Reichweite', '340 km Reichweite', '308 km Reichweite',\n",
       "       '297 g/km', '546 km Reichweite', '129,8 g/km', '1.150 g/km',\n",
       "       '241,6 g/km', '184,5 g/km', '77 g/km', '288,5 g/km', '386 g/km',\n",
       "       '348 km Reichweite', '191,5 g/km', '63 km Reichweite', '55 g/km',\n",
       "       '132,3 g/km', '6 g/km', '262 g/km', '435 g/km', '327 g/km',\n",
       "       '999 g/km', '144,1 g/km', '166,1 g/km', '267 g/km', '154,1 g/km',\n",
       "       '76 g/km', '500 km Reichweite', '408 km Reichweite',\n",
       "       '502 km Reichweite', '149,4 g/km', '300 km Reichweite',\n",
       "       '202,8 g/km', '133,5 g/km', '152,8 g/km', '344 km Reichweite',\n",
       "       '506 km Reichweite', '2.722 g/km', '307 km Reichweite', '288 g/km',\n",
       "       '158,5 g/km', '135,6 g/km', '221,6 g/km', '191,7 g/km',\n",
       "       '153,1 g/km', '150,5 g/km', '519 km Reichweite',\n",
       "       '302 km Reichweite', '191,6 g/km', '62 g/km', '362 g/km',\n",
       "       '300 g/km', '2 g/km', '485 km Reichweite', '441 km Reichweite',\n",
       "       '193,9 g/km', '160,5 g/km', '10 g/km', '430 g/km', '343 g/km',\n",
       "       '388 g/km', '483 km Reichweite', '71 km Reichweite',\n",
       "       '61 km Reichweite', '318 g/km', '353 km Reichweite',\n",
       "       '425 km Reichweite', '285 km Reichweite', '131,1 g/km',\n",
       "       '245 km Reichweite', '69 g/km', '390 km Reichweite', '137,1 g/km',\n",
       "       '42 km Reichweite', '183,1 g/km', '449 km Reichweite',\n",
       "       '155,5 g/km', '39 g/km', '190,3 g/km', '87 g/km', '148,7 g/km',\n",
       "       '430 km Reichweite', '4 g/km', '382 g/km', '446 km Reichweite',\n",
       "       '150,4 g/km', '121,7 g/km', '503 km Reichweite', '195,1 g/km',\n",
       "       '371 km Reichweite', '14 g/km', '70 km Reichweite', '164,4 g/km',\n",
       "       '400 g/km', '422 g/km', '165,8 g/km', '349 g/km',\n",
       "       '588 km Reichweite', '203 km Reichweite', '415 g/km',\n",
       "       '69 km Reichweite', '193,6 g/km', '405 km Reichweite',\n",
       "       '227,8 g/km', '405 g/km', '360 km Reichweite', '153,6 g/km',\n",
       "       '13.035 g/km', '270 km Reichweite', '491 km Reichweite', '19 g/km',\n",
       "       '403 km Reichweite', '298 km Reichweite', '129,6 g/km',\n",
       "       '227,6 g/km', '146,6 g/km', '145,5 g/km', '525 km Reichweite',\n",
       "       '189,8 g/km', '487 km Reichweite', '496 km Reichweite', '78 g/km',\n",
       "       '153,8 g/km', '461 km Reichweite', '284 km Reichweite',\n",
       "       '136,4 g/km', '530 km Reichweite', '139,5 g/km',\n",
       "       '399 km Reichweite', '158,8 g/km', '13 g/km', '160,9 g/km',\n",
       "       '145,6 g/km', '209,8 g/km', '154,8 g/km', '419 g/km',\n",
       "       '345 km Reichweite', '389 g/km', '312 km Reichweite',\n",
       "       '482 km Reichweite', '66 km Reichweite', '221,8 g/km', '334 g/km',\n",
       "       '583 km Reichweite', '167,6 g/km', '59 g/km', '228,4 g/km',\n",
       "       '232,4 g/km', '448 km Reichweite', '209,9 g/km', '60 g/km',\n",
       "       '145,3 g/km', '344 g/km', '194,3 g/km', '84 km Reichweite',\n",
       "       '367 g/km', '277 km Reichweite', '463 km Reichweite',\n",
       "       '289 km Reichweite', '183,5 g/km', '409 km Reichweite',\n",
       "       '1.637 g/km', '1.070 g/km', '164,1 g/km', '64 km Reichweite',\n",
       "       '295,2 g/km', '128,8 g/km', '153,7 g/km', '222 km Reichweite',\n",
       "       '134,5 g/km', '129,3 g/km', '475 km Reichweite',\n",
       "       '434 km Reichweite', '520 g/km', '447 km Reichweite',\n",
       "       '388 km Reichweite', '396 km Reichweite', '152,9 g/km', '413 g/km',\n",
       "       '217,5 g/km', '181,8 g/km', '475 g/km', '75 g/km', '20 g/km',\n",
       "       '600 km Reichweite', '290 km Reichweite', '372 g/km', '399 g/km',\n",
       "       '591 km Reichweite', '146,9 g/km', '39,7 g/km',\n",
       "       '304 km Reichweite', '184,6 g/km', '161,5 g/km', '117,2 g/km',\n",
       "       '383 km Reichweite', '427 g/km', '423 g/km', '283 km Reichweite',\n",
       "       '278 km Reichweite', '597 km Reichweite', '316 g/km', '207,6 g/km',\n",
       "       '181,4 g/km', '250 km Reichweite', '215 km Reichweite',\n",
       "       '110 km Reichweite', '318 km Reichweite', '217,2 g/km',\n",
       "       '456 km Reichweite', '91 km Reichweite', '506 g/km', '56 g/km',\n",
       "       '35.000 g/km', '1.020 g/km', '74 g/km', '132,7 g/km', '133,8 g/km',\n",
       "       '336 g/km', '470 g/km', '547 km Reichweite', '379 g/km',\n",
       "       '148,1 g/km', '235 km Reichweite', '324 g/km', '412 km Reichweite',\n",
       "       '177,1 g/km', '147,3 g/km', '226,3 g/km', '348 g/km',\n",
       "       '389 km (Ort)', '451 km Reichweite', '533 km Reichweite',\n",
       "       '137,8 g/km', '384 km Reichweite', '178,8 g/km',\n",
       "       '464 km Reichweite', '124,4 g/km', '520 km Reichweite',\n",
       "       '488 km Reichweite', '197,4 g/km', '153,5 g/km',\n",
       "       '442 km Reichweite', '310 km Reichweite', '224,4 g/km',\n",
       "       '401 km Reichweite', '378 km Reichweite', '152,6 g/km', '4,8 g/km',\n",
       "       '469 g/km', '190,9 g/km', '122,5 g/km', '183,6 g/km', '359 g/km',\n",
       "       '14.694 g/km', '193,5 g/km', '209,5 g/km', '188,3 g/km',\n",
       "       '196,7 g/km', '361 g/km', '202,9 g/km', '168,5 g/km',\n",
       "       '288 km Reichweite', '132,2 g/km', '189,9 g/km', '385 g/km',\n",
       "       '87 km Reichweite', '134,9 g/km', '148,6 g/km', '181,7 g/km',\n",
       "       '211,5 g/km', '135,3 g/km', '163,7 g/km', '221,5 g/km',\n",
       "       '100 km Reichweite', '289,3 g/km', '338 km Reichweite',\n",
       "       '247 km Reichweite', '458 km Reichweite', '306,1 g/km',\n",
       "       '130 km Reichweite', '438 km Reichweite', '80 g/km', '125,8 g/km',\n",
       "       '115,7 g/km', '130,7 g/km', '163,3 g/km', '139,8 g/km', '23 g/km',\n",
       "       '328 km Reichweite', '204,6 g/km', '370 g/km', '169,5 g/km',\n",
       "       '209,3 g/km', '147,5 g/km', '189,5 g/km', '58 g/km',\n",
       "       '585 km Reichweite', '513 km Reichweite', '141,2 g/km',\n",
       "       '574 km Reichweite', '427 km Reichweite', '194,7 g/km',\n",
       "       '490 km Reichweite', '316 km Reichweite', '204,1 g/km',\n",
       "       '598 km Reichweite', '433 g/km', '134,1 g/km', '435 km Reichweite',\n",
       "       '518 km Reichweite', '70 g/km', '143,3 g/km', '206,3 g/km',\n",
       "       '159,7 g/km', '17 g/km', '130,1 g/km', '349 km Reichweite',\n",
       "       '437 km Reichweite', '418 g/km', '187,3 g/km', '142,7 g/km',\n",
       "       '210,4 g/km', '189,1 g/km', '391 km Reichweite', '443 g/km',\n",
       "       '362 km Reichweite', '240 km Reichweite', '363 g/km',\n",
       "       '439 km Reichweite', '471 km Reichweite', '154,5 g/km',\n",
       "       '407 km Reichweite', '225,4 g/km', '422 km Reichweite',\n",
       "       '510 km Reichweite', '224,2 g/km', '142,4 g/km', '184,3 g/km',\n",
       "       '1 km Reichweite', '199,4 g/km', '950 g/km', '224,6 g/km',\n",
       "       '190,8 g/km', '143,2 g/km', '166,5 g/km', '495 km Reichweite',\n",
       "       '154,4 g/km', '64 g/km', '593 km Reichweite', '444 km Reichweite',\n",
       "       '151,1 g/km', '434 g/km', '339 km Reichweite', '153,3 g/km',\n",
       "       '327 km Reichweite', '214,3 g/km', '191,8 g/km', '250,9 g/km',\n",
       "       '366 g/km', '1.325 g/km', '189,4 g/km', '146,3 g/km', '18 g/km',\n",
       "       '192,1 g/km', '383 g/km', '160,3 g/km', '423 km Reichweite',\n",
       "       '181,3 g/km', '75 km Reichweite', '592 km Reichweite',\n",
       "       '142,1 g/km', '158,9 g/km', '174,1 g/km', '83 g/km', '173,5 g/km',\n",
       "       '188,2 g/km', '231,5 g/km', '196,1 g/km', '390 g/km', '159,1 g/km',\n",
       "       '341 km Reichweite', '356 g/km', '159,8 g/km', '220,7 g/km',\n",
       "       '205 km Reichweite', '570 km Reichweite', '460 km (Ort)',\n",
       "       '180,1 g/km', '419 km Reichweite', '331 km Reichweite',\n",
       "       '149,6 g/km', '456 g/km', '160,7 g/km', '448 g/km',\n",
       "       '545 km Reichweite', '184,4 g/km', '137,6 g/km', '132,1 g/km',\n",
       "       '195,7 g/km', '141,9 g/km', '445 g/km', '564 km Reichweite',\n",
       "       '457 km Reichweite', '93 km Reichweite', '164,6 g/km',\n",
       "       '142,5 g/km', '214,5 g/km', '246 km Reichweite', '223,9 g/km',\n",
       "       '143,1 g/km', '188,9 g/km', '9 g/km', '136,9 g/km',\n",
       "       '432 km Reichweite'], dtype=object)"
      ]
     },
     "execution_count": 56,
     "metadata": {},
     "output_type": "execute_result"
    }
   ],
   "source": [
    "df_clean[\"fuel_consumption_g_km\"].unique()"
   ]
  },
  {
   "cell_type": "code",
   "execution_count": 57,
   "id": "816fb26f-f0d5-46f0-a140-5e70db789722",
   "metadata": {},
   "outputs": [
    {
     "name": "stdout",
     "output_type": "stream",
     "text": [
      "🔹 Total rows with Reichweite: 1706\n",
      "🔹 Total rows with Reichweite + g/km: 0\n",
      "\n",
      "Examples with Reichweite only:\n",
      "['99 km Reichweite' '59 km Reichweite' '280 km Reichweite'\n",
      " '230 km Reichweite' '260 km Reichweite' '505 km Reichweite'\n",
      " '264 km Reichweite' '74 km Reichweite' '60 km Reichweite'\n",
      " '46 km Reichweite']\n",
      "\n",
      "Examples with Reichweite + g/km:\n",
      "[]\n"
     ]
    }
   ],
   "source": [
    "\n",
    "fuel_vals = df_clean[\"fuel_consumption_g_km\"].astype(str).str.lower()\n",
    "\n",
    "\n",
    "mask_reichweite = fuel_vals.str.contains(\"reichweite\", na=False)\n",
    "\n",
    "\n",
    "mask_both = fuel_vals.str.contains(\"reichweite\", na=False) & fuel_vals.str.contains(\"g/km\", na=False)\n",
    "\n",
    "\n",
    "print(\"🔹 Total rows with Reichweite:\", mask_reichweite.sum())\n",
    "print(\"🔹 Total rows with Reichweite + g/km:\", mask_both.sum())\n",
    "\n",
    "print(\"\\nExamples with Reichweite only:\")\n",
    "print(df_clean.loc[mask_reichweite & ~mask_both, \"fuel_consumption_g_km\"].unique()[:10])\n",
    "\n",
    "print(\"\\nExamples with Reichweite + g/km:\")\n",
    "print(df_clean.loc[mask_both, \"fuel_consumption_g_km\"].unique()[:10])\n"
   ]
  },
  {
   "cell_type": "code",
   "execution_count": 58,
   "id": "6643b8d7-7c82-4114-a888-e9f1fb9a3dd2",
   "metadata": {},
   "outputs": [
    {
     "name": "stdout",
     "output_type": "stream",
     "text": [
      "Fuel type distribution for Reichweite vehicles:\n",
      "fuel_type\n",
      "electric    1225\n",
      "hybrid       454\n",
      "petrol        25\n",
      "diesel         2\n",
      "Name: count, dtype: int64\n"
     ]
    }
   ],
   "source": [
    "\n",
    "reichweite_rows = df_clean[mask_reichweite]\n",
    "fuel_type_counts = reichweite_rows[\"fuel_type\"].value_counts(dropna=False)\n",
    "\n",
    "print(\"Fuel type distribution for Reichweite vehicles:\")\n",
    "print(fuel_type_counts)\n"
   ]
  },
  {
   "cell_type": "code",
   "execution_count": 59,
   "id": "e714dd83-ee0c-4e7b-8feb-30c59b151296",
   "metadata": {},
   "outputs": [
    {
     "name": "stdout",
     "output_type": "stream",
     "text": [
      "Total electric vehicals : 2440\n",
      "Total hybrid vehicals : 4262\n",
      "Total petrol vehicals : 53868\n",
      "Total diesel vehicals : 37582\n"
     ]
    }
   ],
   "source": [
    "for i in [\"electric\" , \"hybrid\" ,\"petrol\",\"diesel\"]:\n",
    "    print(f\"Total {i} vehicals :\",\n",
    "           df_clean[df_clean[\"fuel_type\"] == i].shape[0])\n"
   ]
  },
  {
   "cell_type": "code",
   "execution_count": 60,
   "id": "94c76fb3-8efa-458b-bac0-258ff9939472",
   "metadata": {},
   "outputs": [
    {
     "data": {
      "text/plain": [
       "0"
      ]
     },
     "execution_count": 60,
     "metadata": {},
     "output_type": "execute_result"
    }
   ],
   "source": [
    "df_clean[df_clean[\"fuel_type\"] == \"petrol\"][\"fuel_consumption_g_km\"].isna().sum()"
   ]
  },
  {
   "cell_type": "code",
   "execution_count": 61,
   "id": "0dd82400-b65b-47ec-8b3b-30257c1f8070",
   "metadata": {},
   "outputs": [],
   "source": [
    "df_clean.loc[\n",
    "    mask_reichweite & df_clean[\"fuel_type\"].isin([\"petrol\", \"diesel\"]),\n",
    "    \"fuel_consumption_g_km\"\n",
    "] = np.nan\n"
   ]
  },
  {
   "cell_type": "code",
   "execution_count": 62,
   "id": "4f8f0f90-71a0-4e4d-a1c1-a1ce7c340dcf",
   "metadata": {},
   "outputs": [
    {
     "name": "stdout",
     "output_type": "stream",
     "text": [
      "   fuel_type fuel_consumption_g_km  ev_range_km\n",
      "0     hybrid              124 g/km          NaN\n",
      "1     petrol              106 g/km          NaN\n",
      "2   electric                0 g/km          NaN\n",
      "3     petrol              175 g/km          NaN\n",
      "4     petrol              150 g/km          NaN\n",
      "5     petrol              155 g/km          NaN\n",
      "6     diesel              232 g/km          NaN\n",
      "7     petrol              125 g/km          NaN\n",
      "8     petrol              129 g/km          NaN\n",
      "9     petrol              113 g/km          NaN\n",
      "10    diesel              - (g/km)          NaN\n",
      "11    hybrid                   NaN         99.0\n",
      "12    diesel              - (g/km)          NaN\n",
      "13    diesel              119 g/km          NaN\n",
      "14    hybrid                   NaN         59.0\n",
      "15    petrol              170 g/km          NaN\n",
      "16    petrol              196 g/km          NaN\n",
      "17    petrol              226 g/km          NaN\n",
      "18    diesel              - (g/km)          NaN\n",
      "19    petrol              120 g/km          NaN\n"
     ]
    }
   ],
   "source": [
    "\n",
    "# Step 1: create ev_range_km column (extract numeric if 'Reichweite' in value)\n",
    "df_clean[\"ev_range_km\"] = (\n",
    "    df_clean[\"fuel_consumption_g_km\"]\n",
    "    .str.extract(r\"(\\d+)\")   # extract digits\n",
    "    .astype(float)\n",
    ")\n",
    "\n",
    "# Keep ev_range only if fuel_type is electric or hybrid AND value contains Reichweite\n",
    "mask_ev_range = mask_reichweite & df_clean[\"fuel_type\"].isin([\"electric\", \"hybrid\"])\n",
    "df_clean.loc[~mask_ev_range, \"ev_range_km\"] = np.nan   # drop ranges for other types\n",
    "\n",
    "# Step 2: reset fuel_consumption_g_km to NaN for those rows (since it's not g/km)\n",
    "df_clean.loc[mask_ev_range, \"fuel_consumption_g_km\"] = np.nan\n",
    "\n",
    "\n",
    "print(df_clean[[\"fuel_type\", \"fuel_consumption_g_km\", \"ev_range_km\"]].head(20))\n"
   ]
  },
  {
   "cell_type": "code",
   "execution_count": 63,
   "id": "f3113cf6-c2af-46a8-903d-1d221e39d96b",
   "metadata": {},
   "outputs": [
    {
     "name": "stdout",
     "output_type": "stream",
     "text": [
      "  fuel_type fuel_consumption_g_km  ev_range_km\n",
      "0    hybrid              124 g/km          NaN\n",
      "1    petrol              106 g/km          0.0\n",
      "2  electric                     0          NaN\n",
      "3    petrol              175 g/km          0.0\n",
      "4    petrol              150 g/km          0.0\n",
      "5    petrol              155 g/km          0.0\n",
      "6    diesel              232 g/km          0.0\n",
      "7    petrol              125 g/km          0.0\n",
      "8    petrol              129 g/km          0.0\n",
      "9    petrol              113 g/km          0.0\n"
     ]
    }
   ],
   "source": [
    "# 1. For electric vehicles → fuel_consumption_g_km = 0\n",
    "df_clean.loc[df_clean[\"fuel_type\"] == \"electric\", \"fuel_consumption_g_km\"] = 0\n",
    "\n",
    "# 2. For petrol/diesel/other (NOT electric/hybrid) → ev_range_km = 0\n",
    "df_clean.loc[~df_clean[\"fuel_type\"].isin([\"electric\", \"hybrid\"]), \"ev_range_km\"] = 0\n",
    "\n",
    "\n",
    "print(df_clean[[\"fuel_type\",\"fuel_consumption_g_km\", \"ev_range_km\"]].head(10))\n"
   ]
  },
  {
   "cell_type": "code",
   "execution_count": 64,
   "id": "40e5f82d-a7c3-489a-a1db-5cadb2c4c66a",
   "metadata": {},
   "outputs": [
    {
     "data": {
      "text/plain": [
       "array([ nan,  99.,  59.,  74.,  60.,  46.,  57.,  45.,  50.,  72.,  56.,\n",
       "        51.,  55.,  40.,  44.,  58.,  54.,  41.,  47.,  88., 499.,  67.,\n",
       "       225.,  62.,  48.,  49.,  53.,  68., 109.,  65.,  52.,  37.,  39.,\n",
       "        43.,  63.,  71.,  61.,  42.,  70.,  69., 480.,  84.,  64., 250.,\n",
       "        92., 456.,  91.,  87., 320., 395.,  66., 433.,   1.,  33., 110.,\n",
       "       230., 420.,  93., 280.])"
      ]
     },
     "execution_count": 64,
     "metadata": {},
     "output_type": "execute_result"
    }
   ],
   "source": [
    "df_clean[df_clean[\"fuel_type\"] == \"hybrid\"][\"ev_range_km\"].unique()"
   ]
  },
  {
   "cell_type": "code",
   "execution_count": 65,
   "id": "f875183c-cfaa-4023-8028-c878364b8d90",
   "metadata": {},
   "outputs": [
    {
     "data": {
      "text/plain": [
       "array([ nan,  99.,  59.,  74.,  60.,  46.,  57.,  45.,  50.,  72.,  56.,\n",
       "        51.,  55.,  40.,  44.,  58.,  54.,  41.,  47.,  88., 499.,  67.,\n",
       "       225.,  62.,  48.,  49.,  53.,  68., 109.,  65.,  52.,  37.,  39.,\n",
       "        43.,  63.,  71.,  61.,  42.,  70.,  69., 480.,  84.,  64., 250.,\n",
       "        92., 456.,  91.,  87., 320., 395.,  66., 433.,   1.,  33., 110.,\n",
       "       230., 420.,  93., 280.])"
      ]
     },
     "execution_count": 65,
     "metadata": {},
     "output_type": "execute_result"
    }
   ],
   "source": [
    "df_clean[df_clean[\"fuel_type\"] == \"hybrid\"][\"ev_range_km\"].unique()"
   ]
  },
  {
   "cell_type": "code",
   "execution_count": 66,
   "id": "e0430c7e-c582-49e0-9651-7db1501a211f",
   "metadata": {},
   "outputs": [
    {
     "data": {
      "text/plain": [
       "array([ nan,  99.,  59.,  74.,  60.,  46.,  57.,  45.,  50.,  72.,  56.,\n",
       "        51.,  55.,  40.,  44.,  58.,  54.,  41.,  47.,  88., 499.,  67.,\n",
       "       225.,  62.,  48.,  49.,  53.,  68., 109.,  65.,  52.,  37.,  39.,\n",
       "        43.,  63.,  71.,  61.,  42.,  70.,  69., 480.,  84.,  64., 250.,\n",
       "        92., 456.,  91.,  87., 320., 395.,  66., 433.,   1.,  33., 110.,\n",
       "       230., 420.,  93., 280.])"
      ]
     },
     "execution_count": 66,
     "metadata": {},
     "output_type": "execute_result"
    }
   ],
   "source": [
    "df_clean[df_clean[\"fuel_type\"] == \"hybrid\"][\"ev_range_km\"].unique()"
   ]
  },
  {
   "cell_type": "code",
   "execution_count": 67,
   "id": "a6f21746-86bb-4d60-baea-f187fe7d55a4",
   "metadata": {},
   "outputs": [
    {
     "data": {
      "text/plain": [
       "array([ nan, 280., 230., 260., 505., 264., 462., 440., 540., 470., 314.,\n",
       "       480., 450., 382., 170., 424., 421., 359., 550., 452., 410., 398.,\n",
       "       190., 428., 350., 321., 210., 286., 320., 330., 275., 481., 276.,\n",
       "       484., 400., 355., 281., 305., 460., 415., 541., 311., 200., 220.,\n",
       "       454., 459., 395.,  33., 521., 329., 372., 354., 369., 249., 477.,\n",
       "       301., 389., 323., 317., 433., 347., 493., 453., 420., 610., 406.,\n",
       "       251.,  92., 279., 504., 429.,  45., 455., 282., 528., 352., 466.,\n",
       "       313., 306., 472., 560., 549., 614., 346., 303., 417., 380., 479.,\n",
       "       394., 340., 308., 546., 348.,  44., 500., 408., 502., 300., 344.,\n",
       "       506., 307., 519., 302., 485., 441.,  50., 483., 353., 425., 285.,\n",
       "       245., 390.,  59., 449., 430., 446., 503., 371., 588., 405., 360.,\n",
       "       270., 491., 403., 298., 525., 487., 496., 461., 284., 530., 399.,\n",
       "       345., 312., 482.,  66., 583., 448., 277., 463., 289., 409.,  64.,\n",
       "       222., 475., 434., 447., 388., 396., 600., 290., 591., 304.,  57.,\n",
       "       383., 283., 278., 597., 215.,  60., 110., 318.,  58., 547., 235.,\n",
       "       499., 412., 451., 533., 384., 464., 520., 488., 442., 310., 401.,\n",
       "       378.,  43., 288.,  40., 100., 250., 225., 338., 247., 458., 130.,\n",
       "       438., 328., 585., 513., 574., 427., 490., 316., 598., 435., 518.,\n",
       "        63., 349., 437., 391., 362., 240., 439., 471., 407., 422., 510.,\n",
       "       495., 203., 593., 444., 339., 327., 423.,  75., 592., 341., 205.,\n",
       "       570.,  84., 419., 331., 545., 564., 457., 246., 432.])"
      ]
     },
     "execution_count": 67,
     "metadata": {},
     "output_type": "execute_result"
    }
   ],
   "source": [
    "df_clean[df_clean[\"fuel_type\"] == \"electric\"][\"ev_range_km\"].unique()"
   ]
  },
  {
   "cell_type": "code",
   "execution_count": 68,
   "id": "9e9986ac-90bb-4962-92e1-16e7afe096e2",
   "metadata": {},
   "outputs": [],
   "source": [
    "\n",
    "def clean(value):\n",
    "    if pd.isna(value):  # keep NaN\n",
    "        return np.nan\n",
    "    try:\n",
    "        # Convert to string, find numbers (handles decimals/commas)\n",
    "        val = str(value).lower().strip()\n",
    "        num = re.findall(r\"[\\d,.]+\", val)\n",
    "        if num:\n",
    "            return float(num[0].replace(\",\", \".\"))\n",
    "    except:\n",
    "        return np.nan\n",
    "    return np.nan\n",
    "\n",
    "# Apply cleaning\n",
    "df_clean[\"fuel_consumption_g_km\"] = df_clean[\"fuel_consumption_g_km\"].apply(clean)\n",
    "\n",
    "# Make sure it's numeric dtype\n",
    "df_clean[\"fuel_consumption_g_km\"] = pd.to_numeric(df_clean[\"fuel_consumption_g_km\"], errors=\"coerce\")\n",
    "\n",
    "\n"
   ]
  },
  {
   "cell_type": "code",
   "execution_count": 69,
   "id": "c9acfac0-89fe-4221-80f1-da10431e7463",
   "metadata": {},
   "outputs": [
    {
     "data": {
      "text/plain": [
       "array([124.,  nan, 145.,  57.,  41., 102.,  88.,  31., 109., 120.,  34.,\n",
       "         0., 135.,  44.,  26.,  29., 136., 144.,  36.,  40., 126.,  43.,\n",
       "        93., 106.,  53.,  49., 108.,  51.,  33., 131., 112.,  46., 123.,\n",
       "        42.,  54., 163.,  66.,  85.,  94.,  48., 111.,  28.,  82., 140.,\n",
       "       110.,  97., 119.,  50.,  73.,  32., 115., 128., 228., 103., 113.,\n",
       "        30.,  38., 141., 137., 133., 118., 127., 101., 139., 105.,  99.,\n",
       "        96.,  79., 134.,  16.,  47.,  90., 143.,  84.,  92.,  71., 156.,\n",
       "       146.,  24., 129.,  35.,  37., 114.,  45., 153., 148., 216., 122.,\n",
       "       130., 132.,  27., 142.,  72.,  25.,  95., 121., 149.,  52., 125.,\n",
       "       151.,  22., 164.,  21., 172., 157.,  77.,  55.,  86., 227.,  76.,\n",
       "       169.,   2., 198.,  39.,  89., 176., 116., 219., 161.,  14., 226.,\n",
       "       178.,   4., 154., 138.,  19., 235., 107.,  78.,  13., 117., 166.,\n",
       "        59.,  60., 150., 242., 160., 100., 147., 199.,  75., 159., 243.,\n",
       "        20.,  56.,  74., 297., 165., 177.,  69.,  98., 184., 173., 190.,\n",
       "       180., 170., 195., 200., 104., 244., 209.,  80., 174.,  58., 158.,\n",
       "        70.,  17., 155., 214., 320., 271.,  64.,  91., 229., 220.,  18.,\n",
       "        23., 167., 208.])"
      ]
     },
     "execution_count": 69,
     "metadata": {},
     "output_type": "execute_result"
    }
   ],
   "source": [
    "df_clean[df_clean[\"fuel_type\"] == \"hybrid\"][\"fuel_consumption_g_km\"].unique()"
   ]
  },
  {
   "cell_type": "code",
   "execution_count": 70,
   "id": "e9823efe-b800-4eb3-8c1a-4e55f5f5308e",
   "metadata": {},
   "outputs": [
    {
     "data": {
      "text/plain": [
       "array([124.,  nan, 145.,  57.,  41., 102.,  88.,  31., 109., 120.,  34.,\n",
       "         0., 135.,  44.,  26.,  29., 136., 144.,  36.,  40., 126.,  43.,\n",
       "        93., 106.,  53.,  49., 108.,  51.,  33., 131., 112.,  46., 123.,\n",
       "        42.,  54., 163.,  66.,  85.,  94.,  48., 111.,  28.,  82., 140.,\n",
       "       110.,  97., 119.,  50.,  73.,  32., 115., 128., 228., 103., 113.,\n",
       "        30.,  38., 141., 137., 133., 118., 127., 101., 139., 105.,  99.,\n",
       "        96.,  79., 134.,  16.,  47.,  90., 143.,  84.,  92.,  71., 156.,\n",
       "       146.,  24., 129.,  35.,  37., 114.,  45., 153., 148., 216., 122.,\n",
       "       130., 132.,  27., 142.,  72.,  25.,  95., 121., 149.,  52., 125.,\n",
       "       151.,  22., 164.,  21., 172., 157.,  77.,  55.,  86., 227.,  76.,\n",
       "       169.,   2., 198.,  39.,  89., 176., 116., 219., 161.,  14., 226.,\n",
       "       178.,   4., 154., 138.,  19., 235., 107.,  78.,  13., 117., 166.,\n",
       "        59.,  60., 150., 242., 160., 100., 147., 199.,  75., 159., 243.,\n",
       "        20.,  56.,  74., 297., 165., 177.,  69.,  98., 184., 173., 190.,\n",
       "       180., 170., 195., 200., 104., 244., 209.,  80., 174.,  58., 158.,\n",
       "        70.,  17., 155., 214., 320., 271.,  64.,  91., 229., 220.,  18.,\n",
       "        23., 167., 208.])"
      ]
     },
     "execution_count": 70,
     "metadata": {},
     "output_type": "execute_result"
    }
   ],
   "source": [
    "df_clean[df_clean[\"fuel_type\"] == \"hybrid\"][\"fuel_consumption_g_km\"].unique()"
   ]
  },
  {
   "cell_type": "code",
   "execution_count": 71,
   "id": "16795475-816b-44fa-8ddd-8f72e7252c2d",
   "metadata": {},
   "outputs": [
    {
     "name": "stdout",
     "output_type": "stream",
     "text": [
      "count    82894.000000\n",
      "mean       142.171435\n",
      "std         59.739629\n",
      "min          0.000000\n",
      "25%        118.000000\n",
      "50%        138.000000\n",
      "75%        167.000000\n",
      "max        999.000000\n",
      "Name: fuel_consumption_g_km, dtype: float64\n"
     ]
    }
   ],
   "source": [
    "print(df_clean[\"fuel_consumption_g_km\"].describe())"
   ]
  },
  {
   "cell_type": "code",
   "execution_count": 72,
   "id": "7e98c076-32ef-44ca-b681-7060cf6649f2",
   "metadata": {},
   "outputs": [
    {
     "data": {
      "image/png": "[encoded data removed]",
      "text/plain": [
       "<Figure size 1000x600 with 1 Axes>"
      ]
     },
     "metadata": {},
     "output_type": "display_data"
    }
   ],
   "source": [
    "import matplotlib.pyplot as plt\n",
    "import seaborn as sns\n",
    "\n",
    "plt.figure(figsize=(10,6))\n",
    "sns.histplot(df_clean[\"fuel_consumption_g_km\"], bins=100, kde=True, color=\"skyblue\")\n",
    "plt.title(\"Distribution of Fuel Consumption (g/km)\")\n",
    "plt.xlabel(\"Fuel Consumption (g/km)\")\n",
    "plt.ylabel(\"Count\")\n",
    "plt.show()\n"
   ]
  },
  {
   "cell_type": "code",
   "execution_count": 73,
   "id": "a4f86f37-3bb9-4f4b-bc0f-58e1efb21b29",
   "metadata": {},
   "outputs": [],
   "source": [
    "df_clean.loc[df_clean[\"fuel_consumption_g_km\"] == 0, \"fuel_consumption_g_km\"] = np.nan"
   ]
  },
  {
   "cell_type": "code",
   "execution_count": 74,
   "id": "833305ae-81b3-4de9-b67f-f4c5bc54d9a0",
   "metadata": {},
   "outputs": [
    {
     "name": "stdout",
     "output_type": "stream",
     "text": [
      "0.9000    209.500\n",
      "0.9500    241.000\n",
      "0.9900    325.000\n",
      "0.9950    355.000\n",
      "0.9990    435.000\n",
      "0.9998    502.214\n",
      "0.9999    920.000\n",
      "1.0000    999.000\n",
      "Name: fuel_consumption_g_km, dtype: float64\n"
     ]
    }
   ],
   "source": [
    "percentiles = df_clean[\"fuel_consumption_g_km\"].quantile([0.90, 0.95, 0.99, 0.995, 0.999 ,0.9998 , 0.9999 ,1.0])\n",
    "print(percentiles)"
   ]
  },
  {
   "cell_type": "code",
   "execution_count": 75,
   "id": "6f3dfd78-65b6-4f78-9d01-ba4bd44b1cae",
   "metadata": {},
   "outputs": [
    {
     "data": {
      "text/html": [
       "<div>\n",
       "<style scoped>\n",
       "    .dataframe tbody tr th:only-of-type {\n",
       "        vertical-align: middle;\n",
       "    }\n",
       "\n",
       "    .dataframe tbody tr th {\n",
       "        vertical-align: top;\n",
       "    }\n",
       "\n",
       "    .dataframe thead th {\n",
       "        text-align: right;\n",
       "    }\n",
       "</style>\n",
       "<table border=\"1\" class=\"dataframe\">\n",
       "  <thead>\n",
       "    <tr style=\"text-align: right;\">\n",
       "      <th></th>\n",
       "      <th>brand</th>\n",
       "      <th>model</th>\n",
       "      <th>color</th>\n",
       "      <th>registration_date</th>\n",
       "      <th>year</th>\n",
       "      <th>price_in_euro</th>\n",
       "      <th>power_kw</th>\n",
       "      <th>power_ps</th>\n",
       "      <th>transmission_type</th>\n",
       "      <th>fuel_type</th>\n",
       "      <th>fuel_consumption_l_100km</th>\n",
       "      <th>fuel_consumption_g_km</th>\n",
       "      <th>mileage_in_km</th>\n",
       "      <th>offer_description</th>\n",
       "      <th>ev_range_km</th>\n",
       "    </tr>\n",
       "  </thead>\n",
       "  <tbody>\n",
       "    <tr>\n",
       "      <th>717</th>\n",
       "      <td>ferrari</td>\n",
       "      <td>ferrari_599</td>\n",
       "      <td>black</td>\n",
       "      <td>07/2011</td>\n",
       "      <td>2011.0</td>\n",
       "      <td>209900.0</td>\n",
       "      <td>456</td>\n",
       "      <td>620</td>\n",
       "      <td>semi-automatic</td>\n",
       "      <td>petrol</td>\n",
       "      <td>21,3 l/100 km</td>\n",
       "      <td>490.0</td>\n",
       "      <td>25950.0</td>\n",
       "      <td>GTB Fiorano F1 \"HGTE\"</td>\n",
       "      <td>0.0</td>\n",
       "    </tr>\n",
       "    <tr>\n",
       "      <th>1413</th>\n",
       "      <td>bentley</td>\n",
       "      <td>bentley_brooklands</td>\n",
       "      <td>grey</td>\n",
       "      <td>05/2010</td>\n",
       "      <td>2010.0</td>\n",
       "      <td>199990.0</td>\n",
       "      <td>395</td>\n",
       "      <td>537</td>\n",
       "      <td>automatic</td>\n",
       "      <td>petrol</td>\n",
       "      <td>19,5 l/100 km</td>\n",
       "      <td>465.0</td>\n",
       "      <td>63815.0</td>\n",
       "      <td>| LIMITIERT 550 STK. | SCHECKHEFT</td>\n",
       "      <td>0.0</td>\n",
       "    </tr>\n",
       "    <tr>\n",
       "      <th>1419</th>\n",
       "      <td>lamborghini</td>\n",
       "      <td>lamborghini_murciélago</td>\n",
       "      <td>yellow</td>\n",
       "      <td>10/2001</td>\n",
       "      <td>2001.0</td>\n",
       "      <td>269800.0</td>\n",
       "      <td>426</td>\n",
       "      <td>579</td>\n",
       "      <td>manual</td>\n",
       "      <td>petrol</td>\n",
       "      <td>21,5 l/100 km</td>\n",
       "      <td>500.0</td>\n",
       "      <td>138571.0</td>\n",
       "      <td>Murcielago Manual</td>\n",
       "      <td>0.0</td>\n",
       "    </tr>\n",
       "    <tr>\n",
       "      <th>2485</th>\n",
       "      <td>bentley</td>\n",
       "      <td>bentley_azure</td>\n",
       "      <td>black</td>\n",
       "      <td>07/2008</td>\n",
       "      <td>2008.0</td>\n",
       "      <td>124900.0</td>\n",
       "      <td>336</td>\n",
       "      <td>457</td>\n",
       "      <td>automatic</td>\n",
       "      <td>petrol</td>\n",
       "      <td>19,5 l/100 km</td>\n",
       "      <td>465.0</td>\n",
       "      <td>29900.0</td>\n",
       "      <td>2 Mulliner Cabrio aus 2008</td>\n",
       "      <td>0.0</td>\n",
       "    </tr>\n",
       "    <tr>\n",
       "      <th>2660</th>\n",
       "      <td>ferrari</td>\n",
       "      <td>ferrari_360</td>\n",
       "      <td>black</td>\n",
       "      <td>07/2004</td>\n",
       "      <td>2004.0</td>\n",
       "      <td>89990.0</td>\n",
       "      <td>294</td>\n",
       "      <td>400</td>\n",
       "      <td>automatic</td>\n",
       "      <td>petrol</td>\n",
       "      <td>17,9 l/100 km</td>\n",
       "      <td>440.0</td>\n",
       "      <td>57900.0</td>\n",
       "      <td>Spider F1 + Challenge + Carbon + Novitec +</td>\n",
       "      <td>0.0</td>\n",
       "    </tr>\n",
       "  </tbody>\n",
       "</table>\n",
       "</div>"
      ],
      "text/plain": [
       "            brand                   model   color registration_date    year  \\\n",
       "717       ferrari             ferrari_599   black           07/2011  2011.0   \n",
       "1413      bentley      bentley_brooklands    grey           05/2010  2010.0   \n",
       "1419  lamborghini  lamborghini_murciélago  yellow           10/2001  2001.0   \n",
       "2485      bentley           bentley_azure   black           07/2008  2008.0   \n",
       "2660      ferrari             ferrari_360   black           07/2004  2004.0   \n",
       "\n",
       "      price_in_euro power_kw power_ps transmission_type fuel_type  \\\n",
       "717        209900.0      456      620    semi-automatic    petrol   \n",
       "1413       199990.0      395      537         automatic    petrol   \n",
       "1419       269800.0      426      579            manual    petrol   \n",
       "2485       124900.0      336      457         automatic    petrol   \n",
       "2660        89990.0      294      400         automatic    petrol   \n",
       "\n",
       "     fuel_consumption_l_100km  fuel_consumption_g_km  mileage_in_km  \\\n",
       "717             21,3 l/100 km                  490.0        25950.0   \n",
       "1413            19,5 l/100 km                  465.0        63815.0   \n",
       "1419            21,5 l/100 km                  500.0       138571.0   \n",
       "2485            19,5 l/100 km                  465.0        29900.0   \n",
       "2660            17,9 l/100 km                  440.0        57900.0   \n",
       "\n",
       "                               offer_description  ev_range_km  \n",
       "717                        GTB Fiorano F1 \"HGTE\"          0.0  \n",
       "1413           | LIMITIERT 550 STK. | SCHECKHEFT          0.0  \n",
       "1419                           Murcielago Manual          0.0  \n",
       "2485                  2 Mulliner Cabrio aus 2008          0.0  \n",
       "2660  Spider F1 + Challenge + Carbon + Novitec +          0.0  "
      ]
     },
     "execution_count": 75,
     "metadata": {},
     "output_type": "execute_result"
    }
   ],
   "source": [
    "upper_cap = df_clean[\"fuel_consumption_g_km\"].quantile(0.999)\n",
    "\n",
    "extreme_rows = df_clean[df_clean[\"fuel_consumption_g_km\"] > upper_cap]\n",
    "extreme_rows.head()"
   ]
  },
  {
   "cell_type": "code",
   "execution_count": 76,
   "id": "316a9035-1e5e-4a9f-ad01-a263bb44004a",
   "metadata": {},
   "outputs": [
    {
     "name": "stdout",
     "output_type": "stream",
     "text": [
      "(16, 15)\n",
      "2918       ford_fiesta\n",
      "11952         fiat_500\n",
      "14311          mazda_2\n",
      "15962      kia_picanto\n",
      "19521      ford_fiesta\n",
      "36272      ferrari_550\n",
      "37539      ford_fiesta\n",
      "43834        dodge_ram\n",
      "45852      ford_fiesta\n",
      "49115     hyundai_ix35\n",
      "55963        dodge_ram\n",
      "67972      ferrari_456\n",
      "68352        dodge_ram\n",
      "69109          mazda_2\n",
      "72549      ford_fiesta\n",
      "76090    ford_ecosport\n",
      "Name: model, dtype: object\n"
     ]
    }
   ],
   "source": [
    "upper_cap = df_clean[\"fuel_consumption_g_km\"].quantile(0.9998)\n",
    "\n",
    "extreme_rows = df_clean[df_clean[\"fuel_consumption_g_km\"] > upper_cap]\n",
    "print(extreme_rows.shape)\n",
    "print(extreme_rows[\"model\"])"
   ]
  },
  {
   "cell_type": "code",
   "execution_count": 77,
   "id": "03287b16-002a-4b30-90bf-b7a1a45cf8fb",
   "metadata": {},
   "outputs": [
    {
     "data": {
      "text/plain": [
       "array(['ford_fiesta', 'fiat_500', 'mazda_2', 'kia_picanto', 'ferrari_550',\n",
       "       'dodge_ram', 'hyundai_ix35', 'ferrari_456', 'ford_ecosport'],\n",
       "      dtype=object)"
      ]
     },
     "execution_count": 77,
     "metadata": {},
     "output_type": "execute_result"
    }
   ],
   "source": [
    "models = extreme_rows[\"model\"].unique()\n",
    "models"
   ]
  },
  {
   "cell_type": "code",
   "execution_count": 78,
   "id": "9fcf4377-9740-4ce5-9633-109689c8d974",
   "metadata": {},
   "outputs": [
    {
     "name": "stdout",
     "output_type": "stream",
     "text": [
      "Model : ford_fiesta | Mean fuel Consumption : 119.5714908456844\n",
      "Model : fiat_500 | Mean fuel Consumption : 110.60418168709445\n",
      "Model : mazda_2 | Mean fuel Consumption : 116.50510204081633\n",
      "Model : kia_picanto | Mean fuel Consumption : 108.92654028436019\n",
      "Model : ferrari_550 | Mean fuel Consumption : nan\n",
      "Model : dodge_ram | Mean fuel Consumption : 335.67808219178085\n",
      "Model : hyundai_ix35 | Mean fuel Consumption : 162.90052356020942\n",
      "Model : ferrari_456 | Mean fuel Consumption : nan\n",
      "Model : ford_ecosport | Mean fuel Consumption : 127.91140596627757\n"
     ]
    }
   ],
   "source": [
    "upper_cap = df_clean[\"fuel_consumption_g_km\"].quantile(0.9998)\n",
    "for i in models :\n",
    "    avg = df_clean[\n",
    "        (df_clean[\"model\"] == i) &\n",
    "        (df_clean[\"fuel_consumption_g_km\"] <= upper_cap)][\"fuel_consumption_g_km\"].mean()\n",
    "    print(f\"Model : {i} | Mean fuel Consumption : {avg}\")"
   ]
  },
  {
   "cell_type": "code",
   "execution_count": 79,
   "id": "827ae77b-4b73-4c89-9f45-0ef9d0ac0e86",
   "metadata": {},
   "outputs": [],
   "source": [
    "upper_cap = df_clean[\"fuel_consumption_g_km\"].quantile(0.9998)\n",
    "\n",
    "for model in df_clean.loc[df_clean[\"fuel_consumption_g_km\"] > upper_cap, \"model\"].unique():\n",
    "    model_mean = df_clean.loc[\n",
    "        (df_clean[\"model\"] == model) & (df_clean[\"fuel_consumption_g_km\"] <= upper_cap),\n",
    "        \"fuel_consumption_g_km\"\n",
    "    ].mean()\n",
    "    \n",
    "    if not np.isnan(model_mean):\n",
    "        # Replace extreme values with model mean\n",
    "        df_clean.loc[\n",
    "            (df_clean[\"model\"] == model) & (df_clean[\"fuel_consumption_g_km\"] > upper_cap),\n",
    "            \"fuel_consumption_g_km\"\n",
    "        ] = model_mean\n",
    "    else:\n",
    "        # Drop rows where we can't compute a valid model mean\n",
    "        df_clean = df_clean.drop(\n",
    "            df_clean[(df_clean[\"model\"] == model) & (df_clean[\"fuel_consumption_g_km\"] > upper_cap)].index\n",
    "        )\n"
   ]
  },
  {
   "cell_type": "code",
   "execution_count": 80,
   "id": "a407898e-a4b4-4647-96d8-82004f29e7f5",
   "metadata": {},
   "outputs": [
    {
     "name": "stdout",
     "output_type": "stream",
     "text": [
      "0.9000    209.0\n",
      "0.9500    241.0\n",
      "0.9900    325.0\n",
      "0.9950    352.0\n",
      "0.9990    423.0\n",
      "0.9998    490.0\n",
      "0.9999    495.0\n",
      "1.0000    500.0\n",
      "Name: fuel_consumption_g_km, dtype: float64\n"
     ]
    }
   ],
   "source": [
    "percentiles = df_clean[\"fuel_consumption_g_km\"].quantile([0.90, 0.95, 0.99, 0.995, 0.999 ,0.9998 , 0.9999 ,1.0])\n",
    "print(percentiles)"
   ]
  },
  {
   "cell_type": "code",
   "execution_count": 81,
   "id": "06d4b60a-f488-4dfb-8ca5-63c4a82ca8ef",
   "metadata": {},
   "outputs": [
    {
     "data": {
      "image/png": "[encoded data removed]",
      "text/plain": [
       "<Figure size 1000x600 with 1 Axes>"
      ]
     },
     "metadata": {},
     "output_type": "display_data"
    }
   ],
   "source": [
    "plt.figure(figsize=(10,6))\n",
    "sns.histplot(df_clean[\"fuel_consumption_g_km\"], bins=100, kde=True, color=\"skyblue\")\n",
    "plt.title(\"Distribution of Fuel Consumption (g/km)\")\n",
    "plt.xlabel(\"Fuel Consumption (g/km)\")\n",
    "plt.ylabel(\"Count\")\n",
    "plt.show()\n"
   ]
  },
  {
   "cell_type": "code",
   "execution_count": 82,
   "id": "4d8cbb9d-34e8-40fd-87b3-15acad5e53df",
   "metadata": {},
   "outputs": [
    {
     "data": {
      "text/plain": [
       "880"
      ]
     },
     "execution_count": 82,
     "metadata": {},
     "output_type": "execute_result"
    }
   ],
   "source": [
    "df_clean[df_clean[\"fuel_type\"] == \"hybrid\"][\"fuel_consumption_g_km\"].isna().sum()"
   ]
  },
  {
   "cell_type": "code",
   "execution_count": 83,
   "id": "8fba818f-7848-4a1b-a372-c79bdaf5af76",
   "metadata": {},
   "outputs": [],
   "source": [
    "\n",
    "df_clean[\"fuel_consumption_g_km\"] = df_clean.groupby(\n",
    "    [\"brand\", \"model\", \"year\", \"fuel_type\"]\n",
    ")[\"fuel_consumption_g_km\"].transform(lambda x: x.fillna(x.mean()))\n",
    "\n",
    "\n",
    "df_clean[\"fuel_consumption_g_km\"] = df_clean.groupby(\n",
    "    [\"brand\", \"model\", \"fuel_type\"]\n",
    ")[\"fuel_consumption_g_km\"].transform(lambda x: x.fillna(x.mean()))\n",
    "\n",
    "\n",
    "df_clean[\"fuel_consumption_g_km\"] = df_clean.groupby(\n",
    "    [\"brand\", \"fuel_type\"]\n",
    ")[\"fuel_consumption_g_km\"].transform(lambda x: x.fillna(x.mean()))\n",
    "\n",
    "#\n",
    "df_clean[\"fuel_consumption_g_km\"] = df_clean.groupby(\n",
    "    [\"fuel_type\"]\n",
    ")[\"fuel_consumption_g_km\"].transform(lambda x: x.fillna(x.mean()))\n",
    "\n"
   ]
  },
  {
   "cell_type": "code",
   "execution_count": 84,
   "id": "65ea5ae1-7012-472d-a339-ead1e0ff35f3",
   "metadata": {},
   "outputs": [
    {
     "name": "stdout",
     "output_type": "stream",
     "text": [
      "Na values count for fuel hybrid 0\n",
      "Na values count for fuel petrol 0\n",
      "Na values count for fuel electric 2440\n",
      "Na values count for fuel diesel 0\n",
      "Na values count for fuel lpg 0\n",
      "Na values count for fuel diesel_hybrid 0\n",
      "Na values count for fuel cng 0\n",
      "Na values count for fuel hydrogen 0\n",
      "Na values count for fuel ethanol 0\n"
     ]
    }
   ],
   "source": [
    "fuel_types = ['hybrid', 'petrol', 'electric', 'diesel', 'lpg', 'diesel_hybrid',\n",
    "       'cng', 'hydrogen', 'ethanol']\n",
    "\n",
    "for i in fuel_types:\n",
    "    print(f\"Na values count for fuel {i}\",df_clean[df_clean[\"fuel_type\"] == i][\"fuel_consumption_g_km\"].isna().sum())\n",
    "    "
   ]
  },
  {
   "cell_type": "code",
   "execution_count": 85,
   "id": "516d48d1-538e-400a-b9ea-6093b42f8edb",
   "metadata": {},
   "outputs": [],
   "source": [
    "df_clean.loc[\n",
    "    (df_clean[\"fuel_type\"] == \"electric\") & (df_clean[\"fuel_consumption_g_km\"].isna()),\n",
    "    \"fuel_consumption_g_km\"\n",
    "] = 0"
   ]
  },
  {
   "cell_type": "code",
   "execution_count": 86,
   "id": "bb888faa-4b99-430d-a131-670aa51ec635",
   "metadata": {},
   "outputs": [
    {
     "data": {
      "text/plain": [
       "0"
      ]
     },
     "execution_count": 86,
     "metadata": {},
     "output_type": "execute_result"
    }
   ],
   "source": [
    "df_clean[\"fuel_consumption_g_km\"].isna().sum()"
   ]
  },
  {
   "cell_type": "markdown",
   "id": "b3506980-7db5-4e5d-b467-d7cec7a048af",
   "metadata": {},
   "source": [
    "### 8) column ev_range_km"
   ]
  },
  {
   "cell_type": "code",
   "execution_count": 87,
   "id": "649e413b-3889-4f5c-92b4-12e8096f295a",
   "metadata": {},
   "outputs": [
    {
     "data": {
      "text/plain": [
       "count    94303.000000\n",
       "mean         5.148033\n",
       "std         44.412649\n",
       "min          0.000000\n",
       "25%          0.000000\n",
       "50%          0.000000\n",
       "75%          0.000000\n",
       "max        614.000000\n",
       "Name: ev_range_km, dtype: float64"
      ]
     },
     "execution_count": 87,
     "metadata": {},
     "output_type": "execute_result"
    }
   ],
   "source": [
    "df_clean[\"ev_range_km\"].describe()"
   ]
  },
  {
   "cell_type": "code",
   "execution_count": 88,
   "id": "9c517430-c571-40f5-b3d6-f26549b26b8d",
   "metadata": {},
   "outputs": [
    {
     "data": {
      "text/plain": [
       "5023"
      ]
     },
     "execution_count": 88,
     "metadata": {},
     "output_type": "execute_result"
    }
   ],
   "source": [
    "df_clean[\"ev_range_km\"].isna().sum()"
   ]
  },
  {
   "cell_type": "code",
   "execution_count": 89,
   "id": "7717508a-cdd8-4daa-9741-e8c3bd7ffa85",
   "metadata": {},
   "outputs": [
    {
     "data": {
      "text/plain": [
       "(4262,)"
      ]
     },
     "execution_count": 89,
     "metadata": {},
     "output_type": "execute_result"
    }
   ],
   "source": [
    "df_clean[df_clean[\"fuel_type\"] == \"hybrid\"][\"ev_range_km\"].shape"
   ]
  },
  {
   "cell_type": "code",
   "execution_count": 90,
   "id": "36c9f698-c640-4391-8af9-5a895a04bc44",
   "metadata": {},
   "outputs": [
    {
     "data": {
      "text/plain": [
       "3808"
      ]
     },
     "execution_count": 90,
     "metadata": {},
     "output_type": "execute_result"
    }
   ],
   "source": [
    "df_clean[df_clean[\"fuel_type\"] == \"hybrid\"][\"ev_range_km\"].isna().sum()"
   ]
  },
  {
   "cell_type": "code",
   "execution_count": 91,
   "id": "c522cbae-85c3-4648-80f1-3dc011db6c94",
   "metadata": {},
   "outputs": [
    {
     "data": {
      "text/plain": [
       "(2440,)"
      ]
     },
     "execution_count": 91,
     "metadata": {},
     "output_type": "execute_result"
    }
   ],
   "source": [
    "df_clean[df_clean[\"fuel_type\"] == \"electric\"][\"ev_range_km\"].isna().shape"
   ]
  },
  {
   "cell_type": "code",
   "execution_count": 92,
   "id": "2b7a34c2-5f95-42b6-970f-686a3b42f867",
   "metadata": {},
   "outputs": [
    {
     "data": {
      "text/plain": [
       "1215"
      ]
     },
     "execution_count": 92,
     "metadata": {},
     "output_type": "execute_result"
    }
   ],
   "source": [
    "df_clean[df_clean[\"fuel_type\"] == \"electric\"][\"ev_range_km\"].isna().sum()"
   ]
  },
  {
   "cell_type": "code",
   "execution_count": 93,
   "id": "6c6b5c88-8e5e-4b91-9279-56375a4554b3",
   "metadata": {},
   "outputs": [],
   "source": [
    "df_clean[\"ev_range_km\"] = df_clean.groupby(\n",
    "    [\"brand\", \"model\", \"year\",\"fuel_type\"]\n",
    ")[\"ev_range_km\"].transform(lambda x: x.fillna(x.mean()))"
   ]
  },
  {
   "cell_type": "code",
   "execution_count": 94,
   "id": "fbdc6f7b-5b46-45ac-8d8b-6a5c7d3f3168",
   "metadata": {},
   "outputs": [
    {
     "data": {
      "text/plain": [
       "1680"
      ]
     },
     "execution_count": 94,
     "metadata": {},
     "output_type": "execute_result"
    }
   ],
   "source": [
    "df_clean[df_clean[\"fuel_type\"] == \"hybrid\"][\"ev_range_km\"].isna().sum()"
   ]
  },
  {
   "cell_type": "code",
   "execution_count": 95,
   "id": "cd2ff0a6-0767-4c98-9a8a-99fdb9326da8",
   "metadata": {},
   "outputs": [
    {
     "data": {
      "text/plain": [
       "96"
      ]
     },
     "execution_count": 95,
     "metadata": {},
     "output_type": "execute_result"
    }
   ],
   "source": [
    "df_clean[df_clean[\"fuel_type\"] == \"electric\"][\"ev_range_km\"].isna().sum()"
   ]
  },
  {
   "cell_type": "code",
   "execution_count": 96,
   "id": "95e10dda-3d7d-48de-be4d-eb507f2cf7de",
   "metadata": {},
   "outputs": [],
   "source": [
    "df_clean[\"ev_range_km\"] = df_clean.groupby(\n",
    "    [\"brand\", \"year\",\"fuel_type\"]\n",
    ")[\"ev_range_km\"].transform(lambda x: x.fillna(x.mean()))"
   ]
  },
  {
   "cell_type": "code",
   "execution_count": 97,
   "id": "edce2266-b4d3-4a23-ac70-66d61c76cd63",
   "metadata": {},
   "outputs": [
    {
     "data": {
      "text/plain": [
       "809"
      ]
     },
     "execution_count": 97,
     "metadata": {},
     "output_type": "execute_result"
    }
   ],
   "source": [
    "df_clean[df_clean[\"fuel_type\"] == \"hybrid\"][\"ev_range_km\"].isna().sum()"
   ]
  },
  {
   "cell_type": "code",
   "execution_count": 98,
   "id": "998e10c0-90d5-419e-b43b-97b203d93b01",
   "metadata": {},
   "outputs": [
    {
     "data": {
      "text/plain": [
       "43"
      ]
     },
     "execution_count": 98,
     "metadata": {},
     "output_type": "execute_result"
    }
   ],
   "source": [
    "df_clean[df_clean[\"fuel_type\"] == \"electric\"][\"ev_range_km\"].isna().sum()"
   ]
  },
  {
   "cell_type": "code",
   "execution_count": 99,
   "id": "0d2c5775-1a89-4497-893a-e1c4dc5b928f",
   "metadata": {},
   "outputs": [],
   "source": [
    "df_clean[\"ev_range_km\"] = df_clean.groupby(\n",
    "    [\"year\",\"fuel_type\"]\n",
    ")[\"ev_range_km\"].transform(lambda x: x.fillna(x.mean()))"
   ]
  },
  {
   "cell_type": "code",
   "execution_count": 100,
   "id": "962584e3-e89a-421d-88ea-f0a2e800f3c0",
   "metadata": {},
   "outputs": [
    {
     "data": {
      "text/plain": [
       "29"
      ]
     },
     "execution_count": 100,
     "metadata": {},
     "output_type": "execute_result"
    }
   ],
   "source": [
    "df_clean[df_clean[\"fuel_type\"] == \"hybrid\"][\"ev_range_km\"].isna().sum()"
   ]
  },
  {
   "cell_type": "code",
   "execution_count": 101,
   "id": "f53462af-4eb3-4741-9ca9-a1fea8ceb719",
   "metadata": {},
   "outputs": [
    {
     "data": {
      "text/plain": [
       "19"
      ]
     },
     "execution_count": 101,
     "metadata": {},
     "output_type": "execute_result"
    }
   ],
   "source": [
    "df_clean[df_clean[\"fuel_type\"] == \"electric\"][\"ev_range_km\"].isna().sum()"
   ]
  },
  {
   "cell_type": "code",
   "execution_count": 102,
   "id": "971fe3a3-4fc0-4c6b-a767-3b9ec10d21be",
   "metadata": {},
   "outputs": [],
   "source": [
    "df_clean[\"ev_range_km\"] = df_clean.groupby(\n",
    "    [\"fuel_type\"]\n",
    ")[\"ev_range_km\"].transform(lambda x: x.fillna(x.mean()))"
   ]
  },
  {
   "cell_type": "code",
   "execution_count": 103,
   "id": "a8a212ee-3ed3-443c-8aa3-397e2eefae1d",
   "metadata": {},
   "outputs": [
    {
     "data": {
      "text/plain": [
       "0"
      ]
     },
     "execution_count": 103,
     "metadata": {},
     "output_type": "execute_result"
    }
   ],
   "source": [
    "df_clean[df_clean[\"fuel_type\"] == \"hybrid\"][\"ev_range_km\"].isna().sum()"
   ]
  },
  {
   "cell_type": "code",
   "execution_count": 104,
   "id": "63ac58e4-2d2d-488f-a874-ba4d39c5d731",
   "metadata": {},
   "outputs": [
    {
     "data": {
      "text/plain": [
       "0"
      ]
     },
     "execution_count": 104,
     "metadata": {},
     "output_type": "execute_result"
    }
   ],
   "source": [
    "df_clean[df_clean[\"fuel_type\"] == \"electric\"][\"ev_range_km\"].isna().sum()"
   ]
  },
  {
   "cell_type": "code",
   "execution_count": 105,
   "id": "0c3b592a-7d0d-48a3-b463-4085579b05bb",
   "metadata": {},
   "outputs": [
    {
     "data": {
      "text/plain": [
       "0"
      ]
     },
     "execution_count": 105,
     "metadata": {},
     "output_type": "execute_result"
    }
   ],
   "source": [
    "df_clean[\"ev_range_km\"].isna().sum()"
   ]
  },
  {
   "cell_type": "markdown",
   "id": "45f8d9ba-2627-4c41-985f-c008b8042b9d",
   "metadata": {},
   "source": [
    "### 9) Column offer_description"
   ]
  },
  {
   "cell_type": "code",
   "execution_count": 106,
   "id": "ab98edf5-6333-4bc0-a40d-3f7dbe1d0607",
   "metadata": {},
   "outputs": [
    {
     "data": {
      "text/plain": [
       "array(['ST-Line Hybrid Adapt.LED+Head-Up-Display Klima',\n",
       "       'blue Trend,Viele Extras,Top-Zustand',\n",
       "       '35 e-tron S line/Matrix/Pano/ACC/SONOS/LM 21', ...,\n",
       "       '1.5T 2WD Elegance * 1. Hand * 24 Mon. Garantie *',\n",
       "       'Lusso Ti 2.0 JTDM 16V Xenon Leder Navi',\n",
       "       'Sportback1.5 Sport|VIRTUAL|NAVI|LED|30KM|'], dtype=object)"
      ]
     },
     "execution_count": 106,
     "metadata": {},
     "output_type": "execute_result"
    }
   ],
   "source": [
    "df_clean[\"offer_description\"].unique()"
   ]
  },
  {
   "cell_type": "code",
   "execution_count": 107,
   "id": "23c7f909-2817-49b7-9460-08e9313a4809",
   "metadata": {},
   "outputs": [
    {
     "data": {
      "text/plain": [
       "0          ST-Line Hybrid Adapt.LED+Head-Up-Display Klima\n",
       "1                     blue Trend,Viele Extras,Top-Zustand\n",
       "2            35 e-tron S line/Matrix/Pano/ACC/SONOS/LM 21\n",
       "3                   2.0 Lifestyle Plus Automatik Navi FAP\n",
       "4                            1.6 T 48V 2WD Spirit LED, WR\n",
       "                               ...                       \n",
       "99323          Ambition TFSI Navi/Leder/SHZ/PTS/KETTE NEU\n",
       "99324                         1.2 Lounge +Automatik + PDC\n",
       "99325    1.5T 2WD Elegance * 1. Hand * 24 Mon. Garantie *\n",
       "99326              Lusso Ti 2.0 JTDM 16V Xenon Leder Navi\n",
       "99327           Sportback1.5 Sport|VIRTUAL|NAVI|LED|30KM|\n",
       "Name: offer_description, Length: 99326, dtype: object"
      ]
     },
     "execution_count": 107,
     "metadata": {},
     "output_type": "execute_result"
    }
   ],
   "source": [
    "df_clean[\"offer_description\"]"
   ]
  },
  {
   "cell_type": "code",
   "execution_count": 108,
   "id": "e915079f-576f-4582-a607-d4d11a6dd83f",
   "metadata": {},
   "outputs": [],
   "source": [
    "df_clean = df_clean.drop(columns=[\"offer_description\"])"
   ]
  },
  {
   "cell_type": "markdown",
   "id": "73871f38-18d0-46ad-a6e1-cd4660865949",
   "metadata": {},
   "source": [
    "### 10) Colum Color"
   ]
  },
  {
   "cell_type": "code",
   "execution_count": 109,
   "id": "c20ef744-ca13-4c66-b3bf-27db715a35f7",
   "metadata": {},
   "outputs": [
    {
     "data": {
      "text/plain": [
       "array(['black', 'grey', 'red', 'white', 'blue', 'silver', 'brown',\n",
       "       'green', 'orange', 'gold', 'yellow', 'violet', 'bronze', 'beige',\n",
       "       nan], dtype=object)"
      ]
     },
     "execution_count": 109,
     "metadata": {},
     "output_type": "execute_result"
    }
   ],
   "source": [
    "df_clean[\"color\"].unique()"
   ]
  },
  {
   "cell_type": "code",
   "execution_count": 110,
   "id": "6b6714a6-a7d8-495a-8266-e21bbf6e809d",
   "metadata": {},
   "outputs": [
    {
     "data": {
      "text/plain": [
       "76"
      ]
     },
     "execution_count": 110,
     "metadata": {},
     "output_type": "execute_result"
    }
   ],
   "source": [
    "df_clean[\"color\"].isna().sum()"
   ]
  },
  {
   "cell_type": "code",
   "execution_count": 111,
   "id": "094cc9a8-d88c-48a0-b265-b8642307fb01",
   "metadata": {},
   "outputs": [],
   "source": [
    "df_clean[\"color\"] = df_clean.groupby([\"brand\", \"model\", \"year\"])[\"color\"] \\\n",
    "    .transform(lambda x: x.fillna(x.mode()[0] if not x.mode().empty else np.nan))\n"
   ]
  },
  {
   "cell_type": "code",
   "execution_count": 112,
   "id": "149f245c-c5ac-40e1-8e03-0bff24cca4b9",
   "metadata": {},
   "outputs": [
    {
     "data": {
      "text/plain": [
       "0"
      ]
     },
     "execution_count": 112,
     "metadata": {},
     "output_type": "execute_result"
    }
   ],
   "source": [
    "df_clean[\"color\"].isna().sum()"
   ]
  },
  {
   "cell_type": "markdown",
   "id": "1a1eec84-d11f-4c1b-9980-4f629651770a",
   "metadata": {},
   "source": [
    "### 11) Column registration date"
   ]
  },
  {
   "cell_type": "code",
   "execution_count": 113,
   "id": "e18e8cc1-5cb7-4943-89ed-d61e50fda345",
   "metadata": {},
   "outputs": [
    {
     "data": {
      "text/plain": [
       "array(['05/2023', '09/2018', '05/2021', '07/2018', '02/2023', '09/2009',\n",
       "       '01/2023', '05/2019', '09/2012', '10/2022', '07/2009', '07/2022',\n",
       "       '10/2018', '11/2016', '08/2005', '09/1999', '07/2015', '06/2019',\n",
       "       '10/2004', '04/2018', '01/2020', '07/2021', '01/2018', '02/2016',\n",
       "       '03/2023', '10/2011', '11/2019', '04/2017', '11/2018', '01/2010',\n",
       "       '02/2019', '06/2016', '06/2023', '05/2018', '04/2021', '05/2020',\n",
       "       '07/2013', '06/2005', '09/2017', '07/2010', '10/2017', '03/2016',\n",
       "       '04/2019', '12/2018', '03/2021', '11/2011', '08/2017', '02/2014',\n",
       "       '03/2014', '09/2015', '01/2011', '09/2020', '06/2010', '03/2013',\n",
       "       '06/2018', '03/2019', '10/2015', '01/2022', '11/2017', '09/2016',\n",
       "       '01/2015', '11/2009', '06/2022', '01/2017', '10/2012', '08/2018',\n",
       "       '12/2022', '07/2019', '07/2020', '04/2011', '02/2020', '02/2021',\n",
       "       '03/2017', '03/2010', '10/2020', '07/2017', '04/2015', '03/2015',\n",
       "       '10/2013', '03/2012', '10/2007', '12/2011', '12/2019', '09/2010',\n",
       "       '12/2010', '10/2016', '07/2011', '10/2010', '02/2015', '08/2013',\n",
       "       '08/2022', '09/2019', '09/2021', '06/2015', '03/2020', '03/2003',\n",
       "       '11/2013', '05/2007', '04/2023', '04/2022', '02/2018', '01/2008',\n",
       "       '05/2022', '05/2016', '11/2021', '01/2009', '12/2013', '04/2016',\n",
       "       '03/2018', '10/2009', '12/2020', '12/2016', '11/2012', '05/2017',\n",
       "       '05/2009', '05/2008', '03/2004', '02/2017', '03/2005', '05/2012',\n",
       "       '09/2001', '04/2014', '08/2014', '12/2015', '12/2014', '08/2008',\n",
       "       '06/2021', '12/2017', '05/2013', '08/2019', '11/2022', '11/2001',\n",
       "       '06/2013', '09/2013', '02/2013', '01/2021', '06/2014', '06/2012',\n",
       "       '03/2022', '02/2022', '08/2015', '06/2011', '12/2003', '11/2014',\n",
       "       '10/2019', '01/2019', '08/2016', '05/2010', '04/2009', '10/1998',\n",
       "       '05/2011', '12/2021', '02/2012', '09/2022', '04/2012', '07/2007',\n",
       "       '08/2009', '04/2008', '04/2020', '03/2002', '07/2005', '10/2021',\n",
       "       '01/2014', '03/2011', '04/2013', '07/2014', '01/2001', '05/2015',\n",
       "       '01/2012', '04/2002', '06/2009', '05/2004', '08/2021', '12/2008',\n",
       "       '11/2020', '05/2005', '10/2008', '07/2003', '06/2004', '03/2000',\n",
       "       '09/2008', '06/2006', '12/2005', '04/2005', '01/2007', '02/2010',\n",
       "       '05/2014', '09/2011', '10/2005', '08/2010', '01/2016', '04/2006',\n",
       "       '06/2017', '03/2009', '11/2015', '04/2003', '09/2003', '08/2012',\n",
       "       '06/1995', '11/2008', '12/2009', '12/2012', '01/2005', '08/2020',\n",
       "       '06/2020', '07/2016', '03/2008', '01/2004', '06/2003', '01/2006',\n",
       "       '01/2002', '04/2004', '02/2005', '10/2014', '01/2013', '09/2014',\n",
       "       '02/2009', '05/2002', '09/2004', '09/2006', '06/2001', '08/2011',\n",
       "       '08/2007', '10/2003', '07/2006', '07/2004', '11/2010', '11/2006',\n",
       "       '02/2008', '10/2001', '12/1999', '03/2001', '01/2003', '11/2004',\n",
       "       '07/1998', '06/2008', '06/1997', '03/2007', '02/2001', '05/1997',\n",
       "       '07/2002', '09/2007', '10/2002', '08/2003', '04/2000', '04/2010',\n",
       "       '11/2000', '09/2002', '02/2011', '07/2008', '05/2006', '02/2004',\n",
       "       '03/2006', '10/2000', '07/2012', '12/2002', '08/2006', '07/1999',\n",
       "       '01/2000', '09/1997', '02/2002', '02/2007', '11/2007', '05/2003',\n",
       "       '11/2005', '11/2002', '08/2002', '11/2003', '10/2006', '07/2001',\n",
       "       '07/2000', '12/2006', '08/1998', '02/2003', '02/2006', '06/2007',\n",
       "       '08/1999', '06/2002', '08/2004', '05/1998', '09/2005', '04/2007',\n",
       "       '12/2000', '08/1997', '07/1996', '03/1998', '10/1997', '12/2007',\n",
       "       '05/2000', '07/1995', '12/2004', '08/1996', '07/1997', '06/1999',\n",
       "       '04/2001', '05/2001', '01/1999', '10/1999', '09/2000', '06/2000',\n",
       "       '11/1999', '04/1999', '05/1999', '04/1998', '12/2001', '06/1998',\n",
       "       '03/1999', '04/1997', '02/2000', '02/1996', '01/1998', '11/1997',\n",
       "       '01/1996', '05/1996', '09/1998', '11/1998', '08/2000', '02/1999',\n",
       "       '08/2001', '02/1998', '03/1995', '12/1998', '03/1996', '12/1995',\n",
       "       '01/1997', '04/1995', '12/1997', '04/1996', '03/1997', '07/2023',\n",
       "       '02/1997', '06/1996', '12/1996', '11/1996', '05/1995', '09/1995',\n",
       "       '10/1995', '10/1996', '02/1995', '09/1996', '11/1995', '11/2023',\n",
       "       '01/1995', '08/1995'], dtype=object)"
      ]
     },
     "execution_count": 113,
     "metadata": {},
     "output_type": "execute_result"
    }
   ],
   "source": [
    "df_clean[\"registration_date\"].unique()"
   ]
  },
  {
   "cell_type": "code",
   "execution_count": 114,
   "id": "1b23c869-12ee-4be5-b5cf-f6b0d10f45b4",
   "metadata": {},
   "outputs": [
    {
     "data": {
      "text/plain": [
       "<DatetimeArray>\n",
       "['2023-05-01 00:00:00', '2018-09-01 00:00:00', '2021-05-01 00:00:00',\n",
       " '2018-07-01 00:00:00', '2023-02-01 00:00:00', '2009-09-01 00:00:00',\n",
       " '2023-01-01 00:00:00', '2019-05-01 00:00:00', '2012-09-01 00:00:00',\n",
       " '2022-10-01 00:00:00',\n",
       " ...\n",
       " '1995-05-01 00:00:00', '1995-09-01 00:00:00', '1995-10-01 00:00:00',\n",
       " '1996-10-01 00:00:00', '1995-02-01 00:00:00', '1996-09-01 00:00:00',\n",
       " '1995-11-01 00:00:00', '2023-11-01 00:00:00', '1995-01-01 00:00:00',\n",
       " '1995-08-01 00:00:00']\n",
       "Length: 344, dtype: datetime64[ns]"
      ]
     },
     "execution_count": 114,
     "metadata": {},
     "output_type": "execute_result"
    }
   ],
   "source": [
    "df_clean[\"registration_date\"] = pd.to_datetime(df_clean[\"registration_date\"], format=\"%m/%Y\", errors=\"coerce\")\n",
    "df_clean[\"registration_date\"].unique()"
   ]
  },
  {
   "cell_type": "code",
   "execution_count": 115,
   "id": "d2a56901-bf66-4be3-b915-9bdb9484b3e0",
   "metadata": {},
   "outputs": [
    {
     "data": {
      "text/plain": [
       "0"
      ]
     },
     "execution_count": 115,
     "metadata": {},
     "output_type": "execute_result"
    }
   ],
   "source": [
    "df_clean[\"registration_date\"].isna().sum()"
   ]
  },
  {
   "cell_type": "markdown",
   "id": "9e39363f-2295-474c-bf90-698bb73f42e2",
   "metadata": {},
   "source": [
    "### 12) Column year"
   ]
  },
  {
   "cell_type": "code",
   "execution_count": 116,
   "id": "6e4e760a-3808-4a3a-a303-2f1ca89678b7",
   "metadata": {},
   "outputs": [
    {
     "data": {
      "text/plain": [
       "0        2023.0\n",
       "1        2018.0\n",
       "2        2021.0\n",
       "3        2018.0\n",
       "4        2023.0\n",
       "          ...  \n",
       "99323    2012.0\n",
       "99324    2019.0\n",
       "99325    2019.0\n",
       "99326    2020.0\n",
       "99327    2018.0\n",
       "Name: year, Length: 99326, dtype: float64"
      ]
     },
     "execution_count": 116,
     "metadata": {},
     "output_type": "execute_result"
    }
   ],
   "source": [
    "df_clean[\"year\"]"
   ]
  },
  {
   "cell_type": "code",
   "execution_count": 117,
   "id": "c5f417e3-c077-4b75-a3b5-c854c36e1f42",
   "metadata": {},
   "outputs": [],
   "source": [
    "df_clean[\"year\"] = df_clean[\"year\"].astype(\"Int64\") "
   ]
  },
  {
   "cell_type": "markdown",
   "id": "99a5f317-a484-4779-9bc1-122041047358",
   "metadata": {},
   "source": [
    "### 13) Column power_kw"
   ]
  },
  {
   "cell_type": "code",
   "execution_count": 118,
   "id": "7482adf1-50f6-46bb-8078-42286a515e4b",
   "metadata": {},
   "outputs": [
    {
     "data": {
      "text/plain": [
       "array(['140', '49', '125', '114', '110', '103', '130', '88', '60', '67',\n",
       "       '120', '290', '150', '77', '142', '74', '92', '245', '190', '118',\n",
       "       '105', '85', '221', '195', '169', '147', '66', '104', '390', '70',\n",
       "       '64', '295', '258', '272', '100', '127', '154', '177', '280',\n",
       "       '185', '99', '132', '135', '121', '287', '155', '51', '95', '260',\n",
       "       '441', '220', '530', '141', '200', '386', '73', '136', '375',\n",
       "       '111', '268', nan, '145', '55', '240', '84', '210', '63', '225',\n",
       "       '107', '206', '129', '294', '235', '257', '377', '184', '80', '52',\n",
       "       '160', '33', '87', '202', '81', '180', '133', '230', '331', '44',\n",
       "       '213', '62', '59', '61', '96', '97', '122', '310', '275', '108',\n",
       "       '283', '338', '162', '156', '300', '360', '188', '445', '170',\n",
       "       '255', '115', '50', '46', '134', '243', '165', '227', '250', '90',\n",
       "       '515', '344', '317', '183', '309', '171', '423', '382', '381',\n",
       "       '316', '176', '449', '460', '330', '467', '443', '427', '198',\n",
       "       '117', '456', '175', '94', '68', '233', '297', '228', '75', '194',\n",
       "       '333', '57', '373', '421', '231', '146', '58', '251', '313', '493',\n",
       "       '368', '420', '35', '302', '215', '239', '301', '411', '109',\n",
       "       '559', '149', '507', '242', '173', '54', '112', '270', '350',\n",
       "       '214', '395', '426', '412', '419', '48', '229', '527', '320', '38',\n",
       "       '400', '308', '362', '485', '246', '168', '404', '413', '43',\n",
       "       '357', '93', '113', '193', '339', '151', '252', '40', '137', '42',\n",
       "       '388', '131', '86', '486', '346', '265', '471', '209', '224', '79',\n",
       "       '197', '78', '306', '71', '106', '336', '72', '430', '89', '138',\n",
       "       '143', '324', '405', '144', '303', '286', '522', '53', '116',\n",
       "       '525', '298', '397', '236', '401', '478', '282', '325', '389',\n",
       "       '358', '506', '218', '211', '83', '253', '65', '463', '199', '340',\n",
       "       '19', '353', '440', '82', '269', '541', '259', '178', '447', '191',\n",
       "       '519', '408', '216', '544', '208', '238', '328', '374', '91',\n",
       "       '277', '152', '47', '492', '128', '276', '69', '223', '271', '416',\n",
       "       '158', '148', '164', '370', '247', '323', '296', '166', '535',\n",
       "       '551', '139', '37', '76', '5', '203', '480', '279', '533', '455',\n",
       "       '678', '189', '385', '588', '204', '182', '396', '392', '469',\n",
       "       '234', '361', '335', '41', '343', '380', '267', '594', '409',\n",
       "       '379', '434', '327', '475', '352', '157', '407', '470', '354',\n",
       "       '196', '273', '261', '500', '217', '248', '359', '14', '422',\n",
       "       '387', '537', '172', '281', '490', '348', '545', '179', '321',\n",
       "       '292', '241', '444', '232', '205', '212', '318', '520', '448',\n",
       "       '326', '31', '307', '98', '570', '186', '550', '345', '226', '371',\n",
       "       '284', '472', '540', '391', '305', '291', '254', '123', '312',\n",
       "       '17', '552', '394', '410', '521', '288', '567', '596', '365', '25',\n",
       "       '266', '6', '626', '369', '523', '274', '393', '201', '342', '119',\n",
       "       '366', '102', '511', '332', '403', '187', '56', '45', '355', '580',\n",
       "       '459', '285', '589', '424', '364', '10', '425', '477', '262',\n",
       "       '101', '347', '474', '433', '566', '293', '428', '514', '264',\n",
       "       '595', '487', '547', '299', '402', '529', '219', '249', '417',\n",
       "       '504', '625', '244', '351', '322', '1', '435', '161', '442', '367',\n",
       "       '26'], dtype=object)"
      ]
     },
     "execution_count": 118,
     "metadata": {},
     "output_type": "execute_result"
    }
   ],
   "source": [
    "df_clean[\"power_kw\"].unique()"
   ]
  },
  {
   "cell_type": "code",
   "execution_count": 119,
   "id": "e8034ebc-e758-4286-a853-2add590fe1c4",
   "metadata": {},
   "outputs": [],
   "source": [
    "df_clean[\"power_kw\"] = pd.to_numeric(df_clean[\"power_kw\"], errors=\"coerce\")"
   ]
  },
  {
   "cell_type": "code",
   "execution_count": 120,
   "id": "5722d3f5-8a6d-4423-9cc7-950173b5642c",
   "metadata": {},
   "outputs": [
    {
     "data": {
      "text/plain": [
       "count    99263.000000\n",
       "mean       138.569316\n",
       "std         78.467898\n",
       "min          1.000000\n",
       "25%         88.000000\n",
       "50%        114.000000\n",
       "75%        160.000000\n",
       "max        678.000000\n",
       "Name: power_kw, dtype: float64"
      ]
     },
     "execution_count": 120,
     "metadata": {},
     "output_type": "execute_result"
    }
   ],
   "source": [
    "df_clean[\"power_kw\"].describe()"
   ]
  },
  {
   "cell_type": "code",
   "execution_count": 121,
   "id": "a1feb5d3-cae5-4332-b7e6-a98397e34c9d",
   "metadata": {},
   "outputs": [
    {
     "name": "stdout",
     "output_type": "stream",
     "text": [
      "0.9000    215.000000\n",
      "0.9500    250.000000\n",
      "0.9900    333.538462\n",
      "0.9950    360.000000\n",
      "0.9990    440.000000\n",
      "0.9998    490.675000\n",
      "0.9999    495.192857\n",
      "1.0000    500.000000\n",
      "Name: fuel_consumption_g_km, dtype: float64\n"
     ]
    }
   ],
   "source": [
    "percentiles = df_clean[\"fuel_consumption_g_km\"].quantile([0.90, 0.95, 0.99, 0.995, 0.999 ,0.9998 , 0.9999 ,1.0])\n",
    "print(percentiles)"
   ]
  },
  {
   "cell_type": "code",
   "execution_count": 122,
   "id": "1880a379-fe41-4726-8584-124faa4b5fae",
   "metadata": {},
   "outputs": [
    {
     "data": {
      "image/png": "[encoded data removed]",
      "text/plain": [
       "<Figure size 1000x600 with 1 Axes>"
      ]
     },
     "metadata": {},
     "output_type": "display_data"
    }
   ],
   "source": [
    "import matplotlib.pyplot as plt\n",
    "import seaborn as sns\n",
    "\n",
    "plt.figure(figsize=(10,6))\n",
    "sns.histplot(df_clean[\"power_kw\"], bins=100, kde=True, color=\"skyblue\", edgecolor=\"black\")\n",
    "\n",
    "plt.title(\"Distribution of Vehicle Power (kW)\", fontsize=14)\n",
    "plt.xlabel(\"Power (kW)\", fontsize=12)\n",
    "plt.ylabel(\"Count\", fontsize=12)\n",
    "plt.grid(axis=\"y\", linestyle=\"--\", alpha=0.7)\n",
    "\n",
    "plt.show()\n"
   ]
  },
  {
   "cell_type": "code",
   "execution_count": 123,
   "id": "51f8e540-d340-4586-ad16-9326affe3f9e",
   "metadata": {},
   "outputs": [
    {
     "name": "stdout",
     "output_type": "stream",
     "text": [
      "0.00010    18.85240\n",
      "0.00020    19.00000\n",
      "0.00025    25.81550\n",
      "0.00028    32.58672\n",
      "0.00030    33.00000\n",
      "0.00050    33.00000\n",
      "0.00100    33.00000\n",
      "0.00500    44.00000\n",
      "0.01000    49.00000\n",
      "0.05000    54.00000\n",
      "0.10000    66.00000\n",
      "Name: power_kw, dtype: float64\n"
     ]
    }
   ],
   "source": [
    "lower_percentiles = df_clean[\"power_kw\"].quantile([0.0001,0.0002,0.00025,0.00028,0.0003 ,0.0005,0.001, 0.005, 0.01, 0.05, 0.10])\n",
    "print(lower_percentiles)"
   ]
  },
  {
   "cell_type": "code",
   "execution_count": 124,
   "id": "31272db1-8dab-4328-b50e-5a7a67805480",
   "metadata": {},
   "outputs": [],
   "source": [
    "lower_cap = 30  \n",
    "\n",
    "df_clean.loc[df_clean[\"power_kw\"] < lower_cap, \"power_kw\"] = np.nan"
   ]
  },
  {
   "cell_type": "code",
   "execution_count": 125,
   "id": "50abf192-5b10-4691-8b24-4d026805fe0f",
   "metadata": {},
   "outputs": [
    {
     "data": {
      "text/plain": [
       "89"
      ]
     },
     "execution_count": 125,
     "metadata": {},
     "output_type": "execute_result"
    }
   ],
   "source": [
    "df_clean[\"power_kw\"].isna().sum()"
   ]
  },
  {
   "cell_type": "code",
   "execution_count": 126,
   "id": "06fbef05-81be-43d5-8a00-e0b854364e19",
   "metadata": {},
   "outputs": [],
   "source": [
    "df_clean[\"power_kw\"] = df_clean.groupby(\n",
    "    [\"brand\", \"model\", \"year\", \"fuel_type\"]\n",
    ")[\"power_kw\"].transform(lambda x: x.fillna(x.mean()))"
   ]
  },
  {
   "cell_type": "code",
   "execution_count": 127,
   "id": "8e64fab0-f132-472e-bfb4-0c52dd620911",
   "metadata": {},
   "outputs": [
    {
     "data": {
      "text/plain": [
       "8"
      ]
     },
     "execution_count": 127,
     "metadata": {},
     "output_type": "execute_result"
    }
   ],
   "source": [
    "df_clean[\"power_kw\"].isna().sum()"
   ]
  },
  {
   "cell_type": "code",
   "execution_count": 128,
   "id": "45c2147e-0ea5-47b6-a332-4188f092c1e6",
   "metadata": {},
   "outputs": [],
   "source": [
    "df_clean[\"power_kw\"] = df_clean.groupby(\n",
    "    [\"brand\", \"model\",\"fuel_type\"]\n",
    ")[\"power_kw\"].transform(lambda x: x.fillna(x.mean()))"
   ]
  },
  {
   "cell_type": "code",
   "execution_count": 129,
   "id": "8d1a1f7f-198a-4898-9a43-5f9c7ee0d522",
   "metadata": {},
   "outputs": [
    {
     "data": {
      "text/plain": [
       "3"
      ]
     },
     "execution_count": 129,
     "metadata": {},
     "output_type": "execute_result"
    }
   ],
   "source": [
    "df_clean[\"power_kw\"].isna().sum()"
   ]
  },
  {
   "cell_type": "code",
   "execution_count": 130,
   "id": "474b1a64-46b3-485a-b830-a1a8062ee36a",
   "metadata": {},
   "outputs": [],
   "source": [
    "df_clean[\"power_kw\"] = df_clean.groupby(\n",
    "    [\"fuel_type\"]\n",
    ")[\"power_kw\"].transform(lambda x: x.fillna(x.mean()))"
   ]
  },
  {
   "cell_type": "code",
   "execution_count": 131,
   "id": "5292d8e6-4d91-4ac4-a323-fe72adb451d9",
   "metadata": {},
   "outputs": [
    {
     "data": {
      "text/plain": [
       "0"
      ]
     },
     "execution_count": 131,
     "metadata": {},
     "output_type": "execute_result"
    }
   ],
   "source": [
    "df_clean[\"power_kw\"].isna().sum()"
   ]
  },
  {
   "cell_type": "markdown",
   "id": "95e88060-e7dd-4444-8142-36e0813f43d4",
   "metadata": {},
   "source": [
    "### 14) Column power_ps"
   ]
  },
  {
   "cell_type": "code",
   "execution_count": 132,
   "id": "f6ef4944-8ced-4f60-b07c-fdfce3c8cb4c",
   "metadata": {},
   "outputs": [
    {
     "data": {
      "text/plain": [
       "array(['190', '67', '170', '155', '150', '140', '177', '120', '82', '91',\n",
       "       '163', '394', '204', '105', '193', '101', '125', '333', '258',\n",
       "       '160', '143', '116', '300', '265', '230', '200', '90', '141',\n",
       "       '530', '95', '87', '401', '351', '370', '136', '173', '209', '241',\n",
       "       '381', '252', '135', '179', '184', '165', '390', '211', '69',\n",
       "       '129', '354', '600', '299', '721', '192', '272', '525', '99',\n",
       "       '185', '510', '151', '364', nan, '197', '75', '326', '114', '286',\n",
       "       '86', '306', '145', '280', '175', '400', '320', '349', '513',\n",
       "       '250', '109', '71', '218', '45', '118', '275', '110', '245', '181',\n",
       "       '313', '450', '60', '290', '84', '80', '83', '131', '132', '166',\n",
       "       '421', '374', '147', '385', '460', '220', '212', '408', '489',\n",
       "       '256', '605', '231', '347', '156', '68', '63', '182', '330', '224',\n",
       "       '309', '340', '122', '700', '468', '431', '249', '420', '232',\n",
       "       '575', '519', '518', '430', '239', '610', '625', '449', '635',\n",
       "       '602', '581', '269', '159', '620', '238', '128', '92', '317',\n",
       "       '404', '310', '102', '264', '453', '77', '507', '572', '314',\n",
       "       '199', '79', '341', '426', '670', '500', '571', '48', '411', '292',\n",
       "       '325', '409', '559', '148', '760', '203', '689', '329', '235',\n",
       "       '73', '152', '367', '476', '291', '537', '579', '560', '570', '65',\n",
       "       '311', '717', '435', '52', '544', '419', '492', '659', '334',\n",
       "       '228', '549', '562', '58', '485', '126', '154', '262', '461',\n",
       "       '205', '343', '54', '186', '57', '528', '178', '117', '661', '470',\n",
       "       '360', '640', '284', '305', '107', '268', '106', '416', '97',\n",
       "       '144', '457', '98', '585', '121', '188', '194', '441', '551',\n",
       "       '196', '412', '389', '710', '72', '158', '714', '405', '540',\n",
       "       '321', '545', '650', '383', '442', '529', '487', '688', '296',\n",
       "       '287', '113', '344', '88', '630', '271', '462', '26', '480', '598',\n",
       "       '111', '366', '736', '352', '242', '608', '260', '706', '555',\n",
       "       '294', '740', '283', '324', '446', '508', '124', '377', '207',\n",
       "       '64', '669', '174', '375', '94', '303', '368', '566', '215', '201',\n",
       "       '223', '503', '336', '439', '402', '226', '727', '749', '189',\n",
       "       '50', '103', '7', '276', '653', '379', '725', '619', '922', '257',\n",
       "       '523', '799', '277', '247', '538', '533', '638', '318', '491',\n",
       "       '455', '56', '466', '517', '363', '808', '556', '515', '590',\n",
       "       '445', '646', '479', '213', '553', '639', '481', '266', '371',\n",
       "       '355', '680', '295', '337', '488', '19', '574', '526', '730',\n",
       "       '234', '382', '666', '473', '741', '243', '436', '397', '328',\n",
       "       '604', '315', '279', '288', '432', '707', '609', '443', '42',\n",
       "       '417', '133', '775', '253', '748', '469', '307', '504', '386',\n",
       "       '642', '734', '532', '415', '396', '345', '167', '424', '23',\n",
       "       '751', '536', '557', '708', '392', '771', '810', '496', '34',\n",
       "       '362', '8', '851', '502', '711', '373', '534', '273', '465', '162',\n",
       "       '498', '139', '695', '451', '548', '254', '76', '61', '483', '789',\n",
       "       '624', '387', '801', '576', '495', '14', '578', '649', '356',\n",
       "       '137', '472', '644', '589', '770', '398', '582', '699', '359',\n",
       "       '809', '662', '744', '407', '547', '719', '298', '339', '567',\n",
       "       '685', '850', '332', '477', '438', '1', '591', '219', '601', '499',\n",
       "       '35'], dtype=object)"
      ]
     },
     "execution_count": 132,
     "metadata": {},
     "output_type": "execute_result"
    }
   ],
   "source": [
    "df_clean[\"power_ps\"].unique()"
   ]
  },
  {
   "cell_type": "code",
   "execution_count": 133,
   "id": "9a635545-c36e-4dc0-8e9b-57efdd5d8cff",
   "metadata": {},
   "outputs": [],
   "source": [
    "df_clean = df_clean.drop(columns=[\"power_ps\"])\n"
   ]
  },
  {
   "cell_type": "markdown",
   "id": "8f3d156e-9882-448e-924c-3d883ffad398",
   "metadata": {},
   "source": [
    "### 15) Column fuel_consumption_l_100km"
   ]
  },
  {
   "cell_type": "code",
   "execution_count": 134,
   "id": "aa249444-3578-4fc4-ad11-80f9aaa36f9b",
   "metadata": {},
   "outputs": [
    {
     "data": {
      "text/plain": [
       "array(['5,4 l/100 km', '4,6 l/100 km', nan, '7,5 l/100 km',\n",
       "       '5,9 l/100 km', '6,7 l/100 km', '8,9 l/100 km', '5,6 l/100 km',\n",
       "       '5 l/100 km', '7,4 l/100 km', '8,2 l/100 km', '9,4 l/100 km',\n",
       "       '3,8 l/100 km', '5,3 l/100 km', '6,9 l/100 km', '7,2 l/100 km',\n",
       "       '8,4 l/100 km', '4,7 l/100 km', '6,1 l/100 km', '6,3 l/100 km',\n",
       "       '4,9 l/100 km', '4,8 l/100 km', '4,5 l/100 km', '6,2 l/100 km',\n",
       "       '6,6 l/100 km', '9,3 l/100 km', '4,1 l/100 km', '8,3 l/100 km',\n",
       "       '4,4 l/100 km', '9,9 l/100 km', '4,3 l/100 km', '6,4 l/100 km',\n",
       "       '7,6 l/100 km', '7,9 l/100 km', '5,8 l/100 km', '2 l/100 km',\n",
       "       '5,5 l/100 km', '5,2 l/100 km', '6 l/100 km', '6,8 l/100 km',\n",
       "       '5,1 l/100 km', '7,8 l/100 km', '0 kWh/100 km', '3,9 l/100 km',\n",
       "       '12,1 l/100 km', '12,7 l/100 km', '10,2 l/100 km', '1,8 l/100 km',\n",
       "       '3,5 l/100 km', '8,1 l/100 km', '11 l/100 km', '16,9 l/100 km',\n",
       "       '7,7 l/100 km', '6,5 l/100 km', '5,7 l/100 km', '7,1 l/100 km',\n",
       "       '7 l/100 km', '4 l/100 km', '1,4 l/100 km', '4,2 l/100 km',\n",
       "       '8,7 l/100 km', '9,5 l/100 km', '10,1 l/100 km', '7,3 l/100 km',\n",
       "       '8 l/100 km', '12 l/100 km', '9,6 l/100 km', '8,5 l/100 km',\n",
       "       '- (l/100 km)', '15,8 l/100 km', '12,8 l/100 km', '9 l/100 km',\n",
       "       '8,8 l/100 km', '9,7 l/100 km', '14,7 l/100 km', '62 km (Ort)',\n",
       "       '1,3 l/100 km', '10,7 l/100 km', '11,7 l/100 km', '17,2 l/100 km',\n",
       "       '14,6 l/100 km', '11,5 l/100 km', '9,8 l/100 km', '13,6 l/100 km',\n",
       "       '10,5 l/100 km', '11,1 l/100 km', '10,3 l/100 km', '1,9 l/100 km',\n",
       "       '1,1 l/100 km', '14,3 l/100 km', '13,4 l/100 km', '3,6 l/100 km',\n",
       "       '19 l/100 km', '12,5 l/100 km', '12,2 l/100 km', '12,3 l/100 km',\n",
       "       '21,3 l/100 km', '14,1 l/100 km', '2,1 l/100 km', '10,4 l/100 km',\n",
       "       '1,7 l/100 km', '13,3 l/100 km', '14,4 l/100 km', '3,2 l/100 km',\n",
       "       '14 l/100 km', '2,3 l/100 km', '1,2 l/100 km', '10 l/100 km',\n",
       "       '11,8 l/100 km', '2,2 l/100 km', '12,6 l/100 km', '1,6 l/100 km',\n",
       "       '1,5 l/100 km', '11,2 l/100 km', '17,1 l/100 km', '8,6 l/100 km',\n",
       "       '11,9 l/100 km', '11,4 l/100 km', '15,3 l/100 km', '9,2 l/100 km',\n",
       "       '395 km (Ort)', '18 l/100 km', '19,5 l/100 km', '21,5 l/100 km',\n",
       "       '13,7 l/100 km', '14,2 l/100 km', '0,6 l/100 km', '10,6 l/100 km',\n",
       "       '11,6 l/100 km', '2,4 l/100 km', '0 l/100 km', '2,7 l/100 km',\n",
       "       '12,6 kWh/100 km', '3,7 l/100 km', '17 l/100 km', '9,1 l/100 km',\n",
       "       '210 km (Ort)', '11,3 l/100 km', '62 l/100 km', '10,9 l/100 km',\n",
       "       '4,5 kg/100 km', '3,3 l/100 km', '71 km (Ort)', '10,8 l/100 km',\n",
       "       '12,4 l/100 km', '13 l/100 km', '17,9 l/100 km', '14,5 l/100 km',\n",
       "       '13,1 l/100 km', '13,9 l/100 km', '3,4 l/100 km', '15,1 l/100 km',\n",
       "       '45 km (Ort)', '14,8 l/100 km', '15,7 l/100 km', '13,5 l/100 km',\n",
       "       '5,3 kg/100 km', '19,1 kWh/100 km', '15,5 l/100 km',\n",
       "       '8,3 kg/100 km', '18,3 l/100 km', '14,9 l/100 km', '6,1 kg/100 km',\n",
       "       '640 km (Ort)', '20,7 l/100 km', '6 kg/100 km', '8,4 kg/100 km',\n",
       "       '53 l/100 km', '3 l/100 km', '400 km (Ort)', '0,8 kg/100 km',\n",
       "       '52 km (Ort)', '13,2 l/100 km', '16,2 l/100 km', '3,1 l/100 km',\n",
       "       '57 km (Ort)', '2,9 l/100 km', '75 km (Ort)', '13,8 l/100 km',\n",
       "       '1 l/100 km', '7,3 kg/100 km', '88 l/100 km', '16 l/100 km',\n",
       "       '68 km (Ort)', '66 l/100 km', '15,2 l/100 km', '739 km (Ort)',\n",
       "       '99,9 l/100 km', '604 km (Ort)', '435 km (Ort)', '18,8 l/100 km',\n",
       "       '76 km (Ort)', '18,7 l/100 km', '399 km (Ort)', '16,3 l/100 km',\n",
       "       '17,8 l/100 km', '12,9 l/100 km', '305 km (Ort)', '397 km (Ort)',\n",
       "       '486 km (Ort)', '15 l/100 km', '16,6 l/100 km', '18,6 l/100 km',\n",
       "       '85,4 l/100 km', '16,5 l/100 km', '20,6 l/100 km', '17,5 l/100 km',\n",
       "       '354 km (Ort)', '69 km (Ort)', '141 l/100 km', '55 km (Ort)',\n",
       "       '550 km (Ort)', '4,9 kg/100 km', '425 km (Ort)', '212 kWh/100 km',\n",
       "       '15,9 l/100 km', '588 km (Ort)', '2,5 l/100 km', '500 km (Ort)',\n",
       "       '660 km (Ort)', '230 km (Ort)', '14,9 kg/100 km', '320 km (Ort)',\n",
       "       '15,6 l/100 km', '56 km (Ort)', '66,4 l/100 km', '19,9 l/100 km',\n",
       "       '17,7 l/100 km', '18,1 l/100 km', '4,4 kg/100 km', '687 km (Ort)',\n",
       "       '420 km (Ort)', '59 km (Ort)', '60 km (Ort)', '66 km (Ort)',\n",
       "       '5,9 kg/100 km', '165 kWh/100 km', '15,4 kWh/100 km',\n",
       "       '480 km (Ort)', '0,9 l/100 km', '642 km (Ort)', '16,4 l/100 km',\n",
       "       '424 km (Ort)', '6,3 kg/100 km', '45 l/100 km', '462 km (Ort)',\n",
       "       '22 l/100 km', '16,7 l/100 km', '1,2 kg/100 km', '2,6 l/100 km',\n",
       "       '18,4 l/100 km', '7,4 kg/100 km', '447 km (Ort)', '578 km (Ort)',\n",
       "       '17,8 kWh/100 km', '21,8 l/100 km', '413 km (Ort)', '73 l/100 km',\n",
       "       '0,9 kg/100 km', '0,4 l/100 km', '658 km (Ort)', '20,6 kWh/100 km',\n",
       "       '398 km (Ort)', '279 km (Ort)', '22 kWh/100 km', '300 km (Ort)',\n",
       "       '423 km (Ort)', '21,2 l/100 km', '22,9 l/100 km', '6,5 kg/100 km',\n",
       "       '106 km (Ort)', '21 l/100 km', '5,2 kg/100 km', '392 km (Ort)',\n",
       "       '4,8 kg/100 km', '20,8 l/100 km', '607 km (Ort)', '4.300 l/100 km',\n",
       "       '506 km (Ort)', '460 km (Ort)', '44 km (Ort)', '54 km (Ort)',\n",
       "       '74 km (Ort)', '646 km (Ort)', '461 km (Ort)', '53 km (Ort)',\n",
       "       '5 kg/100 km', '0,8 l/100 km', '464 km (Ort)', '1 km (Ort)',\n",
       "       '1 kg/100 km', '22,2 l/100 km', '497 km (Ort)', '5,4 kg/100 km',\n",
       "       '224 kWh/100 km', '14,7 kg/100 km', '21,9 l/100 km',\n",
       "       '438 km (Ort)', '410 km (Ort)', '6,4 kg/100 km', '99 l/100 km',\n",
       "       '6,8 kg/100 km', '18,2 l/100 km', '5,7 kg/100 km', '110 km (Ort)',\n",
       "       '19,4 l/100 km', '563 km (Ort)', '346 km (Ort)', '571 km (Ort)',\n",
       "       '65 l/100 km', '5,6 kg/100 km', '41 l/100 km', '669 km (Ort)',\n",
       "       '662 km (Ort)', '58 km (Ort)', '14,7 kWh/100 km', '16,8 l/100 km',\n",
       "       '3,9 kg/100 km', '430 km (Ort)', '599 km (Ort)', '18,9 l/100 km',\n",
       "       '594 km (Ort)', '540 km (Ort)', '249 km (Ort)', '403 km (Ort)',\n",
       "       '5,5 kg/100 km', '421 km (Ort)', '350 km (Ort)', '402 km (Ort)',\n",
       "       '567 km (Ort)', '6,2 kg/100 km', '416 km (Ort)', '2,8 l/100 km',\n",
       "       '630 km (Ort)', '3,5 kg/100 km', '8,8 kg/100 km', '19,1 l/100 km',\n",
       "       '52 l/100 km', '411 km (Ort)', '363 km (Ort)', '455 km (Ort)',\n",
       "       '50 km (Ort)', '19,3 kWh/100 km', '561 km (Ort)', '678 km (Ort)',\n",
       "       '483 km (Ort)', '3,6 kg/100 km', '4,6 kg/100 km', '600 km (Ort)',\n",
       "       '393 km (Ort)', '119 l/100 km', '9,1 kg/100 km', '13 kWh/100 km',\n",
       "       '19,2 l/100 km', '38 l/100 km', '42 km (Ort)', '60 l/100 km',\n",
       "       '257 km (Ort)', '521 km (Ort)', '510 km (Ort)', '51,8 l/100 km',\n",
       "       '564 km (Ort)', '14,3 kWh/100 km', '407 km (Ort)'], dtype=object)"
      ]
     },
     "execution_count": 134,
     "metadata": {},
     "output_type": "execute_result"
    }
   ],
   "source": [
    "df_clean[\"fuel_consumption_l_100km\"].unique()"
   ]
  },
  {
   "cell_type": "code",
   "execution_count": 135,
   "id": "f733e0f6-1398-4c81-a353-d0969fb6974e",
   "metadata": {},
   "outputs": [
    {
     "name": "stdout",
     "output_type": "stream",
     "text": [
      "fuel_type\n",
      "petrol           53866\n",
      "diesel           37582\n",
      "hybrid            4262\n",
      "electric          2440\n",
      "lpg                930\n",
      "diesel_hybrid      137\n",
      "cng                 61\n",
      "hydrogen            39\n",
      "ethanol              9\n",
      "Name: count, dtype: int64\n",
      "\n",
      "Counts of special fuels (cng / lpg / hydrogen):\n",
      "fuel_type\n",
      "lpg         930\n",
      "cng          61\n",
      "hydrogen     39\n",
      "Name: count, dtype: int64\n"
     ]
    }
   ],
   "source": [
    "fuel_counts = df_clean[\"fuel_type\"].value_counts(dropna=False)\n",
    "print(fuel_counts)\n",
    "\n",
    "# Specifically for cng, lpg, hydrogen\n",
    "special_fuels = [\"cng\", \"lpg\", \"hydrogen\"]\n",
    "special_counts = df_clean[df_clean[\"fuel_type\"].isin(special_fuels)][\"fuel_type\"].value_counts()\n",
    "print(\"\\nCounts of special fuels (cng / lpg / hydrogen):\")\n",
    "print(special_counts)"
   ]
  },
  {
   "cell_type": "code",
   "execution_count": 136,
   "id": "f0dc1ab2-5aae-4fe5-a200-6632b53b591c",
   "metadata": {},
   "outputs": [
    {
     "name": "stdout",
     "output_type": "stream",
     "text": [
      "Total LPG vehicles: 930\n",
      "LPG vehicles with 'kg/100 km' values: 10\n",
      "Percentage: 1.08%\n"
     ]
    }
   ],
   "source": [
    "# Filter only LPG vehicles\n",
    "lpg_vehicles = df_clean[df_clean[\"fuel_type\"] == \"lpg\"]\n",
    "\n",
    "# Count how many have fuel_consumption_l_100km recorded in kg\n",
    "lpg_with_kg = lpg_vehicles[\"fuel_consumption_l_100km\"].str.contains(\"kg\", na=False).sum()\n",
    "\n",
    "# Count total LPG\n",
    "total_lpg = lpg_vehicles.shape[0]\n",
    "\n",
    "print(f\"Total LPG vehicles: {total_lpg}\")\n",
    "print(f\"LPG vehicles with 'kg/100 km' values: {lpg_with_kg}\")\n",
    "print(f\"Percentage: {lpg_with_kg / total_lpg * 100:.2f}%\")\n"
   ]
  },
  {
   "cell_type": "code",
   "execution_count": 137,
   "id": "faae6a4e-792e-46dc-be20-9be9f4a95f6c",
   "metadata": {},
   "outputs": [],
   "source": [
    "df_clean = df_clean.drop(columns=[\"fuel_consumption_l_100km\"])"
   ]
  },
  {
   "cell_type": "markdown",
   "id": "6e316eee-10be-413b-b40e-27a659da92c5",
   "metadata": {},
   "source": [
    "### 16) Column mileage_in_km"
   ]
  },
  {
   "cell_type": "code",
   "execution_count": 138,
   "id": "dc241e03-71e6-4581-8c24-6c773f99c8d2",
   "metadata": {},
   "outputs": [
    {
     "data": {
      "text/plain": [
       "array([  100., 27782.,  4247., ..., 21359., 31698., 52251.])"
      ]
     },
     "execution_count": 138,
     "metadata": {},
     "output_type": "execute_result"
    }
   ],
   "source": [
    "df_clean[\"mileage_in_km\"].unique() "
   ]
  },
  {
   "cell_type": "code",
   "execution_count": 139,
   "id": "8996c7f6-e673-4d6a-a890-20b8d2a38f87",
   "metadata": {},
   "outputs": [
    {
     "data": {
      "text/plain": [
       "count    9.927900e+04\n",
       "mean     8.604674e+04\n",
       "std      7.932226e+04\n",
       "min      0.000000e+00\n",
       "25%      2.610350e+04\n",
       "50%      6.876500e+04\n",
       "75%      1.276000e+05\n",
       "max      3.800000e+06\n",
       "Name: mileage_in_km, dtype: float64"
      ]
     },
     "execution_count": 139,
     "metadata": {},
     "output_type": "execute_result"
    }
   ],
   "source": [
    "df_clean[\"mileage_in_km\"].describe()"
   ]
  },
  {
   "cell_type": "code",
   "execution_count": 140,
   "id": "3bfe9f77-574a-4322-93e7-a61fd2ea5262",
   "metadata": {},
   "outputs": [
    {
     "data": {
      "image/png": "[encoded data removed]",
      "text/plain": [
       "<Figure size 1000x600 with 1 Axes>"
      ]
     },
     "metadata": {},
     "output_type": "display_data"
    }
   ],
   "source": [
    "\n",
    "plt.figure(figsize=(10,6))\n",
    "sns.histplot(df_clean[\"mileage_in_km\"], bins=100, kde=True, color=\"skyblue\")\n",
    "\n",
    "plt.xlim(0, 600000)   # zoom in (since we know some cars have crazy values like 3.8M)\n",
    "plt.title(\"Distribution of Vehicle Mileage (km)\")\n",
    "plt.xlabel(\"Mileage (km)\")\n",
    "plt.ylabel(\"Count\")\n",
    "plt.show()\n"
   ]
  },
  {
   "cell_type": "code",
   "execution_count": 141,
   "id": "30eee206-91c6-4972-a3fe-00484d0ab79a",
   "metadata": {},
   "outputs": [
    {
     "name": "stdout",
     "output_type": "stream",
     "text": [
      "0.90000      193,000\n",
      "0.95000      232,000\n",
      "0.99000      309,155\n",
      "0.99500      340,000\n",
      "0.99900      415,000\n",
      "0.99960      483,554\n",
      "0.99970      510,512\n",
      "0.99980      731,179\n",
      "0.99985    1,011,912\n",
      "0.99990    1,628,288\n",
      "1.00000    3,800,000\n",
      "Name: mileage_in_km, dtype: object\n"
     ]
    }
   ],
   "source": [
    "percentiles = df_clean[\"mileage_in_km\"].quantile([0.90, 0.95, 0.99, 0.995, 0.999,0.9996,0.9997,0.9998, 0.99985,0.9999, 1.0])\n",
    "print(percentiles.apply(lambda x: f\"{x:,.0f}\"))\n"
   ]
  },
  {
   "cell_type": "code",
   "execution_count": 142,
   "id": "3b8d4a76-7fe8-4b56-8e90-1de38698584d",
   "metadata": {},
   "outputs": [
    {
     "name": "stdout",
     "output_type": "stream",
     "text": [
      "Threshold (0.9998): 731178.824400022\n",
      "Number of extreme vehicles: 20\n"
     ]
    },
    {
     "data": {
      "text/html": [
       "<div>\n",
       "<style scoped>\n",
       "    .dataframe tbody tr th:only-of-type {\n",
       "        vertical-align: middle;\n",
       "    }\n",
       "\n",
       "    .dataframe tbody tr th {\n",
       "        vertical-align: top;\n",
       "    }\n",
       "\n",
       "    .dataframe thead th {\n",
       "        text-align: right;\n",
       "    }\n",
       "</style>\n",
       "<table border=\"1\" class=\"dataframe\">\n",
       "  <thead>\n",
       "    <tr style=\"text-align: right;\">\n",
       "      <th></th>\n",
       "      <th>brand</th>\n",
       "      <th>model</th>\n",
       "      <th>color</th>\n",
       "      <th>registration_date</th>\n",
       "      <th>year</th>\n",
       "      <th>price_in_euro</th>\n",
       "      <th>power_kw</th>\n",
       "      <th>transmission_type</th>\n",
       "      <th>fuel_type</th>\n",
       "      <th>fuel_consumption_g_km</th>\n",
       "      <th>mileage_in_km</th>\n",
       "      <th>ev_range_km</th>\n",
       "    </tr>\n",
       "  </thead>\n",
       "  <tbody>\n",
       "    <tr>\n",
       "      <th>10829</th>\n",
       "      <td>bmw</td>\n",
       "      <td>bmw_x3</td>\n",
       "      <td>silver</td>\n",
       "      <td>2007-01-01</td>\n",
       "      <td>2007</td>\n",
       "      <td>3950.0</td>\n",
       "      <td>286.0</td>\n",
       "      <td>automatic</td>\n",
       "      <td>diesel</td>\n",
       "      <td>202.761905</td>\n",
       "      <td>1604000.0</td>\n",
       "      <td>0.0</td>\n",
       "    </tr>\n",
       "    <tr>\n",
       "      <th>22427</th>\n",
       "      <td>bmw</td>\n",
       "      <td>bmw_520</td>\n",
       "      <td>grey</td>\n",
       "      <td>2012-02-01</td>\n",
       "      <td>2012</td>\n",
       "      <td>15000.0</td>\n",
       "      <td>135.0</td>\n",
       "      <td>manual</td>\n",
       "      <td>diesel</td>\n",
       "      <td>125.000000</td>\n",
       "      <td>2223400.0</td>\n",
       "      <td>0.0</td>\n",
       "    </tr>\n",
       "    <tr>\n",
       "      <th>23152</th>\n",
       "      <td>ford</td>\n",
       "      <td>ford_mustang</td>\n",
       "      <td>beige</td>\n",
       "      <td>2008-01-01</td>\n",
       "      <td>2008</td>\n",
       "      <td>4900.0</td>\n",
       "      <td>157.0</td>\n",
       "      <td>automatic</td>\n",
       "      <td>petrol</td>\n",
       "      <td>298.000000</td>\n",
       "      <td>999999.0</td>\n",
       "      <td>0.0</td>\n",
       "    </tr>\n",
       "    <tr>\n",
       "      <th>29777</th>\n",
       "      <td>audi</td>\n",
       "      <td>audi_a5</td>\n",
       "      <td>black</td>\n",
       "      <td>2009-05-01</td>\n",
       "      <td>2009</td>\n",
       "      <td>10000.0</td>\n",
       "      <td>132.0</td>\n",
       "      <td>manual</td>\n",
       "      <td>petrol</td>\n",
       "      <td>149.000000</td>\n",
       "      <td>1940395.0</td>\n",
       "      <td>0.0</td>\n",
       "    </tr>\n",
       "    <tr>\n",
       "      <th>34720</th>\n",
       "      <td>audi</td>\n",
       "      <td>audi_a6-allroad</td>\n",
       "      <td>black</td>\n",
       "      <td>2001-12-01</td>\n",
       "      <td>2001</td>\n",
       "      <td>6657.0</td>\n",
       "      <td>184.0</td>\n",
       "      <td>automatic</td>\n",
       "      <td>lpg</td>\n",
       "      <td>322.000000</td>\n",
       "      <td>999999.0</td>\n",
       "      <td>0.0</td>\n",
       "    </tr>\n",
       "    <tr>\n",
       "      <th>41846</th>\n",
       "      <td>ford</td>\n",
       "      <td>ford_fiesta</td>\n",
       "      <td>white</td>\n",
       "      <td>2010-12-01</td>\n",
       "      <td>2010</td>\n",
       "      <td>4500.0</td>\n",
       "      <td>44.0</td>\n",
       "      <td>manual</td>\n",
       "      <td>petrol</td>\n",
       "      <td>132.978723</td>\n",
       "      <td>1110000.0</td>\n",
       "      <td>0.0</td>\n",
       "    </tr>\n",
       "    <tr>\n",
       "      <th>49637</th>\n",
       "      <td>ford</td>\n",
       "      <td>ford_galaxy</td>\n",
       "      <td>black</td>\n",
       "      <td>2003-11-01</td>\n",
       "      <td>2003</td>\n",
       "      <td>1600.0</td>\n",
       "      <td>85.0</td>\n",
       "      <td>manual</td>\n",
       "      <td>diesel</td>\n",
       "      <td>178.000000</td>\n",
       "      <td>2830000.0</td>\n",
       "      <td>0.0</td>\n",
       "    </tr>\n",
       "    <tr>\n",
       "      <th>50883</th>\n",
       "      <td>ford</td>\n",
       "      <td>ford_transit</td>\n",
       "      <td>white</td>\n",
       "      <td>2014-10-01</td>\n",
       "      <td>2014</td>\n",
       "      <td>9600.0</td>\n",
       "      <td>92.0</td>\n",
       "      <td>manual</td>\n",
       "      <td>diesel</td>\n",
       "      <td>212.000000</td>\n",
       "      <td>3800000.0</td>\n",
       "      <td>0.0</td>\n",
       "    </tr>\n",
       "    <tr>\n",
       "      <th>51637</th>\n",
       "      <td>audi</td>\n",
       "      <td>audi_q5</td>\n",
       "      <td>black</td>\n",
       "      <td>2015-09-01</td>\n",
       "      <td>2015</td>\n",
       "      <td>26500.0</td>\n",
       "      <td>190.0</td>\n",
       "      <td>automatic</td>\n",
       "      <td>diesel</td>\n",
       "      <td>156.000000</td>\n",
       "      <td>1360000.0</td>\n",
       "      <td>0.0</td>\n",
       "    </tr>\n",
       "    <tr>\n",
       "      <th>54167</th>\n",
       "      <td>ford</td>\n",
       "      <td>ford_fiesta</td>\n",
       "      <td>black</td>\n",
       "      <td>2004-02-01</td>\n",
       "      <td>2004</td>\n",
       "      <td>1500.0</td>\n",
       "      <td>50.0</td>\n",
       "      <td>manual</td>\n",
       "      <td>diesel</td>\n",
       "      <td>122.000000</td>\n",
       "      <td>2580000.0</td>\n",
       "      <td>0.0</td>\n",
       "    </tr>\n",
       "    <tr>\n",
       "      <th>59933</th>\n",
       "      <td>bmw</td>\n",
       "      <td>bmw_520</td>\n",
       "      <td>black</td>\n",
       "      <td>1998-03-01</td>\n",
       "      <td>1998</td>\n",
       "      <td>1100.0</td>\n",
       "      <td>110.0</td>\n",
       "      <td>manual</td>\n",
       "      <td>petrol</td>\n",
       "      <td>230.000000</td>\n",
       "      <td>999999.0</td>\n",
       "      <td>0.0</td>\n",
       "    </tr>\n",
       "    <tr>\n",
       "      <th>60005</th>\n",
       "      <td>fiat</td>\n",
       "      <td>fiat_doblo</td>\n",
       "      <td>bronze</td>\n",
       "      <td>2022-06-01</td>\n",
       "      <td>2022</td>\n",
       "      <td>650.0</td>\n",
       "      <td>81.0</td>\n",
       "      <td>manual</td>\n",
       "      <td>petrol</td>\n",
       "      <td>176.335648</td>\n",
       "      <td>2300000.0</td>\n",
       "      <td>0.0</td>\n",
       "    </tr>\n",
       "    <tr>\n",
       "      <th>64927</th>\n",
       "      <td>citroen</td>\n",
       "      <td>citroen_jumper</td>\n",
       "      <td>white</td>\n",
       "      <td>2013-06-01</td>\n",
       "      <td>2013</td>\n",
       "      <td>7990.0</td>\n",
       "      <td>96.0</td>\n",
       "      <td>manual</td>\n",
       "      <td>diesel</td>\n",
       "      <td>204.333333</td>\n",
       "      <td>735201.0</td>\n",
       "      <td>0.0</td>\n",
       "    </tr>\n",
       "    <tr>\n",
       "      <th>68057</th>\n",
       "      <td>bmw</td>\n",
       "      <td>bmw_323</td>\n",
       "      <td>blue</td>\n",
       "      <td>1998-06-01</td>\n",
       "      <td>1998</td>\n",
       "      <td>5000.0</td>\n",
       "      <td>125.0</td>\n",
       "      <td>automatic</td>\n",
       "      <td>petrol</td>\n",
       "      <td>213.000000</td>\n",
       "      <td>2190000.0</td>\n",
       "      <td>0.0</td>\n",
       "    </tr>\n",
       "    <tr>\n",
       "      <th>80412</th>\n",
       "      <td>ford</td>\n",
       "      <td>ford_focus</td>\n",
       "      <td>blue</td>\n",
       "      <td>2005-06-01</td>\n",
       "      <td>2005</td>\n",
       "      <td>2200.0</td>\n",
       "      <td>66.0</td>\n",
       "      <td>manual</td>\n",
       "      <td>diesel</td>\n",
       "      <td>125.000000</td>\n",
       "      <td>2005002.0</td>\n",
       "      <td>0.0</td>\n",
       "    </tr>\n",
       "    <tr>\n",
       "      <th>81468</th>\n",
       "      <td>audi</td>\n",
       "      <td>audi_a1</td>\n",
       "      <td>red</td>\n",
       "      <td>2011-02-01</td>\n",
       "      <td>2011</td>\n",
       "      <td>6890.0</td>\n",
       "      <td>63.0</td>\n",
       "      <td>manual</td>\n",
       "      <td>petrol</td>\n",
       "      <td>121.283333</td>\n",
       "      <td>1365435.0</td>\n",
       "      <td>0.0</td>\n",
       "    </tr>\n",
       "    <tr>\n",
       "      <th>84784</th>\n",
       "      <td>bmw</td>\n",
       "      <td>bmw_318</td>\n",
       "      <td>grey</td>\n",
       "      <td>2009-09-01</td>\n",
       "      <td>2009</td>\n",
       "      <td>9750.0</td>\n",
       "      <td>105.0</td>\n",
       "      <td>manual</td>\n",
       "      <td>petrol</td>\n",
       "      <td>152.323529</td>\n",
       "      <td>850000.0</td>\n",
       "      <td>0.0</td>\n",
       "    </tr>\n",
       "    <tr>\n",
       "      <th>84980</th>\n",
       "      <td>audi</td>\n",
       "      <td>audi_q7</td>\n",
       "      <td>black</td>\n",
       "      <td>2011-07-01</td>\n",
       "      <td>2011</td>\n",
       "      <td>15999.0</td>\n",
       "      <td>180.0</td>\n",
       "      <td>automatic</td>\n",
       "      <td>diesel</td>\n",
       "      <td>195.000000</td>\n",
       "      <td>2230456.0</td>\n",
       "      <td>0.0</td>\n",
       "    </tr>\n",
       "    <tr>\n",
       "      <th>86614</th>\n",
       "      <td>ford</td>\n",
       "      <td>ford_focus</td>\n",
       "      <td>blue</td>\n",
       "      <td>2004-04-01</td>\n",
       "      <td>2004</td>\n",
       "      <td>1850.0</td>\n",
       "      <td>74.0</td>\n",
       "      <td>manual</td>\n",
       "      <td>petrol</td>\n",
       "      <td>173.576923</td>\n",
       "      <td>2060000.0</td>\n",
       "      <td>0.0</td>\n",
       "    </tr>\n",
       "    <tr>\n",
       "      <th>95991</th>\n",
       "      <td>ford</td>\n",
       "      <td>ford_galaxy</td>\n",
       "      <td>blue</td>\n",
       "      <td>2017-12-01</td>\n",
       "      <td>2017</td>\n",
       "      <td>17500.0</td>\n",
       "      <td>110.0</td>\n",
       "      <td>automatic</td>\n",
       "      <td>diesel</td>\n",
       "      <td>134.000000</td>\n",
       "      <td>1453268.0</td>\n",
       "      <td>0.0</td>\n",
       "    </tr>\n",
       "  </tbody>\n",
       "</table>\n",
       "</div>"
      ],
      "text/plain": [
       "         brand            model   color registration_date  year  \\\n",
       "10829      bmw           bmw_x3  silver        2007-01-01  2007   \n",
       "22427      bmw          bmw_520    grey        2012-02-01  2012   \n",
       "23152     ford     ford_mustang   beige        2008-01-01  2008   \n",
       "29777     audi          audi_a5   black        2009-05-01  2009   \n",
       "34720     audi  audi_a6-allroad   black        2001-12-01  2001   \n",
       "41846     ford      ford_fiesta   white        2010-12-01  2010   \n",
       "49637     ford      ford_galaxy   black        2003-11-01  2003   \n",
       "50883     ford     ford_transit   white        2014-10-01  2014   \n",
       "51637     audi          audi_q5   black        2015-09-01  2015   \n",
       "54167     ford      ford_fiesta   black        2004-02-01  2004   \n",
       "59933      bmw          bmw_520   black        1998-03-01  1998   \n",
       "60005     fiat       fiat_doblo  bronze        2022-06-01  2022   \n",
       "64927  citroen   citroen_jumper   white        2013-06-01  2013   \n",
       "68057      bmw          bmw_323    blue        1998-06-01  1998   \n",
       "80412     ford       ford_focus    blue        2005-06-01  2005   \n",
       "81468     audi          audi_a1     red        2011-02-01  2011   \n",
       "84784      bmw          bmw_318    grey        2009-09-01  2009   \n",
       "84980     audi          audi_q7   black        2011-07-01  2011   \n",
       "86614     ford       ford_focus    blue        2004-04-01  2004   \n",
       "95991     ford      ford_galaxy    blue        2017-12-01  2017   \n",
       "\n",
       "       price_in_euro  power_kw transmission_type fuel_type  \\\n",
       "10829         3950.0     286.0         automatic    diesel   \n",
       "22427        15000.0     135.0            manual    diesel   \n",
       "23152         4900.0     157.0         automatic    petrol   \n",
       "29777        10000.0     132.0            manual    petrol   \n",
       "34720         6657.0     184.0         automatic       lpg   \n",
       "41846         4500.0      44.0            manual    petrol   \n",
       "49637         1600.0      85.0            manual    diesel   \n",
       "50883         9600.0      92.0            manual    diesel   \n",
       "51637        26500.0     190.0         automatic    diesel   \n",
       "54167         1500.0      50.0            manual    diesel   \n",
       "59933         1100.0     110.0            manual    petrol   \n",
       "60005          650.0      81.0            manual    petrol   \n",
       "64927         7990.0      96.0            manual    diesel   \n",
       "68057         5000.0     125.0         automatic    petrol   \n",
       "80412         2200.0      66.0            manual    diesel   \n",
       "81468         6890.0      63.0            manual    petrol   \n",
       "84784         9750.0     105.0            manual    petrol   \n",
       "84980        15999.0     180.0         automatic    diesel   \n",
       "86614         1850.0      74.0            manual    petrol   \n",
       "95991        17500.0     110.0         automatic    diesel   \n",
       "\n",
       "       fuel_consumption_g_km  mileage_in_km  ev_range_km  \n",
       "10829             202.761905      1604000.0          0.0  \n",
       "22427             125.000000      2223400.0          0.0  \n",
       "23152             298.000000       999999.0          0.0  \n",
       "29777             149.000000      1940395.0          0.0  \n",
       "34720             322.000000       999999.0          0.0  \n",
       "41846             132.978723      1110000.0          0.0  \n",
       "49637             178.000000      2830000.0          0.0  \n",
       "50883             212.000000      3800000.0          0.0  \n",
       "51637             156.000000      1360000.0          0.0  \n",
       "54167             122.000000      2580000.0          0.0  \n",
       "59933             230.000000       999999.0          0.0  \n",
       "60005             176.335648      2300000.0          0.0  \n",
       "64927             204.333333       735201.0          0.0  \n",
       "68057             213.000000      2190000.0          0.0  \n",
       "80412             125.000000      2005002.0          0.0  \n",
       "81468             121.283333      1365435.0          0.0  \n",
       "84784             152.323529       850000.0          0.0  \n",
       "84980             195.000000      2230456.0          0.0  \n",
       "86614             173.576923      2060000.0          0.0  \n",
       "95991             134.000000      1453268.0          0.0  "
      ]
     },
     "execution_count": 142,
     "metadata": {},
     "output_type": "execute_result"
    }
   ],
   "source": [
    "upper_cap = df_clean[\"mileage_in_km\"].quantile(0.9998)\n",
    "\n",
    "# Filter rows above that threshold\n",
    "extreme_mileage = df_clean[df_clean[\"mileage_in_km\"] > upper_cap]\n",
    "\n",
    "print(\"Threshold (0.9998):\", upper_cap)\n",
    "print(\"Number of extreme vehicles:\", len(extreme_mileage))\n",
    "extreme_mileage.head(20)  # Show first 20 rows for preview"
   ]
  },
  {
   "cell_type": "code",
   "execution_count": 143,
   "id": "8f3e576a-bf0a-44dd-8f9e-bd58795b1b42",
   "metadata": {},
   "outputs": [
    {
     "name": "stdout",
     "output_type": "stream",
     "text": [
      "              model  year  mileage_in_km  avg_mileage_below_threshold\n",
      "0            bmw_x3  2007      1604000.0                188522.818182\n",
      "1           bmw_520  2012      2223400.0                187645.023256\n",
      "2      ford_mustang  2008       999999.0                 64511.000000\n",
      "3           audi_a5  2009      1940395.0                173339.051282\n",
      "4   audi_a6-allroad  2001       999999.0                          NaN\n",
      "5       ford_fiesta  2010      1110000.0                129833.492754\n",
      "6       ford_galaxy  2003      2830000.0                233527.428571\n",
      "7      ford_transit  2014      3800000.0                164588.400000\n",
      "8           audi_q5  2015      1360000.0                128979.287500\n",
      "9       ford_fiesta  2004      2580000.0                169653.467742\n",
      "10          bmw_520  1998       999999.0                253252.555556\n",
      "11       fiat_doblo  2022      2300000.0                  1414.185185\n",
      "12   citroen_jumper  2013       735201.0                155937.111111\n",
      "13          bmw_323  1998      2190000.0                199255.700000\n",
      "14       ford_focus  2005      2005002.0                182609.070423\n",
      "15          audi_a1  2011      1365435.0                138465.035714\n",
      "16          bmw_318  2009       850000.0                179625.839080\n",
      "17          audi_q7  2011      2230456.0                186371.550000\n",
      "18       ford_focus  2004      2060000.0                185675.292683\n",
      "19      ford_galaxy  2017      1453268.0                106732.307692\n"
     ]
    }
   ],
   "source": [
    "# Step 1: Define threshold\n",
    "upper_cap = df_clean[\"mileage_in_km\"].quantile(0.9998)\n",
    "\n",
    "# Step 2: Get extreme rows (above threshold)\n",
    "extreme_mileage = df_clean[df_clean[\"mileage_in_km\"] > upper_cap]\n",
    "\n",
    "# Step 3: Calculate mean mileage for each (model, year) below threshold\n",
    "avg_by_model_year = (\n",
    "    df_clean[df_clean[\"mileage_in_km\"] <= upper_cap]\n",
    "    .groupby([\"model\", \"year\"])[\"mileage_in_km\"]\n",
    "    .mean()\n",
    "    .reset_index()\n",
    "    .rename(columns={\"mileage_in_km\": \"avg_mileage_below_threshold\"})\n",
    ")\n",
    "\n",
    "# Step 4: Merge averages back into extreme vehicles\n",
    "extreme_with_avg = extreme_mileage.merge(\n",
    "    avg_by_model_year,\n",
    "    on=[\"model\", \"year\"],\n",
    "    how=\"left\"\n",
    ")\n",
    "\n",
    "print(extreme_with_avg[[\"model\", \"year\", \"mileage_in_km\", \"avg_mileage_below_threshold\"]].head(20))\n"
   ]
  },
  {
   "cell_type": "code",
   "execution_count": 144,
   "id": "a55dc007-b5f7-43d7-9cc9-e7b99be04a17",
   "metadata": {},
   "outputs": [
    {
     "name": "stdout",
     "output_type": "stream",
     "text": [
      "Empty DataFrame\n",
      "Columns: [brand, model, color, registration_date, year, price_in_euro, power_kw, transmission_type, fuel_type, fuel_consumption_g_km, mileage_in_km, ev_range_km]\n",
      "Index: []\n"
     ]
    }
   ],
   "source": [
    "# Step 1: Define threshold\n",
    "upper_cap = df_clean[\"mileage_in_km\"].quantile(0.9998)\n",
    "\n",
    "# Step 2: Calculate avg mileage per model-year below threshold\n",
    "avg_by_model_year = (\n",
    "    df_clean[df_clean[\"mileage_in_km\"] <= upper_cap]\n",
    "    .groupby([\"model\", \"year\"])[\"mileage_in_km\"]\n",
    "    .mean()\n",
    "    .reset_index()\n",
    "    .rename(columns={\"mileage_in_km\": \"avg_mileage_below_threshold\"})\n",
    ")\n",
    "\n",
    "# Step 3: Merge averages\n",
    "df_clean = df_clean.merge(avg_by_model_year, on=[\"model\", \"year\"], how=\"left\")\n",
    "\n",
    "# ✅ Step 4: Replace extreme mileage with the average\n",
    "df_clean.loc[df_clean[\"mileage_in_km\"] > upper_cap, \"mileage_in_km\"] = \\\n",
    "    df_clean.loc[df_clean[\"mileage_in_km\"] > upper_cap, \"avg_mileage_below_threshold\"]\n",
    "\n",
    "# Step 5: Drop helper column\n",
    "df_clean = df_clean.drop(columns=[\"avg_mileage_below_threshold\"])\n",
    "\n",
    "# Check again: now extreme values should be replaced\n",
    "print(df_clean[df_clean[\"mileage_in_km\"] > upper_cap])\n"
   ]
  },
  {
   "cell_type": "code",
   "execution_count": 145,
   "id": "6a820ec3-5f7e-4219-91c4-599ed12916c5",
   "metadata": {},
   "outputs": [
    {
     "name": "stdout",
     "output_type": "stream",
     "text": [
      "0.010         9\n",
      "0.050        20\n",
      "0.078       150\n",
      "0.080       350\n",
      "0.081       500\n",
      "0.082       526\n",
      "0.085     1,000\n",
      "0.090     1,500\n",
      "0.100     2,605\n",
      "0.200    18,027\n",
      "0.300    34,795\n",
      "Name: mileage_in_km, dtype: object\n"
     ]
    }
   ],
   "source": [
    "low_percentiles = df_clean[\"mileage_in_km\"].quantile([0.01, 0.05,0.078,0.08,0.081,0.082, 0.085,0.09, 0.10 , 0.2 , 0.3 ])\n",
    "print(low_percentiles.apply(lambda x: f\"{x:,.0f}\"))"
   ]
  },
  {
   "cell_type": "code",
   "execution_count": 146,
   "id": "6b31dd21-00ef-4eb3-8930-2718ceb6f55b",
   "metadata": {},
   "outputs": [],
   "source": [
    "lower_cap = 500  # chosen based on low percentile analysis\n",
    "df_clean.loc[df_clean[\"mileage_in_km\"] < lower_cap, \"mileage_in_km\"] = np.nan\n"
   ]
  },
  {
   "cell_type": "code",
   "execution_count": 147,
   "id": "933e6eea-4654-4bf5-a5af-ff9dc662679a",
   "metadata": {},
   "outputs": [
    {
     "data": {
      "text/plain": [
       "8054"
      ]
     },
     "execution_count": 147,
     "metadata": {},
     "output_type": "execute_result"
    }
   ],
   "source": [
    "df_clean[\"mileage_in_km\"].isna().sum()"
   ]
  },
  {
   "cell_type": "code",
   "execution_count": 148,
   "id": "4a40f1fc-2328-4c97-acf2-7034f4d9e030",
   "metadata": {},
   "outputs": [],
   "source": [
    "df_clean[\"mileage_in_km\"] = df_clean.groupby([\"model\", \"year\"])[\"mileage_in_km\"].transform(\n",
    "    lambda x: x.fillna(x.mean())\n",
    ")"
   ]
  },
  {
   "cell_type": "code",
   "execution_count": 149,
   "id": "4357d31e-24a1-4fec-b344-c9d7ef5b1a72",
   "metadata": {},
   "outputs": [
    {
     "data": {
      "text/plain": [
       "137"
      ]
     },
     "execution_count": 149,
     "metadata": {},
     "output_type": "execute_result"
    }
   ],
   "source": [
    "df_clean[\"mileage_in_km\"].isna().sum()"
   ]
  },
  {
   "cell_type": "code",
   "execution_count": 150,
   "id": "18ee348e-daf6-45e1-b640-619dfe5526df",
   "metadata": {},
   "outputs": [],
   "source": [
    "df_clean[\"mileage_in_km\"] = df_clean.groupby([\"year\"])[\"mileage_in_km\"].transform(\n",
    "    lambda x: x.fillna(x.mean())\n",
    ")"
   ]
  },
  {
   "cell_type": "code",
   "execution_count": 151,
   "id": "ca5c86e5-a2ac-4ba7-aa5b-bb8263f1a1bc",
   "metadata": {},
   "outputs": [
    {
     "data": {
      "text/plain": [
       "0"
      ]
     },
     "execution_count": 151,
     "metadata": {},
     "output_type": "execute_result"
    }
   ],
   "source": [
    "df_clean[\"mileage_in_km\"].isna().sum()"
   ]
  },
  {
   "cell_type": "markdown",
   "id": "f8022f14-21ad-4897-bc23-dcced82fa78f",
   "metadata": {},
   "source": [
    "----"
   ]
  },
  {
   "cell_type": "code",
   "execution_count": 152,
   "id": "250c5c4c-bf88-405d-a514-f24b89340ee9",
   "metadata": {},
   "outputs": [
    {
     "data": {
      "text/plain": [
       "Index(['brand', 'model', 'color', 'registration_date', 'year', 'price_in_euro',\n",
       "       'power_kw', 'transmission_type', 'fuel_type', 'fuel_consumption_g_km',\n",
       "       'mileage_in_km', 'ev_range_km'],\n",
       "      dtype='object')"
      ]
     },
     "execution_count": 152,
     "metadata": {},
     "output_type": "execute_result"
    }
   ],
   "source": [
    "df_clean.columns"
   ]
  },
  {
   "cell_type": "code",
   "execution_count": 153,
   "id": "6c3c0939-a730-4cd6-bbae-d123357f086f",
   "metadata": {},
   "outputs": [
    {
     "data": {
      "text/plain": [
       "brand                    0\n",
       "model                    0\n",
       "color                    0\n",
       "registration_date        0\n",
       "year                     0\n",
       "price_in_euro            0\n",
       "power_kw                 0\n",
       "transmission_type        0\n",
       "fuel_type                0\n",
       "fuel_consumption_g_km    0\n",
       "mileage_in_km            0\n",
       "ev_range_km              0\n",
       "dtype: int64"
      ]
     },
     "execution_count": 153,
     "metadata": {},
     "output_type": "execute_result"
    }
   ],
   "source": [
    "df_clean.isna().sum()"
   ]
  },
  {
   "cell_type": "code",
   "execution_count": 154,
   "id": "a41e2299-38ea-4c7c-8b49-65406da1659d",
   "metadata": {},
   "outputs": [
    {
     "data": {
      "text/plain": [
       "(99326, 12)"
      ]
     },
     "execution_count": 154,
     "metadata": {},
     "output_type": "execute_result"
    }
   ],
   "source": [
    "df_clean.shape"
   ]
  },
  {
   "cell_type": "code",
   "execution_count": 155,
   "id": "72b3cd06-6d08-4c4e-afa1-9647dfe1fcc6",
   "metadata": {},
   "outputs": [
    {
     "data": {
      "text/html": [
       "<div>\n",
       "<style scoped>\n",
       "    .dataframe tbody tr th:only-of-type {\n",
       "        vertical-align: middle;\n",
       "    }\n",
       "\n",
       "    .dataframe tbody tr th {\n",
       "        vertical-align: top;\n",
       "    }\n",
       "\n",
       "    .dataframe thead th {\n",
       "        text-align: right;\n",
       "    }\n",
       "</style>\n",
       "<table border=\"1\" class=\"dataframe\">\n",
       "  <thead>\n",
       "    <tr style=\"text-align: right;\">\n",
       "      <th></th>\n",
       "      <th>brand</th>\n",
       "      <th>model</th>\n",
       "      <th>color</th>\n",
       "      <th>registration_date</th>\n",
       "      <th>year</th>\n",
       "      <th>price_in_euro</th>\n",
       "      <th>power_kw</th>\n",
       "      <th>transmission_type</th>\n",
       "      <th>fuel_type</th>\n",
       "      <th>fuel_consumption_g_km</th>\n",
       "      <th>mileage_in_km</th>\n",
       "      <th>ev_range_km</th>\n",
       "    </tr>\n",
       "  </thead>\n",
       "  <tbody>\n",
       "    <tr>\n",
       "      <th>0</th>\n",
       "      <td>ford</td>\n",
       "      <td>ford_kuga</td>\n",
       "      <td>black</td>\n",
       "      <td>2023-05-01</td>\n",
       "      <td>2023</td>\n",
       "      <td>38490.0</td>\n",
       "      <td>140.0</td>\n",
       "      <td>automatic</td>\n",
       "      <td>hybrid</td>\n",
       "      <td>124.0</td>\n",
       "      <td>3098.711538</td>\n",
       "      <td>74.611111</td>\n",
       "    </tr>\n",
       "    <tr>\n",
       "      <th>1</th>\n",
       "      <td>hyundai</td>\n",
       "      <td>hyundai_i10</td>\n",
       "      <td>black</td>\n",
       "      <td>2018-09-01</td>\n",
       "      <td>2018</td>\n",
       "      <td>11555.0</td>\n",
       "      <td>49.0</td>\n",
       "      <td>manual</td>\n",
       "      <td>petrol</td>\n",
       "      <td>106.0</td>\n",
       "      <td>27782.000000</td>\n",
       "      <td>0.000000</td>\n",
       "    </tr>\n",
       "    <tr>\n",
       "      <th>2</th>\n",
       "      <td>audi</td>\n",
       "      <td>audi_q4-e-tron</td>\n",
       "      <td>grey</td>\n",
       "      <td>2021-05-01</td>\n",
       "      <td>2021</td>\n",
       "      <td>48886.0</td>\n",
       "      <td>125.0</td>\n",
       "      <td>automatic</td>\n",
       "      <td>electric</td>\n",
       "      <td>0.0</td>\n",
       "      <td>4247.000000</td>\n",
       "      <td>402.687500</td>\n",
       "    </tr>\n",
       "    <tr>\n",
       "      <th>3</th>\n",
       "      <td>honda</td>\n",
       "      <td>honda_cr-v</td>\n",
       "      <td>red</td>\n",
       "      <td>2018-07-01</td>\n",
       "      <td>2018</td>\n",
       "      <td>24490.0</td>\n",
       "      <td>114.0</td>\n",
       "      <td>automatic</td>\n",
       "      <td>petrol</td>\n",
       "      <td>175.0</td>\n",
       "      <td>57000.000000</td>\n",
       "      <td>0.000000</td>\n",
       "    </tr>\n",
       "    <tr>\n",
       "      <th>4</th>\n",
       "      <td>kia</td>\n",
       "      <td>kia_sportage</td>\n",
       "      <td>black</td>\n",
       "      <td>2023-02-01</td>\n",
       "      <td>2023</td>\n",
       "      <td>34990.0</td>\n",
       "      <td>110.0</td>\n",
       "      <td>manual</td>\n",
       "      <td>petrol</td>\n",
       "      <td>150.0</td>\n",
       "      <td>7500.000000</td>\n",
       "      <td>0.000000</td>\n",
       "    </tr>\n",
       "  </tbody>\n",
       "</table>\n",
       "</div>"
      ],
      "text/plain": [
       "     brand           model  color registration_date  year  price_in_euro  \\\n",
       "0     ford       ford_kuga  black        2023-05-01  2023        38490.0   \n",
       "1  hyundai     hyundai_i10  black        2018-09-01  2018        11555.0   \n",
       "2     audi  audi_q4-e-tron   grey        2021-05-01  2021        48886.0   \n",
       "3    honda      honda_cr-v    red        2018-07-01  2018        24490.0   \n",
       "4      kia    kia_sportage  black        2023-02-01  2023        34990.0   \n",
       "\n",
       "   power_kw transmission_type fuel_type  fuel_consumption_g_km  mileage_in_km  \\\n",
       "0     140.0         automatic    hybrid                  124.0    3098.711538   \n",
       "1      49.0            manual    petrol                  106.0   27782.000000   \n",
       "2     125.0         automatic  electric                    0.0    4247.000000   \n",
       "3     114.0         automatic    petrol                  175.0   57000.000000   \n",
       "4     110.0            manual    petrol                  150.0    7500.000000   \n",
       "\n",
       "   ev_range_km  \n",
       "0    74.611111  \n",
       "1     0.000000  \n",
       "2   402.687500  \n",
       "3     0.000000  \n",
       "4     0.000000  "
      ]
     },
     "execution_count": 155,
     "metadata": {},
     "output_type": "execute_result"
    }
   ],
   "source": [
    "df_clean.head()"
   ]
  },
  {
   "cell_type": "code",
   "execution_count": null,
   "id": "3a6e1cce-8b83-4c16-8b0d-737414f5296a",
   "metadata": {},
   "outputs": [],
   "source": []
  },
  {
   "cell_type": "markdown",
   "id": "a5241294-023e-4426-8093-811d4c5bd00c",
   "metadata": {},
   "source": [
    "## 4. Feature Engineering"
   ]
  },
  {
   "cell_type": "code",
   "execution_count": 156,
   "id": "a00ea159-9af2-47d0-a6ad-1f3bcaf24e00",
   "metadata": {},
   "outputs": [],
   "source": [
    "data_collection_year = df_clean[\"year\"].max()\n",
    "\n",
    "df_clean[\"vehicle_manufacturing_age\"] = data_collection_year - df_clean[\"year\"].astype(int)\n",
    "\n",
    "df_clean[\"registration_month\"] = df_clean[\"registration_date\"].dt.month\n",
    "df_clean[\"registration_year\"] = df_clean[\"registration_date\"].dt.year\n",
    "\n",
    "df_clean[\"vehicle_registration_age\"] = data_collection_year - df_clean[\"registration_year\"]\n",
    "\n",
    "df_clean[\"reg_month_sin\"] = np.sin(2 * np.pi * df_clean[\"registration_month\"] / 12)\n",
    "df_clean[\"reg_month_cos\"] = np.cos(2 * np.pi * df_clean[\"registration_month\"] / 12)\n",
    "\n",
    "\n",
    "df_clean = df_clean.drop(columns=[\"registration_date\", \"registration_month\" ,\"year\" ,\"registration_year\"])\n"
   ]
  },
  {
   "cell_type": "code",
   "execution_count": 157,
   "id": "25aabe9a-144b-4a40-8e2a-99e0e31969c0",
   "metadata": {},
   "outputs": [],
   "source": [
    "# create a new column as mileage per year\n",
    "df_clean[\"mileage_per_year\"] = df_clean.apply(\n",
    "    lambda row: row[\"mileage_in_km\"] / row[\"vehicle_registration_age\"] if row[\"vehicle_registration_age\"] > 0 else row[\"mileage_in_km\"],\n",
    "    axis=1\n",
    ")\n",
    "df_clean[\"mileage_per_year\"] = df_clean[\"mileage_per_year\"].round(2)"
   ]
  },
  {
   "cell_type": "code",
   "execution_count": 158,
   "id": "ba422a32-2b90-45f1-916d-38a111dcde84",
   "metadata": {},
   "outputs": [
    {
     "name": "stdout",
     "output_type": "stream",
     "text": [
      "Categorical columns: ['brand', 'model', 'color', 'transmission_type', 'fuel_type']\n"
     ]
    }
   ],
   "source": [
    "cat_cols = df_clean.select_dtypes(include=['object', 'category']).columns.tolist()\n",
    "print(\"Categorical columns:\", cat_cols)"
   ]
  },
  {
   "cell_type": "code",
   "execution_count": 159,
   "id": "17c380a2-3d72-4b6e-8b90-9d746af7460f",
   "metadata": {},
   "outputs": [
    {
     "data": {
      "text/plain": [
       "array(['ford_kuga', 'hyundai_i10', 'audi_q4-e-tron', 'honda_cr-v',\n",
       "       'kia_sportage', 'honda_civic', 'hyundai_staria', 'hyundai_kona',\n",
       "       'ford_fiesta', 'dacia_sandero', 'bmw_520', 'bmw_x5',\n",
       "       'citroen_spacetourer', 'audi_a5', 'audi_a3', 'kia_kia',\n",
       "       'alfa-romeo_147', 'audi_a4', 'ford_focus', 'ford_ecosport',\n",
       "       'ford_transit', 'audi_a6', 'hyundai_ioniq', 'audi_q5',\n",
       "       'land-rover_range-rover-sport', 'kia_xceed', 'bmw_x1',\n",
       "       'hyundai_tucson', 'jaguar_f-pace', 'bmw_730', 'bmw_118',\n",
       "       'land-rover_range-rover-evoque', 'audi_a1', 'kia_optima',\n",
       "       'bmw_550', 'bmw_114', 'dodge_ram', 'ford_s-max', 'audi_a8',\n",
       "       'bmw_m2', 'audi_q3', 'bmw_218', 'fiat_124-spider', 'bmw_225',\n",
       "       'mazda_cx-7', 'alfa-romeo_stelvio', 'ford_c-max', 'bmw_430',\n",
       "       'hyundai_i40', 'citroen_c5-aircross', 'bmw_525', 'isuzu_d-max',\n",
       "       'alfa-romeo_giulietta', 'bmw_x3', 'dacia_duster', 'mazda_cx-5',\n",
       "       'bmw_i3', 'bmw_x6', 'ford_f150', 'jeep_compass', 'mazda_cx-3',\n",
       "       'fiat_500c', 'ford_edge', 'dacia_logan', 'fiat_tipo', 'audi_sq5',\n",
       "       'audi_rsq8', 'kia_niro', 'fiat_500', 'bmw_535',\n",
       "       'ferrari_f8-tributo', 'kia_sorento', 'citroen_berlingo',\n",
       "       'audi_a4-allroad', 'land-rover_range-rover', 'kia_stonic',\n",
       "       'ford_transit-custom', 'ford_mondeo', 'bmw_m4', 'jeep_renegade',\n",
       "       'hyundai_i30', 'bmw_120', 'kia_ceed', 'bmw_z4', 'hyundai_i20',\n",
       "       'bmw_x3-m', 'bmw_x4', 'bmw_530', 'mazda_6', 'audi_q2',\n",
       "       'fiat_ducato', 'bmw_320', 'alfa-romeo_giulia', 'audi_ttrs',\n",
       "       'bmw_135', 'audi_q7', 'bmw_318', 'maserati_ghibli',\n",
       "       'bentley_mulsanne', 'audi_tt', 'bmw_420', 'dacia_dokker',\n",
       "       'jeep_grand-cherokee', 'kia_rio', 'dacia_spring', 'bmw_116',\n",
       "       'ford_tourneo-custom', 'dacia_dacia', 'kia_picanto', 'bmw_325',\n",
       "       'audi_a6-allroad', 'ford_crown', 'ford_fusion', 'citroen_c3',\n",
       "       'audi_a2', 'fiat_doblo', 'bmw_x5-m', 'kia_soul', 'ford_mustang',\n",
       "       'bmw_340', 'bmw_125', 'land-rover_discovery-sport', 'fiat_500e',\n",
       "       'bmw_316', 'dacia_jogger', 'bmw_335', 'hyundai_hyundai',\n",
       "       'ford_ranger', 'ford_focus-c-max', 'audi_rs3', 'hyundai_h1',\n",
       "       'kia_ceed-sw', 'ferrari_california', 'bmw_540', 'jeep_wrangler',\n",
       "       'audi_rs4', 'ford_ford', 'ford_ka', 'bmw_m3', 'ford_puma',\n",
       "       'land-rover_defender', 'ford_tourneo-connect', 'audi_rs7',\n",
       "       'citroen_citroen', 'mazda_mx-5', 'citroen_c5', 'bmw_330',\n",
       "       'jaguar_xf', 'audi_s4', 'ford_galaxy', 'bmw_m5', 'fiat_fiorino',\n",
       "       'citroen_c4-grand-picasso', 'alfa-romeo_spider', 'citroen_c1',\n",
       "       'daihatsu_sirion', 'alfa-romeo_166', 'hyundai_getz',\n",
       "       'citroen_c3-picasso', 'bmw_220', 'alfa-romeo_tonale',\n",
       "       'maserati_levante', 'fiat_punto', 'jaguar_xe', 'bmw_z4-m',\n",
       "       'fiat_500x', 'bmw_435', 'lamborghini_aventador', 'jaguar_e-pace',\n",
       "       'bmw_216', 'bmw_x2', 'bmw_645', 'chevrolet_camaro',\n",
       "       'hyundai_santa-fe', 'audi_rs5', 'fiat_punto-evo', 'bmw_523',\n",
       "       'ford_tourneo', 'ford_tourneo-courier', 'bmw_x6-m',\n",
       "       'land-rover_range-rover-velar', 'audi_sq7', 'audi_s1',\n",
       "       'aston-martin_db9', 'fiat_panda', 'ford_courier',\n",
       "       'alfa-romeo_mito', 'audi_r8', 'hyundai_bayon', 'bmw_m8', 'bmw_750',\n",
       "       'bentley_continental-gt', 'ford_transit-courier', 'bmw_240',\n",
       "       'audi_rsq3', 'alfa-romeo_159', 'aston-martin_vanquish',\n",
       "       'fiat_500l', 'ford_mustang-mach-e', 'citroen_jumper',\n",
       "       'ferrari_599', 'jaguar_i-pace', 'bmw_640', 'chevrolet_c1500',\n",
       "       'citroen_c4', 'land-rover_discovery', 'kia_proceed', 'kia_carens',\n",
       "       'audi_s5', 'bmw_x7', 'bmw_650', 'audi_a7', 'audi_s8',\n",
       "       'daihatsu_copen', 'fiat_scudo', 'hyundai_ix20', 'bmw_140',\n",
       "       'ford_transit-connect', 'ford_b-max', 'audi_allroad', 'bmw_440',\n",
       "       'ford_grand-c-max', 'bmw_i8', 'citroen_ds3', 'fiat_talento',\n",
       "       'jeep_gladiator', 'bmw_123', 'dacia_lodgy', 'bmw_z3', 'audi_tts',\n",
       "       'fiat_fiat', 'hyundai_ix35', 'citroen_c-zero',\n",
       "       'bentley_continental', 'citroen_c5-x', 'kia_stinger',\n",
       "       'hyundai_ioniq5', 'kia_venga', 'citroen_c4-grand-spacetourer',\n",
       "       'mazda_2', 'audi_e-tron', 'cadillac_escalade', 'ferrari_488',\n",
       "       'maserati_granturismo', 'bmw_m850', 'citroen_c3-aircross',\n",
       "       'aston-martin_db11', 'kia_ev6', 'maserati_quattroporte',\n",
       "       'daihatsu_terios', 'audi_q8', 'daewoo_kalos', 'kia_opirus',\n",
       "       'ferrari_gtc4-lusso', 'dodge_challenger', 'mazda_3',\n",
       "       'audi_e-tron-gt', 'chrysler_pacifica', 'audi_q8-e-tron',\n",
       "       'bentley_brooklands', 'lamborghini_murciélago', 'bmw_740',\n",
       "       'lamborghini_gallardo', 'ferrari_458', 'bmw_ix', 'audi_s3',\n",
       "       'audi_s6', 'cadillac_cts', 'bmw_528', 'bmw_m6', 'daewoo_matiz',\n",
       "       'bmw_i4', 'bentley_continental-gtc', 'bmw_425', 'honda_jazz',\n",
       "       'dodge_durango', 'alfa-romeo_gtv', 'bentley_flying-spur',\n",
       "       'daihatsu_cuore', 'lancia_voyager', 'aston-martin_vantage',\n",
       "       'bmw_428', 'honda_e', 'fiat_grande-punto', 'jaguar_f-type',\n",
       "       'bentley_bentayga', 'bmw_323', 'ferrari_550', 'citroen_ds4',\n",
       "       'citroen_c4-cactus', 'citroen_nemo', 'bmw_235', 'mazda_cx-30',\n",
       "       'ferrari_ff', 'ford_streetka', 'lamborghini_huracan', 'audi_rs6',\n",
       "       'chevrolet_cruze', 'citroen_c4-spacetourer', 'bmw_328',\n",
       "       'lada_vesta', 'bmw_1m-coupe', 'bmw_745', 'infiniti_q30',\n",
       "       'jeep_cherokee', 'bmw_735', 'ford_tourneo-grand', 'hyundai_ioniq6',\n",
       "       'bentley_azure', 'fiat_qubo', 'citroen_jumpy', 'lada_kalina',\n",
       "       'bmw_760', 'honda_nsx', 'citroen_c4-picasso', 'bmw_ix1',\n",
       "       'ferrari_360', 'maserati_grancabrio', 'alfa-romeo_156',\n",
       "       'infiniti_g37', 'bmw_x4-m', 'bmw_635', 'fiat_e-doblo',\n",
       "       'ford_explorer', 'alfa-romeo_brera', 'bmw_630', 'jeep_patriot',\n",
       "       'infiniti_qx70', 'chevrolet_trailblazer', 'fiat_freemont',\n",
       "       'bentley_bentley', 'ferrari_portofino', 'lada_taiga', 'honda_hr-v',\n",
       "       'infiniti_qx60', 'jeep_avenger', 'ferrari_f430', 'lada_niva',\n",
       "       'land-rover_freelander', 'bmw_z3-m', 'lamborghini_lamborghini',\n",
       "       'ford_ranger-raptor', 'ferrari_roma', 'chevrolet_silverado',\n",
       "       'ferrari_456', 'ferrari_612', 'audi_s7', 'mazda_5',\n",
       "       'chevrolet_chevy-van', 'hyundai_nexo', 'daihatsu_yrv', 'audi_sq8',\n",
       "       'dodge_grand-caravan', 'maserati_4200', 'fiat_595-abarth',\n",
       "       'maserati_mc20', 'maserati_grecale', 'mazda_mazda',\n",
       "       'audi_cabriolet', 'hyundai_atos', 'cadillac_xt4', 'daewoo_lanos',\n",
       "       'cadillac_sts', 'infiniti_q50', 'citroen_e-c4-electric', 'bmw_545',\n",
       "       'bmw_214', 'fiat_new-panda', 'daewoo_nubira', 'ford_f250',\n",
       "       'aston-martin_v8', 'lancia_ypsilon', 'lancia_musa', 'fiat_ulysse',\n",
       "       'ford_maverick', 'citroen_c8', 'kia_e-niro', 'bmw_z8',\n",
       "       'cadillac_ct6', 'bmw_230', 'dodge_charger', 'lancia_y',\n",
       "       'dodge_caliber', 'bmw_x2-m', 'maserati_3200', 'fiat_fullback',\n",
       "       'hyundai_kona-electric', 'aston-martin_dbx', 'fiat_idea',\n",
       "       'bmw_223', 'hyundai_h350', 'audi_sq2', 'ford_transit-bus',\n",
       "       'fiat_sedici', 'lada_urban', 'ferrari_ferrari', 'bentley_arnage',\n",
       "       'bmw_ix3', 'lamborghini_urus', 'cadillac_xt6', 'hyundai_veloster',\n",
       "       'infiniti_fx', 'citroen_c-crosser', 'lancia_flavia',\n",
       "       'aston-martin_db7', 'chevrolet_tahoe', 'cadillac_srx',\n",
       "       'citroen_c4-aircross', 'lancia_lybra', 'ford_expedition',\n",
       "       'cadillac_xt5', 'ford_focus-cc', 'alfa-romeo_4c', 'chevrolet_trax',\n",
       "       'bmw_728', 'cadillac_ats', 'bmw_xm', 'aston-martin_dbs',\n",
       "       'infiniti_m30', 'citroen_c6', 'daihatsu_trevis', 'bmw_850',\n",
       "       'citroen_xsara-picasso', 'ferrari_f355', 'bmw_518',\n",
       "       'maserati_spyder', 'daewoo_lacetti', 'daihatsu_move', 'lada_111',\n",
       "       'bmw_840', 'bmw_x7-m', 'dacia_pick-up', 'ferrari_575',\n",
       "       'lancia_delta', 'alfa-romeo_alfa-romeo', 'lada_granta', 'bmw_418',\n",
       "       'ford_escort', 'ferrari_430-scuderia', 'lancia_thesis',\n",
       "       'jaguar_x-type', 'hyundai_coupe', 'citroen_c2', 'bmw_m550',\n",
       "       'jaguar_xj', 'ferrari_f12', 'maserati_maserati',\n",
       "       'alfa-romeo_alfa-6', 'hyundai_grand-santa-fe', 'fiat_bravo',\n",
       "       'bmw_228', 'ford_e-transit', 'infiniti_q60', 'lancia_phedra',\n",
       "       'fiat_croma', 'kia_carnival', 'infiniti_qx30', 'alfa-romeo_gt',\n",
       "       'honda_insight', 'cadillac_seville', 'ford_taurus',\n",
       "       'aston-martin_rapide', 'isuzu_isuzu', 'bmw_128', 'citroen_e-c4-x',\n",
       "       'citroen_c-elysée', 'lada_4x4', 'citroen_ds5', 'citroen_ds',\n",
       "       'hyundai_matrix', 'audi_80', 'dodge_journey', 'chevrolet_captiva',\n",
       "       'bmw_active-hybrid-7', 'cadillac_bls', 'jaguar_xkr', 'dodge_nitro',\n",
       "       'hyundai_genesis', 'chevrolet_kalos', 'infiniti_qx80',\n",
       "       'infiniti_q70', 'chevrolet_suburban', 'daihatsu_materia',\n",
       "       'maserati_gransport', 'daihatsu_applause', 'audi_50',\n",
       "       'hyundai_elantra', 'ford_f350', 'daihatsu_charade', 'ford_bronco',\n",
       "       'ford_windstar', 'lancia_zeta', 'daewoo_rezzo',\n",
       "       'chevrolet_colorado', 'jaguar_xk', 'chevrolet_orlando',\n",
       "       'honda_accord', 'kia_cerato', 'lancia_thema', 'isuzu_trooper',\n",
       "       'chevrolet_matiz', 'chevrolet_express', 'alfa-romeo_164',\n",
       "       'daewoo_evanda', 'chevrolet_corvette', 'bmw_620', 'maserati_coupe',\n",
       "       'fiat_multipla', 'alfa-romeo_sportwagon', 'ferrari_348',\n",
       "       'aston-martin_aston-martin', 'jeep_wagoneer', 'infiniti_ex30',\n",
       "       'ford_m', 'fiat_linea', 'alfa-romeo_145', 'hyundai_genesis-coupe',\n",
       "       'ford_flex', 'bmw_i7', 'aston-martin_virage', 'infiniti_m37',\n",
       "       'lancia_kappa', 'fiat_stilo', 'chevrolet_aveo',\n",
       "       'cadillac_cadillac', 'hyundai_accent', 'kia_shuma',\n",
       "       'citroen_xantia', 'audi_quattro', 'dodge_avenger',\n",
       "       'cadillac_eldorado', 'infiniti_ex35', 'daewoo_tacuma', 'bmw_i5',\n",
       "       'alfa-romeo_8c', 'hyundai_terracan', 'citroen_ami',\n",
       "       'infiniti_ex37', 'chrysler_ram-van', 'bmw_130', 'honda_odyssey',\n",
       "       'jeep_jeep', 'citroen_xsara', 'chevrolet_spark', 'mazda_bt-50',\n",
       "       'audi_rs', 'chevrolet_2500', 'bmw_m1', 'daewoo_espero',\n",
       "       'jeep_commander', 'ford_gran-torino', 'chevrolet_blazer',\n",
       "       'land-rover_land-rover', 'infiniti_qx50', 'chevrolet_bolt',\n",
       "       'infiniti_m35', 'mazda_323', 'bentley_turbo-r', 'hyundai_sonata',\n",
       "       'lada_priora', 'fiat_seicento', 'lancia_dedra',\n",
       "       'bmw_active-hybrid-3', 'alfa-romeo_155', 'lada_lada', 'kia_joice',\n",
       "       'mazda_tribute', 'ferrari_812', 'chrysler_200', 'lada_nova',\n",
       "       'mazda_rx-8', 'alfa-romeo_146', 'ford_probe', 'bmw_725',\n",
       "       'hyundai_ix55', 'fiat_strada', 'citroen_c35', 'honda_stream',\n",
       "       'mazda_cx-9', 'ferrari_mondial'], dtype=object)"
      ]
     },
     "execution_count": 159,
     "metadata": {},
     "output_type": "execute_result"
    }
   ],
   "source": [
    "df_clean[\"model\"].unique()"
   ]
  },
  {
   "cell_type": "code",
   "execution_count": 160,
   "id": "85f34c39-c273-4721-a2d3-8e267fcd885a",
   "metadata": {},
   "outputs": [
    {
     "data": {
      "text/html": [
       "<div>\n",
       "<style scoped>\n",
       "    .dataframe tbody tr th:only-of-type {\n",
       "        vertical-align: middle;\n",
       "    }\n",
       "\n",
       "    .dataframe tbody tr th {\n",
       "        vertical-align: top;\n",
       "    }\n",
       "\n",
       "    .dataframe thead th {\n",
       "        text-align: right;\n",
       "    }\n",
       "</style>\n",
       "<table border=\"1\" class=\"dataframe\">\n",
       "  <thead>\n",
       "    <tr style=\"text-align: right;\">\n",
       "      <th></th>\n",
       "      <th>brand</th>\n",
       "      <th>model</th>\n",
       "      <th>color</th>\n",
       "      <th>price_in_euro</th>\n",
       "      <th>power_kw</th>\n",
       "      <th>transmission_type</th>\n",
       "      <th>fuel_type</th>\n",
       "      <th>fuel_consumption_g_km</th>\n",
       "      <th>mileage_in_km</th>\n",
       "      <th>ev_range_km</th>\n",
       "      <th>vehicle_manufacturing_age</th>\n",
       "      <th>vehicle_registration_age</th>\n",
       "      <th>reg_month_sin</th>\n",
       "      <th>reg_month_cos</th>\n",
       "      <th>mileage_per_year</th>\n",
       "    </tr>\n",
       "  </thead>\n",
       "  <tbody>\n",
       "    <tr>\n",
       "      <th>0</th>\n",
       "      <td>ford</td>\n",
       "      <td>ford_kuga</td>\n",
       "      <td>black</td>\n",
       "      <td>38490.0</td>\n",
       "      <td>140.0</td>\n",
       "      <td>automatic</td>\n",
       "      <td>hybrid</td>\n",
       "      <td>124.0</td>\n",
       "      <td>3098.711538</td>\n",
       "      <td>74.611111</td>\n",
       "      <td>0</td>\n",
       "      <td>0</td>\n",
       "      <td>0.500000</td>\n",
       "      <td>-8.660254e-01</td>\n",
       "      <td>3098.71</td>\n",
       "    </tr>\n",
       "    <tr>\n",
       "      <th>1</th>\n",
       "      <td>hyundai</td>\n",
       "      <td>hyundai_i10</td>\n",
       "      <td>black</td>\n",
       "      <td>11555.0</td>\n",
       "      <td>49.0</td>\n",
       "      <td>manual</td>\n",
       "      <td>petrol</td>\n",
       "      <td>106.0</td>\n",
       "      <td>27782.000000</td>\n",
       "      <td>0.000000</td>\n",
       "      <td>5</td>\n",
       "      <td>5</td>\n",
       "      <td>-1.000000</td>\n",
       "      <td>-1.836970e-16</td>\n",
       "      <td>5556.40</td>\n",
       "    </tr>\n",
       "    <tr>\n",
       "      <th>2</th>\n",
       "      <td>audi</td>\n",
       "      <td>audi_q4-e-tron</td>\n",
       "      <td>grey</td>\n",
       "      <td>48886.0</td>\n",
       "      <td>125.0</td>\n",
       "      <td>automatic</td>\n",
       "      <td>electric</td>\n",
       "      <td>0.0</td>\n",
       "      <td>4247.000000</td>\n",
       "      <td>402.687500</td>\n",
       "      <td>2</td>\n",
       "      <td>2</td>\n",
       "      <td>0.500000</td>\n",
       "      <td>-8.660254e-01</td>\n",
       "      <td>2123.50</td>\n",
       "    </tr>\n",
       "    <tr>\n",
       "      <th>3</th>\n",
       "      <td>honda</td>\n",
       "      <td>honda_cr-v</td>\n",
       "      <td>red</td>\n",
       "      <td>24490.0</td>\n",
       "      <td>114.0</td>\n",
       "      <td>automatic</td>\n",
       "      <td>petrol</td>\n",
       "      <td>175.0</td>\n",
       "      <td>57000.000000</td>\n",
       "      <td>0.000000</td>\n",
       "      <td>5</td>\n",
       "      <td>5</td>\n",
       "      <td>-0.500000</td>\n",
       "      <td>-8.660254e-01</td>\n",
       "      <td>11400.00</td>\n",
       "    </tr>\n",
       "    <tr>\n",
       "      <th>4</th>\n",
       "      <td>kia</td>\n",
       "      <td>kia_sportage</td>\n",
       "      <td>black</td>\n",
       "      <td>34990.0</td>\n",
       "      <td>110.0</td>\n",
       "      <td>manual</td>\n",
       "      <td>petrol</td>\n",
       "      <td>150.0</td>\n",
       "      <td>7500.000000</td>\n",
       "      <td>0.000000</td>\n",
       "      <td>0</td>\n",
       "      <td>0</td>\n",
       "      <td>0.866025</td>\n",
       "      <td>5.000000e-01</td>\n",
       "      <td>7500.00</td>\n",
       "    </tr>\n",
       "  </tbody>\n",
       "</table>\n",
       "</div>"
      ],
      "text/plain": [
       "     brand           model  color  price_in_euro  power_kw transmission_type  \\\n",
       "0     ford       ford_kuga  black        38490.0     140.0         automatic   \n",
       "1  hyundai     hyundai_i10  black        11555.0      49.0            manual   \n",
       "2     audi  audi_q4-e-tron   grey        48886.0     125.0         automatic   \n",
       "3    honda      honda_cr-v    red        24490.0     114.0         automatic   \n",
       "4      kia    kia_sportage  black        34990.0     110.0            manual   \n",
       "\n",
       "  fuel_type  fuel_consumption_g_km  mileage_in_km  ev_range_km  \\\n",
       "0    hybrid                  124.0    3098.711538    74.611111   \n",
       "1    petrol                  106.0   27782.000000     0.000000   \n",
       "2  electric                    0.0    4247.000000   402.687500   \n",
       "3    petrol                  175.0   57000.000000     0.000000   \n",
       "4    petrol                  150.0    7500.000000     0.000000   \n",
       "\n",
       "   vehicle_manufacturing_age  vehicle_registration_age  reg_month_sin  \\\n",
       "0                          0                         0       0.500000   \n",
       "1                          5                         5      -1.000000   \n",
       "2                          2                         2       0.500000   \n",
       "3                          5                         5      -0.500000   \n",
       "4                          0                         0       0.866025   \n",
       "\n",
       "   reg_month_cos  mileage_per_year  \n",
       "0  -8.660254e-01           3098.71  \n",
       "1  -1.836970e-16           5556.40  \n",
       "2  -8.660254e-01           2123.50  \n",
       "3  -8.660254e-01          11400.00  \n",
       "4   5.000000e-01           7500.00  "
      ]
     },
     "execution_count": 160,
     "metadata": {},
     "output_type": "execute_result"
    }
   ],
   "source": [
    "df_clean.head()"
   ]
  },
  {
   "cell_type": "code",
   "execution_count": 161,
   "id": "d9a9cb74-9533-4946-b65f-9a32bfc6e420",
   "metadata": {},
   "outputs": [
    {
     "name": "stdout",
     "output_type": "stream",
     "text": [
      "Categorical columns: ['brand', 'model', 'color', 'transmission_type', 'fuel_type']\n"
     ]
    }
   ],
   "source": [
    "cat_cols = df_clean.select_dtypes(include=['object', 'category']).columns.tolist()\n",
    "print(\"Categorical columns:\", cat_cols)"
   ]
  },
  {
   "cell_type": "code",
   "execution_count": 162,
   "id": "5d9367bc-0236-47d5-9141-57446fb6b92e",
   "metadata": {},
   "outputs": [],
   "source": [
    "cat_cols = ['brand', 'color', 'transmission_type', 'fuel_type']"
   ]
  },
  {
   "cell_type": "code",
   "execution_count": 163,
   "id": "f3e04ab7-abcf-468e-8cf5-8c173b24fe93",
   "metadata": {},
   "outputs": [
    {
     "data": {
      "text/html": [
       "<div>\n",
       "<style scoped>\n",
       "    .dataframe tbody tr th:only-of-type {\n",
       "        vertical-align: middle;\n",
       "    }\n",
       "\n",
       "    .dataframe tbody tr th {\n",
       "        vertical-align: top;\n",
       "    }\n",
       "\n",
       "    .dataframe thead th {\n",
       "        text-align: right;\n",
       "    }\n",
       "</style>\n",
       "<table border=\"1\" class=\"dataframe\">\n",
       "  <thead>\n",
       "    <tr style=\"text-align: right;\">\n",
       "      <th></th>\n",
       "      <th>model</th>\n",
       "      <th>price_in_euro</th>\n",
       "      <th>power_kw</th>\n",
       "      <th>fuel_consumption_g_km</th>\n",
       "      <th>mileage_in_km</th>\n",
       "      <th>ev_range_km</th>\n",
       "      <th>vehicle_manufacturing_age</th>\n",
       "      <th>vehicle_registration_age</th>\n",
       "      <th>reg_month_sin</th>\n",
       "      <th>reg_month_cos</th>\n",
       "      <th>...</th>\n",
       "      <th>transmission_type_manual</th>\n",
       "      <th>transmission_type_semi-automatic</th>\n",
       "      <th>fuel_type_diesel</th>\n",
       "      <th>fuel_type_diesel_hybrid</th>\n",
       "      <th>fuel_type_electric</th>\n",
       "      <th>fuel_type_ethanol</th>\n",
       "      <th>fuel_type_hybrid</th>\n",
       "      <th>fuel_type_hydrogen</th>\n",
       "      <th>fuel_type_lpg</th>\n",
       "      <th>fuel_type_petrol</th>\n",
       "    </tr>\n",
       "  </thead>\n",
       "  <tbody>\n",
       "    <tr>\n",
       "      <th>0</th>\n",
       "      <td>ford_kuga</td>\n",
       "      <td>38490.0</td>\n",
       "      <td>140.0</td>\n",
       "      <td>124.0</td>\n",
       "      <td>3098.711538</td>\n",
       "      <td>74.611111</td>\n",
       "      <td>0</td>\n",
       "      <td>0</td>\n",
       "      <td>0.500000</td>\n",
       "      <td>-8.660254e-01</td>\n",
       "      <td>...</td>\n",
       "      <td>0</td>\n",
       "      <td>0</td>\n",
       "      <td>0</td>\n",
       "      <td>0</td>\n",
       "      <td>0</td>\n",
       "      <td>0</td>\n",
       "      <td>1</td>\n",
       "      <td>0</td>\n",
       "      <td>0</td>\n",
       "      <td>0</td>\n",
       "    </tr>\n",
       "    <tr>\n",
       "      <th>1</th>\n",
       "      <td>hyundai_i10</td>\n",
       "      <td>11555.0</td>\n",
       "      <td>49.0</td>\n",
       "      <td>106.0</td>\n",
       "      <td>27782.000000</td>\n",
       "      <td>0.000000</td>\n",
       "      <td>5</td>\n",
       "      <td>5</td>\n",
       "      <td>-1.000000</td>\n",
       "      <td>-1.836970e-16</td>\n",
       "      <td>...</td>\n",
       "      <td>1</td>\n",
       "      <td>0</td>\n",
       "      <td>0</td>\n",
       "      <td>0</td>\n",
       "      <td>0</td>\n",
       "      <td>0</td>\n",
       "      <td>0</td>\n",
       "      <td>0</td>\n",
       "      <td>0</td>\n",
       "      <td>1</td>\n",
       "    </tr>\n",
       "    <tr>\n",
       "      <th>2</th>\n",
       "      <td>audi_q4-e-tron</td>\n",
       "      <td>48886.0</td>\n",
       "      <td>125.0</td>\n",
       "      <td>0.0</td>\n",
       "      <td>4247.000000</td>\n",
       "      <td>402.687500</td>\n",
       "      <td>2</td>\n",
       "      <td>2</td>\n",
       "      <td>0.500000</td>\n",
       "      <td>-8.660254e-01</td>\n",
       "      <td>...</td>\n",
       "      <td>0</td>\n",
       "      <td>0</td>\n",
       "      <td>0</td>\n",
       "      <td>0</td>\n",
       "      <td>1</td>\n",
       "      <td>0</td>\n",
       "      <td>0</td>\n",
       "      <td>0</td>\n",
       "      <td>0</td>\n",
       "      <td>0</td>\n",
       "    </tr>\n",
       "    <tr>\n",
       "      <th>3</th>\n",
       "      <td>honda_cr-v</td>\n",
       "      <td>24490.0</td>\n",
       "      <td>114.0</td>\n",
       "      <td>175.0</td>\n",
       "      <td>57000.000000</td>\n",
       "      <td>0.000000</td>\n",
       "      <td>5</td>\n",
       "      <td>5</td>\n",
       "      <td>-0.500000</td>\n",
       "      <td>-8.660254e-01</td>\n",
       "      <td>...</td>\n",
       "      <td>0</td>\n",
       "      <td>0</td>\n",
       "      <td>0</td>\n",
       "      <td>0</td>\n",
       "      <td>0</td>\n",
       "      <td>0</td>\n",
       "      <td>0</td>\n",
       "      <td>0</td>\n",
       "      <td>0</td>\n",
       "      <td>1</td>\n",
       "    </tr>\n",
       "    <tr>\n",
       "      <th>4</th>\n",
       "      <td>kia_sportage</td>\n",
       "      <td>34990.0</td>\n",
       "      <td>110.0</td>\n",
       "      <td>150.0</td>\n",
       "      <td>7500.000000</td>\n",
       "      <td>0.000000</td>\n",
       "      <td>0</td>\n",
       "      <td>0</td>\n",
       "      <td>0.866025</td>\n",
       "      <td>5.000000e-01</td>\n",
       "      <td>...</td>\n",
       "      <td>1</td>\n",
       "      <td>0</td>\n",
       "      <td>0</td>\n",
       "      <td>0</td>\n",
       "      <td>0</td>\n",
       "      <td>0</td>\n",
       "      <td>0</td>\n",
       "      <td>0</td>\n",
       "      <td>0</td>\n",
       "      <td>1</td>\n",
       "    </tr>\n",
       "  </tbody>\n",
       "</table>\n",
       "<p>5 rows × 62 columns</p>\n",
       "</div>"
      ],
      "text/plain": [
       "            model  price_in_euro  power_kw  fuel_consumption_g_km  \\\n",
       "0       ford_kuga        38490.0     140.0                  124.0   \n",
       "1     hyundai_i10        11555.0      49.0                  106.0   \n",
       "2  audi_q4-e-tron        48886.0     125.0                    0.0   \n",
       "3      honda_cr-v        24490.0     114.0                  175.0   \n",
       "4    kia_sportage        34990.0     110.0                  150.0   \n",
       "\n",
       "   mileage_in_km  ev_range_km  vehicle_manufacturing_age  \\\n",
       "0    3098.711538    74.611111                          0   \n",
       "1   27782.000000     0.000000                          5   \n",
       "2    4247.000000   402.687500                          2   \n",
       "3   57000.000000     0.000000                          5   \n",
       "4    7500.000000     0.000000                          0   \n",
       "\n",
       "   vehicle_registration_age  reg_month_sin  reg_month_cos  ...  \\\n",
       "0                         0       0.500000  -8.660254e-01  ...   \n",
       "1                         5      -1.000000  -1.836970e-16  ...   \n",
       "2                         2       0.500000  -8.660254e-01  ...   \n",
       "3                         5      -0.500000  -8.660254e-01  ...   \n",
       "4                         0       0.866025   5.000000e-01  ...   \n",
       "\n",
       "   transmission_type_manual  transmission_type_semi-automatic  \\\n",
       "0                         0                                 0   \n",
       "1                         1                                 0   \n",
       "2                         0                                 0   \n",
       "3                         0                                 0   \n",
       "4                         1                                 0   \n",
       "\n",
       "   fuel_type_diesel  fuel_type_diesel_hybrid  fuel_type_electric  \\\n",
       "0                 0                        0                   0   \n",
       "1                 0                        0                   0   \n",
       "2                 0                        0                   1   \n",
       "3                 0                        0                   0   \n",
       "4                 0                        0                   0   \n",
       "\n",
       "   fuel_type_ethanol  fuel_type_hybrid  fuel_type_hydrogen  fuel_type_lpg  \\\n",
       "0                  0                 1                   0              0   \n",
       "1                  0                 0                   0              0   \n",
       "2                  0                 0                   0              0   \n",
       "3                  0                 0                   0              0   \n",
       "4                  0                 0                   0              0   \n",
       "\n",
       "   fuel_type_petrol  \n",
       "0                 0  \n",
       "1                 1  \n",
       "2                 0  \n",
       "3                 1  \n",
       "4                 1  \n",
       "\n",
       "[5 rows x 62 columns]"
      ]
     },
     "execution_count": 163,
     "metadata": {},
     "output_type": "execute_result"
    }
   ],
   "source": [
    "df_clean2 = pd.get_dummies(df_clean , columns = cat_cols , drop_first= True , dtype = int)\n",
    "df_clean2.head()"
   ]
  },
  {
   "cell_type": "code",
   "execution_count": 164,
   "id": "d385e878-bc8b-49e6-8638-ca142ceae305",
   "metadata": {},
   "outputs": [
    {
     "name": "stdout",
     "output_type": "stream",
     "text": [
      "Index(['model', 'price_in_euro', 'power_kw', 'fuel_consumption_g_km',\n",
      "       'mileage_in_km', 'ev_range_km', 'vehicle_manufacturing_age',\n",
      "       'vehicle_registration_age', 'reg_month_sin', 'reg_month_cos',\n",
      "       'mileage_per_year', 'brand_aston-martin', 'brand_audi', 'brand_bentley',\n",
      "       'brand_bmw', 'brand_cadillac', 'brand_chevrolet', 'brand_chrysler',\n",
      "       'brand_citroen', 'brand_dacia', 'brand_daewoo', 'brand_daihatsu',\n",
      "       'brand_dodge', 'brand_ferrari', 'brand_fiat', 'brand_ford',\n",
      "       'brand_honda', 'brand_hyundai', 'brand_infiniti', 'brand_isuzu',\n",
      "       'brand_jaguar', 'brand_jeep', 'brand_kia', 'brand_lada',\n",
      "       'brand_lamborghini', 'brand_lancia', 'brand_land-rover',\n",
      "       'brand_maserati', 'brand_mazda', 'color_black', 'color_blue',\n",
      "       'color_bronze', 'color_brown', 'color_gold', 'color_green',\n",
      "       'color_grey', 'color_orange', 'color_red', 'color_silver',\n",
      "       'color_violet', 'color_white', 'color_yellow',\n",
      "       'transmission_type_manual', 'transmission_type_semi-automatic',\n",
      "       'fuel_type_diesel', 'fuel_type_diesel_hybrid', 'fuel_type_electric',\n",
      "       'fuel_type_ethanol', 'fuel_type_hybrid', 'fuel_type_hydrogen',\n",
      "       'fuel_type_lpg', 'fuel_type_petrol'],\n",
      "      dtype='object')\n"
     ]
    }
   ],
   "source": [
    "print(df_clean2.columns)"
   ]
  },
  {
   "cell_type": "code",
   "execution_count": 165,
   "id": "571a6783-23f2-420f-859d-392957fe3daa",
   "metadata": {},
   "outputs": [
    {
     "data": {
      "text/html": [
       "<div>\n",
       "<style scoped>\n",
       "    .dataframe tbody tr th:only-of-type {\n",
       "        vertical-align: middle;\n",
       "    }\n",
       "\n",
       "    .dataframe tbody tr th {\n",
       "        vertical-align: top;\n",
       "    }\n",
       "\n",
       "    .dataframe thead th {\n",
       "        text-align: right;\n",
       "    }\n",
       "</style>\n",
       "<table border=\"1\" class=\"dataframe\">\n",
       "  <thead>\n",
       "    <tr style=\"text-align: right;\">\n",
       "      <th></th>\n",
       "      <th>model</th>\n",
       "      <th>price_in_euro</th>\n",
       "      <th>power_kw</th>\n",
       "      <th>fuel_consumption_g_km</th>\n",
       "      <th>mileage_in_km</th>\n",
       "      <th>ev_range_km</th>\n",
       "      <th>vehicle_manufacturing_age</th>\n",
       "      <th>vehicle_registration_age</th>\n",
       "      <th>reg_month_sin</th>\n",
       "      <th>reg_month_cos</th>\n",
       "      <th>...</th>\n",
       "      <th>transmission_type_manual</th>\n",
       "      <th>transmission_type_semi-automatic</th>\n",
       "      <th>fuel_type_diesel</th>\n",
       "      <th>fuel_type_diesel_hybrid</th>\n",
       "      <th>fuel_type_electric</th>\n",
       "      <th>fuel_type_ethanol</th>\n",
       "      <th>fuel_type_hybrid</th>\n",
       "      <th>fuel_type_hydrogen</th>\n",
       "      <th>fuel_type_lpg</th>\n",
       "      <th>fuel_type_petrol</th>\n",
       "    </tr>\n",
       "  </thead>\n",
       "  <tbody>\n",
       "    <tr>\n",
       "      <th>0</th>\n",
       "      <td>ford_kuga</td>\n",
       "      <td>38490.0</td>\n",
       "      <td>140.0</td>\n",
       "      <td>124.0</td>\n",
       "      <td>3098.711538</td>\n",
       "      <td>74.611111</td>\n",
       "      <td>0</td>\n",
       "      <td>0</td>\n",
       "      <td>0.500000</td>\n",
       "      <td>-8.660254e-01</td>\n",
       "      <td>...</td>\n",
       "      <td>0</td>\n",
       "      <td>0</td>\n",
       "      <td>0</td>\n",
       "      <td>0</td>\n",
       "      <td>0</td>\n",
       "      <td>0</td>\n",
       "      <td>1</td>\n",
       "      <td>0</td>\n",
       "      <td>0</td>\n",
       "      <td>0</td>\n",
       "    </tr>\n",
       "    <tr>\n",
       "      <th>1</th>\n",
       "      <td>hyundai_i10</td>\n",
       "      <td>11555.0</td>\n",
       "      <td>49.0</td>\n",
       "      <td>106.0</td>\n",
       "      <td>27782.000000</td>\n",
       "      <td>0.000000</td>\n",
       "      <td>5</td>\n",
       "      <td>5</td>\n",
       "      <td>-1.000000</td>\n",
       "      <td>-1.836970e-16</td>\n",
       "      <td>...</td>\n",
       "      <td>1</td>\n",
       "      <td>0</td>\n",
       "      <td>0</td>\n",
       "      <td>0</td>\n",
       "      <td>0</td>\n",
       "      <td>0</td>\n",
       "      <td>0</td>\n",
       "      <td>0</td>\n",
       "      <td>0</td>\n",
       "      <td>1</td>\n",
       "    </tr>\n",
       "    <tr>\n",
       "      <th>2</th>\n",
       "      <td>audi_q4-e-tron</td>\n",
       "      <td>48886.0</td>\n",
       "      <td>125.0</td>\n",
       "      <td>0.0</td>\n",
       "      <td>4247.000000</td>\n",
       "      <td>402.687500</td>\n",
       "      <td>2</td>\n",
       "      <td>2</td>\n",
       "      <td>0.500000</td>\n",
       "      <td>-8.660254e-01</td>\n",
       "      <td>...</td>\n",
       "      <td>0</td>\n",
       "      <td>0</td>\n",
       "      <td>0</td>\n",
       "      <td>0</td>\n",
       "      <td>1</td>\n",
       "      <td>0</td>\n",
       "      <td>0</td>\n",
       "      <td>0</td>\n",
       "      <td>0</td>\n",
       "      <td>0</td>\n",
       "    </tr>\n",
       "    <tr>\n",
       "      <th>3</th>\n",
       "      <td>honda_cr-v</td>\n",
       "      <td>24490.0</td>\n",
       "      <td>114.0</td>\n",
       "      <td>175.0</td>\n",
       "      <td>57000.000000</td>\n",
       "      <td>0.000000</td>\n",
       "      <td>5</td>\n",
       "      <td>5</td>\n",
       "      <td>-0.500000</td>\n",
       "      <td>-8.660254e-01</td>\n",
       "      <td>...</td>\n",
       "      <td>0</td>\n",
       "      <td>0</td>\n",
       "      <td>0</td>\n",
       "      <td>0</td>\n",
       "      <td>0</td>\n",
       "      <td>0</td>\n",
       "      <td>0</td>\n",
       "      <td>0</td>\n",
       "      <td>0</td>\n",
       "      <td>1</td>\n",
       "    </tr>\n",
       "    <tr>\n",
       "      <th>4</th>\n",
       "      <td>kia_sportage</td>\n",
       "      <td>34990.0</td>\n",
       "      <td>110.0</td>\n",
       "      <td>150.0</td>\n",
       "      <td>7500.000000</td>\n",
       "      <td>0.000000</td>\n",
       "      <td>0</td>\n",
       "      <td>0</td>\n",
       "      <td>0.866025</td>\n",
       "      <td>5.000000e-01</td>\n",
       "      <td>...</td>\n",
       "      <td>1</td>\n",
       "      <td>0</td>\n",
       "      <td>0</td>\n",
       "      <td>0</td>\n",
       "      <td>0</td>\n",
       "      <td>0</td>\n",
       "      <td>0</td>\n",
       "      <td>0</td>\n",
       "      <td>0</td>\n",
       "      <td>1</td>\n",
       "    </tr>\n",
       "  </tbody>\n",
       "</table>\n",
       "<p>5 rows × 62 columns</p>\n",
       "</div>"
      ],
      "text/plain": [
       "            model  price_in_euro  power_kw  fuel_consumption_g_km  \\\n",
       "0       ford_kuga        38490.0     140.0                  124.0   \n",
       "1     hyundai_i10        11555.0      49.0                  106.0   \n",
       "2  audi_q4-e-tron        48886.0     125.0                    0.0   \n",
       "3      honda_cr-v        24490.0     114.0                  175.0   \n",
       "4    kia_sportage        34990.0     110.0                  150.0   \n",
       "\n",
       "   mileage_in_km  ev_range_km  vehicle_manufacturing_age  \\\n",
       "0    3098.711538    74.611111                          0   \n",
       "1   27782.000000     0.000000                          5   \n",
       "2    4247.000000   402.687500                          2   \n",
       "3   57000.000000     0.000000                          5   \n",
       "4    7500.000000     0.000000                          0   \n",
       "\n",
       "   vehicle_registration_age  reg_month_sin  reg_month_cos  ...  \\\n",
       "0                         0       0.500000  -8.660254e-01  ...   \n",
       "1                         5      -1.000000  -1.836970e-16  ...   \n",
       "2                         2       0.500000  -8.660254e-01  ...   \n",
       "3                         5      -0.500000  -8.660254e-01  ...   \n",
       "4                         0       0.866025   5.000000e-01  ...   \n",
       "\n",
       "   transmission_type_manual  transmission_type_semi-automatic  \\\n",
       "0                         0                                 0   \n",
       "1                         1                                 0   \n",
       "2                         0                                 0   \n",
       "3                         0                                 0   \n",
       "4                         1                                 0   \n",
       "\n",
       "   fuel_type_diesel  fuel_type_diesel_hybrid  fuel_type_electric  \\\n",
       "0                 0                        0                   0   \n",
       "1                 0                        0                   0   \n",
       "2                 0                        0                   1   \n",
       "3                 0                        0                   0   \n",
       "4                 0                        0                   0   \n",
       "\n",
       "   fuel_type_ethanol  fuel_type_hybrid  fuel_type_hydrogen  fuel_type_lpg  \\\n",
       "0                  0                 1                   0              0   \n",
       "1                  0                 0                   0              0   \n",
       "2                  0                 0                   0              0   \n",
       "3                  0                 0                   0              0   \n",
       "4                  0                 0                   0              0   \n",
       "\n",
       "   fuel_type_petrol  \n",
       "0                 0  \n",
       "1                 1  \n",
       "2                 0  \n",
       "3                 1  \n",
       "4                 1  \n",
       "\n",
       "[5 rows x 62 columns]"
      ]
     },
     "execution_count": 165,
     "metadata": {},
     "output_type": "execute_result"
    }
   ],
   "source": [
    "df_clean2.head()"
   ]
  },
  {
   "cell_type": "code",
   "execution_count": 166,
   "id": "67f6fb48-9e60-42f7-b328-121927366a98",
   "metadata": {},
   "outputs": [
    {
     "data": {
      "image/png": "[encoded data removed]",
      "text/plain": [
       "<Figure size 1200x500 with 2 Axes>"
      ]
     },
     "metadata": {},
     "output_type": "display_data"
    },
    {
     "data": {
      "image/png": "[encoded data removed]",
      "text/plain": [
       "<Figure size 1200x500 with 2 Axes>"
      ]
     },
     "metadata": {},
     "output_type": "display_data"
    },
    {
     "data": {
      "image/png": "[encoded data removed]",
      "text/plain": [
       "<Figure size 1200x500 with 2 Axes>"
      ]
     },
     "metadata": {},
     "output_type": "display_data"
    },
    {
     "data": {
      "image/png": "[encoded data removed]",
      "text/plain": [
       "<Figure size 1200x500 with 2 Axes>"
      ]
     },
     "metadata": {},
     "output_type": "display_data"
    },
    {
     "data": {
      "image/png": "[encoded data removed]",
      "text/plain": [
       "<Figure size 1200x500 with 2 Axes>"
      ]
     },
     "metadata": {},
     "output_type": "display_data"
    },
    {
     "data": {
      "image/png": "[encoded data removed]",
      "text/plain": [
       "<Figure size 1200x500 with 2 Axes>"
      ]
     },
     "metadata": {},
     "output_type": "display_data"
    }
   ],
   "source": [
    "\n",
    "# Columns to test\n",
    "cols_to_check = [\"mileage_in_km\",\"mileage_per_year\",\"power_kw\",\"fuel_consumption_g_km\",\"vehicle_manufacturing_age\",\"ev_range_km\"]\n",
    "\n",
    "for col in cols_to_check:\n",
    "    fig, axes = plt.subplots(1, 2, figsize=(12, 5))\n",
    "\n",
    "    # Original distribution\n",
    "    sns.histplot(df_clean[col].dropna(), bins=100, kde=True, ax=axes[0])\n",
    "    axes[0].set_title(f\"Original Distribution of {col}\")\n",
    "    axes[0].set_xlim(0, df_clean[col].quantile(0.99))  # zoom in (ignore extreme outliers)\n",
    "\n",
    "    # Log-transformed distribution (without modifying df_clean)\n",
    "    sns.histplot(np.log1p(df_clean[col].dropna()), bins=100, kde=True, ax=axes[1], color=\"orange\")\n",
    "    axes[1].set_title(f\"Log-Transformed Distribution of {col}\")\n",
    "\n",
    "    plt.tight_layout()\n",
    "    plt.show()\n"
   ]
  },
  {
   "cell_type": "code",
   "execution_count": 167,
   "id": "05669490-d14e-4b89-9ca4-8bb3dddb3de0",
   "metadata": {},
   "outputs": [],
   "source": [
    "X = df_clean2.drop(\"price_in_euro\", axis=1)\n",
    "y = df_clean2[\"price_in_euro\"]\n",
    "\n",
    "X_train, X_test, y_train, y_test = train_test_split(X, y, test_size=0.2, random_state=42)"
   ]
  },
  {
   "cell_type": "code",
   "execution_count": 168,
   "id": "604c7f99-58e4-4692-9bdf-2b847821245e",
   "metadata": {},
   "outputs": [
    {
     "data": {
      "text/plain": [
       "(79460, 61)"
      ]
     },
     "execution_count": 168,
     "metadata": {},
     "output_type": "execute_result"
    }
   ],
   "source": [
    "X_train.shape"
   ]
  },
  {
   "cell_type": "markdown",
   "id": "70509878-5d86-43fb-a99e-12da3490bd29",
   "metadata": {},
   "source": [
    "from sklearn.model_selection import KFold\n",
    "import numpy as np\n",
    "\n",
    "# Reset index so that kfold indices align with loc\n",
    "X_train = X_train.reset_index(drop=True)\n",
    "X_test = X_test.reset_index(drop=True)\n",
    "\n",
    "X_train[\"model_target_enc\"] = np.nan\n",
    "\n",
    "kf = KFold(n_splits=5, shuffle=True, random_state=42)\n",
    "\n",
    "for train_idx, val_idx in kf.split(X_train):\n",
    "    train, val = X_train.iloc[train_idx], X_train.iloc[val_idx]\n",
    "    mapping = train.join(y_train.iloc[train_idx]).groupby(\"model\")[\"price_in_euro\"].mean()\n",
    "    \n",
    "    # use iloc for assignment\n",
    "    X_train.loc[val_idx, \"model_target_enc\"] = val[\"model\"].map(mapping)\n",
    "\n",
    "model_target_mapping = (\n",
    "    X_train.join(y_train)\n",
    "    .groupby(\"model\")[\"model_target_enc\"]\n",
    "    .mean()\n",
    "    .reset_index()   # keep 'model' as a column\n",
    ")\n",
    "\n",
    "# Global mean for unseen models\n",
    "global_mean = y_train.mean()\n",
    "\n",
    "# Fill NaNs in train encoding\n",
    "X_train[\"model_target_enc\"].fillna(global_mean, inplace=True)\n",
    "\n",
    "# Transform test set using train mapping\n",
    "mapping = X_train.join(y_train).groupby(\"model\")[\"model_target_enc\"].mean()\n",
    "X_test[\"model_target_enc\"] = X_test[\"model\"].map(mapping)\n",
    "X_test[\"model_target_enc\"].fillna(global_mean, inplace=True)\n",
    "\n",
    "# Drop raw model col\n",
    "X_train = X_train.drop(columns=[\"model\"])\n",
    "X_test = X_test.drop(columns=[\"model\"])\n"
   ]
  },
  {
   "cell_type": "code",
   "execution_count": 169,
   "id": "4ef200a0-6e34-4ea2-9986-23901b3c5445",
   "metadata": {},
   "outputs": [],
   "source": [
    "from sklearn.model_selection import KFold\n",
    "import numpy as np\n",
    "\n",
    "# Reset index so that kfold indices align with loc\n",
    "X_train = X_train.reset_index(drop=True)\n",
    "X_test = X_test.reset_index(drop=True)\n",
    "\n",
    "# Add placeholder for encoded values\n",
    "X_train[\"model_target_enc\"] = np.nan\n",
    "\n",
    "# KFold target encoding\n",
    "kf = KFold(n_splits=5, shuffle=True, random_state=42)\n",
    "\n",
    "for train_idx, val_idx in kf.split(X_train):\n",
    "    train, val = X_train.iloc[train_idx], X_train.iloc[val_idx]\n",
    "    mapping = (\n",
    "        train.join(y_train.iloc[train_idx])\n",
    "        .groupby(\"model\")[\"price_in_euro\"]\n",
    "        .mean()\n",
    "    )\n",
    "    X_train.loc[val_idx, \"model_target_enc\"] = val[\"model\"].map(mapping)\n",
    "\n",
    "# Create model_target_mapping dataframe\n",
    "model_target_mapping = (\n",
    "    X_train.join(y_train)\n",
    "    .groupby(\"model\")[\"model_target_enc\"]\n",
    "    .mean()\n",
    "    .reset_index()\n",
    ")\n",
    "\n",
    "# ---- Split brand and model ONLY in model_target_mapping ----\n",
    "model_target_mapping[[\"brand\", \"model\"]] = model_target_mapping[\"model\"].str.split(\"_\", n=1, expand=True)\n",
    "\n",
    "# Reorder columns for clarity\n",
    "model_target_mapping = model_target_mapping[[\"brand\", \"model\", \"model_target_enc\"]]\n",
    "\n",
    "# Global mean for unseen models\n",
    "global_mean = y_train.mean()\n",
    "\n",
    "# Fill NaNs in train encoding\n",
    "X_train[\"model_target_enc\"].fillna(global_mean, inplace=True)\n",
    "\n",
    "# Transform test set using train mapping\n",
    "mapping = (\n",
    "    X_train.join(y_train)\n",
    "    .groupby(\"model\")[\"model_target_enc\"]\n",
    "    .mean()\n",
    ")\n",
    "X_test[\"model_target_enc\"] = X_test[\"model\"].map(mapping)\n",
    "X_test[\"model_target_enc\"].fillna(global_mean, inplace=True)\n",
    "\n",
    "# Drop raw model col from train/test (keep only encoded version)\n",
    "X_train = X_train.drop(columns=[\"model\"])\n",
    "X_test = X_test.drop(columns=[\"model\"])\n"
   ]
  },
  {
   "cell_type": "code",
   "execution_count": 170,
   "id": "c9fa7e4c-6b41-4af3-8f28-58b8f7e4c06b",
   "metadata": {},
   "outputs": [
    {
     "data": {
      "text/plain": [
       "(79460, 61)"
      ]
     },
     "execution_count": 170,
     "metadata": {},
     "output_type": "execute_result"
    }
   ],
   "source": [
    "X_train.shape"
   ]
  },
  {
   "cell_type": "code",
   "execution_count": 171,
   "id": "60bfa903-ce51-4900-8120-e75e051d3ad0",
   "metadata": {},
   "outputs": [],
   "source": [
    "log_scale_cols = [\"power_kw\",\"fuel_consumption_g_km\",\"mileage_in_km\"]\n",
    "direct_scale_cols =[\"ev_range_km\",\"vehicle_manufacturing_age\",\"vehicle_registration_age\"]\n",
    "passthrough_cols = [\"reg_month_sin\", \"reg_month_cos\", \"model_target_enc\"]"
   ]
  },
  {
   "cell_type": "code",
   "execution_count": 172,
   "id": "fabd7dc7-0a56-4fcb-8a0b-650e7019071f",
   "metadata": {},
   "outputs": [
    {
     "name": "stdout",
     "output_type": "stream",
     "text": [
      "Not Scaled Columns (OHE + passthrough):\n",
      "['reg_month_sin', 'reg_month_cos', 'mileage_per_year', 'brand_aston-martin', 'brand_audi', 'brand_bentley', 'brand_bmw', 'brand_cadillac', 'brand_chevrolet', 'brand_chrysler', 'brand_citroen', 'brand_dacia', 'brand_daewoo', 'brand_daihatsu', 'brand_dodge', 'brand_ferrari', 'brand_fiat', 'brand_ford', 'brand_honda', 'brand_hyundai', 'brand_infiniti', 'brand_isuzu', 'brand_jaguar', 'brand_jeep', 'brand_kia', 'brand_lada', 'brand_lamborghini', 'brand_lancia', 'brand_land-rover', 'brand_maserati', 'brand_mazda', 'color_black', 'color_blue', 'color_bronze', 'color_brown', 'color_gold', 'color_green', 'color_grey', 'color_orange', 'color_red', 'color_silver', 'color_violet', 'color_white', 'color_yellow', 'transmission_type_manual', 'transmission_type_semi-automatic', 'fuel_type_diesel', 'fuel_type_diesel_hybrid', 'fuel_type_electric', 'fuel_type_ethanol', 'fuel_type_hybrid', 'fuel_type_hydrogen', 'fuel_type_lpg', 'fuel_type_petrol', 'model_target_enc']\n",
      "Count: 55\n"
     ]
    }
   ],
   "source": [
    "# All columns in training set (before scaling)\n",
    "all_cols = X_train.columns.tolist()\n",
    "\n",
    "# Combine scaled columns\n",
    "scaled_cols = log_scale_cols + direct_scale_cols\n",
    "\n",
    "# Get the rest = one-hot encoded categorical + passthrough features\n",
    "not_scale_cols = [col for col in all_cols if col not in scaled_cols and col != \"price_in_euro\"]\n",
    "\n",
    "print(\"Not Scaled Columns (OHE + passthrough):\")\n",
    "print(not_scale_cols)\n",
    "print(\"Count:\", len(not_scale_cols))\n"
   ]
  },
  {
   "cell_type": "code",
   "execution_count": 173,
   "id": "05720630-cebf-491b-a22f-dc2ec34ed12f",
   "metadata": {},
   "outputs": [
    {
     "data": {
      "text/html": [
       "<style>#sk-container-id-1 {\n",
       "  /* Definition of color scheme common for light and dark mode */\n",
       "  --sklearn-color-text: black;\n",
       "  --sklearn-color-line: gray;\n",
       "  /* Definition of color scheme for unfitted estimators */\n",
       "  --sklearn-color-unfitted-level-0: #fff5e6;\n",
       "  --sklearn-color-unfitted-level-1: #f6e4d2;\n",
       "  --sklearn-color-unfitted-level-2: #ffe0b3;\n",
       "  --sklearn-color-unfitted-level-3: chocolate;\n",
       "  /* Definition of color scheme for fitted estimators */\n",
       "  --sklearn-color-fitted-level-0: #f0f8ff;\n",
       "  --sklearn-color-fitted-level-1: #d4ebff;\n",
       "  --sklearn-color-fitted-level-2: #b3dbfd;\n",
       "  --sklearn-color-fitted-level-3: cornflowerblue;\n",
       "\n",
       "  /* Specific color for light theme */\n",
       "  --sklearn-color-text-on-default-background: var(--sg-text-color, var(--theme-code-foreground, var(--jp-content-font-color1, black)));\n",
       "  --sklearn-color-background: var(--sg-background-color, var(--theme-background, var(--jp-layout-color0, white)));\n",
       "  --sklearn-color-border-box: var(--sg-text-color, var(--theme-code-foreground, var(--jp-content-font-color1, black)));\n",
       "  --sklearn-color-icon: #696969;\n",
       "\n",
       "  @media (prefers-color-scheme: dark) {\n",
       "    /* Redefinition of color scheme for dark theme */\n",
       "    --sklearn-color-text-on-default-background: var(--sg-text-color, var(--theme-code-foreground, var(--jp-content-font-color1, white)));\n",
       "    --sklearn-color-background: var(--sg-background-color, var(--theme-background, var(--jp-layout-color0, #111)));\n",
       "    --sklearn-color-border-box: var(--sg-text-color, var(--theme-code-foreground, var(--jp-content-font-color1, white)));\n",
       "    --sklearn-color-icon: #878787;\n",
       "  }\n",
       "}\n",
       "\n",
       "#sk-container-id-1 {\n",
       "  color: var(--sklearn-color-text);\n",
       "}\n",
       "\n",
       "#sk-container-id-1 pre {\n",
       "  padding: 0;\n",
       "}\n",
       "\n",
       "#sk-container-id-1 input.sk-hidden--visually {\n",
       "  border: 0;\n",
       "  clip: rect(1px 1px 1px 1px);\n",
       "  clip: rect(1px, 1px, 1px, 1px);\n",
       "  height: 1px;\n",
       "  margin: -1px;\n",
       "  overflow: hidden;\n",
       "  padding: 0;\n",
       "  position: absolute;\n",
       "  width: 1px;\n",
       "}\n",
       "\n",
       "#sk-container-id-1 div.sk-dashed-wrapped {\n",
       "  border: 1px dashed var(--sklearn-color-line);\n",
       "  margin: 0 0.4em 0.5em 0.4em;\n",
       "  box-sizing: border-box;\n",
       "  padding-bottom: 0.4em;\n",
       "  background-color: var(--sklearn-color-background);\n",
       "}\n",
       "\n",
       "#sk-container-id-1 div.sk-container {\n",
       "  /* jupyter's `normalize.less` sets `[hidden] { display: none; }`\n",
       "     but bootstrap.min.css set `[hidden] { display: none !important; }`\n",
       "     so we also need the `!important` here to be able to override the\n",
       "     default hidden behavior on the sphinx rendered scikit-learn.org.\n",
       "     See: https://github.com/scikit-learn/scikit-learn/issues/21755 */\n",
       "  display: inline-block !important;\n",
       "  position: relative;\n",
       "}\n",
       "\n",
       "#sk-container-id-1 div.sk-text-repr-fallback {\n",
       "  display: none;\n",
       "}\n",
       "\n",
       "div.sk-parallel-item,\n",
       "div.sk-serial,\n",
       "div.sk-item {\n",
       "  /* draw centered vertical line to link estimators */\n",
       "  background-image: linear-gradient(var(--sklearn-color-text-on-default-background), var(--sklearn-color-text-on-default-background));\n",
       "  background-size: 2px 100%;\n",
       "  background-repeat: no-repeat;\n",
       "  background-position: center center;\n",
       "}\n",
       "\n",
       "/* Parallel-specific style estimator block */\n",
       "\n",
       "#sk-container-id-1 div.sk-parallel-item::after {\n",
       "  content: \"\";\n",
       "  width: 100%;\n",
       "  border-bottom: 2px solid var(--sklearn-color-text-on-default-background);\n",
       "  flex-grow: 1;\n",
       "}\n",
       "\n",
       "#sk-container-id-1 div.sk-parallel {\n",
       "  display: flex;\n",
       "  align-items: stretch;\n",
       "  justify-content: center;\n",
       "  background-color: var(--sklearn-color-background);\n",
       "  position: relative;\n",
       "}\n",
       "\n",
       "#sk-container-id-1 div.sk-parallel-item {\n",
       "  display: flex;\n",
       "  flex-direction: column;\n",
       "}\n",
       "\n",
       "#sk-container-id-1 div.sk-parallel-item:first-child::after {\n",
       "  align-self: flex-end;\n",
       "  width: 50%;\n",
       "}\n",
       "\n",
       "#sk-container-id-1 div.sk-parallel-item:last-child::after {\n",
       "  align-self: flex-start;\n",
       "  width: 50%;\n",
       "}\n",
       "\n",
       "#sk-container-id-1 div.sk-parallel-item:only-child::after {\n",
       "  width: 0;\n",
       "}\n",
       "\n",
       "/* Serial-specific style estimator block */\n",
       "\n",
       "#sk-container-id-1 div.sk-serial {\n",
       "  display: flex;\n",
       "  flex-direction: column;\n",
       "  align-items: center;\n",
       "  background-color: var(--sklearn-color-background);\n",
       "  padding-right: 1em;\n",
       "  padding-left: 1em;\n",
       "}\n",
       "\n",
       "\n",
       "/* Toggleable style: style used for estimator/Pipeline/ColumnTransformer box that is\n",
       "clickable and can be expanded/collapsed.\n",
       "- Pipeline and ColumnTransformer use this feature and define the default style\n",
       "- Estimators will overwrite some part of the style using the `sk-estimator` class\n",
       "*/\n",
       "\n",
       "/* Pipeline and ColumnTransformer style (default) */\n",
       "\n",
       "#sk-container-id-1 div.sk-toggleable {\n",
       "  /* Default theme specific background. It is overwritten whether we have a\n",
       "  specific estimator or a Pipeline/ColumnTransformer */\n",
       "  background-color: var(--sklearn-color-background);\n",
       "}\n",
       "\n",
       "/* Toggleable label */\n",
       "#sk-container-id-1 label.sk-toggleable__label {\n",
       "  cursor: pointer;\n",
       "  display: block;\n",
       "  width: 100%;\n",
       "  margin-bottom: 0;\n",
       "  padding: 0.5em;\n",
       "  box-sizing: border-box;\n",
       "  text-align: center;\n",
       "}\n",
       "\n",
       "#sk-container-id-1 label.sk-toggleable__label-arrow:before {\n",
       "  /* Arrow on the left of the label */\n",
       "  content: \"▸\";\n",
       "  float: left;\n",
       "  margin-right: 0.25em;\n",
       "  color: var(--sklearn-color-icon);\n",
       "}\n",
       "\n",
       "#sk-container-id-1 label.sk-toggleable__label-arrow:hover:before {\n",
       "  color: var(--sklearn-color-text);\n",
       "}\n",
       "\n",
       "/* Toggleable content - dropdown */\n",
       "\n",
       "#sk-container-id-1 div.sk-toggleable__content {\n",
       "  max-height: 0;\n",
       "  max-width: 0;\n",
       "  overflow: hidden;\n",
       "  text-align: left;\n",
       "  /* unfitted */\n",
       "  background-color: var(--sklearn-color-unfitted-level-0);\n",
       "}\n",
       "\n",
       "#sk-container-id-1 div.sk-toggleable__content.fitted {\n",
       "  /* fitted */\n",
       "  background-color: var(--sklearn-color-fitted-level-0);\n",
       "}\n",
       "\n",
       "#sk-container-id-1 div.sk-toggleable__content pre {\n",
       "  margin: 0.2em;\n",
       "  border-radius: 0.25em;\n",
       "  color: var(--sklearn-color-text);\n",
       "  /* unfitted */\n",
       "  background-color: var(--sklearn-color-unfitted-level-0);\n",
       "}\n",
       "\n",
       "#sk-container-id-1 div.sk-toggleable__content.fitted pre {\n",
       "  /* unfitted */\n",
       "  background-color: var(--sklearn-color-fitted-level-0);\n",
       "}\n",
       "\n",
       "#sk-container-id-1 input.sk-toggleable__control:checked~div.sk-toggleable__content {\n",
       "  /* Expand drop-down */\n",
       "  max-height: 200px;\n",
       "  max-width: 100%;\n",
       "  overflow: auto;\n",
       "}\n",
       "\n",
       "#sk-container-id-1 input.sk-toggleable__control:checked~label.sk-toggleable__label-arrow:before {\n",
       "  content: \"▾\";\n",
       "}\n",
       "\n",
       "/* Pipeline/ColumnTransformer-specific style */\n",
       "\n",
       "#sk-container-id-1 div.sk-label input.sk-toggleable__control:checked~label.sk-toggleable__label {\n",
       "  color: var(--sklearn-color-text);\n",
       "  background-color: var(--sklearn-color-unfitted-level-2);\n",
       "}\n",
       "\n",
       "#sk-container-id-1 div.sk-label.fitted input.sk-toggleable__control:checked~label.sk-toggleable__label {\n",
       "  background-color: var(--sklearn-color-fitted-level-2);\n",
       "}\n",
       "\n",
       "/* Estimator-specific style */\n",
       "\n",
       "/* Colorize estimator box */\n",
       "#sk-container-id-1 div.sk-estimator input.sk-toggleable__control:checked~label.sk-toggleable__label {\n",
       "  /* unfitted */\n",
       "  background-color: var(--sklearn-color-unfitted-level-2);\n",
       "}\n",
       "\n",
       "#sk-container-id-1 div.sk-estimator.fitted input.sk-toggleable__control:checked~label.sk-toggleable__label {\n",
       "  /* fitted */\n",
       "  background-color: var(--sklearn-color-fitted-level-2);\n",
       "}\n",
       "\n",
       "#sk-container-id-1 div.sk-label label.sk-toggleable__label,\n",
       "#sk-container-id-1 div.sk-label label {\n",
       "  /* The background is the default theme color */\n",
       "  color: var(--sklearn-color-text-on-default-background);\n",
       "}\n",
       "\n",
       "/* On hover, darken the color of the background */\n",
       "#sk-container-id-1 div.sk-label:hover label.sk-toggleable__label {\n",
       "  color: var(--sklearn-color-text);\n",
       "  background-color: var(--sklearn-color-unfitted-level-2);\n",
       "}\n",
       "\n",
       "/* Label box, darken color on hover, fitted */\n",
       "#sk-container-id-1 div.sk-label.fitted:hover label.sk-toggleable__label.fitted {\n",
       "  color: var(--sklearn-color-text);\n",
       "  background-color: var(--sklearn-color-fitted-level-2);\n",
       "}\n",
       "\n",
       "/* Estimator label */\n",
       "\n",
       "#sk-container-id-1 div.sk-label label {\n",
       "  font-family: monospace;\n",
       "  font-weight: bold;\n",
       "  display: inline-block;\n",
       "  line-height: 1.2em;\n",
       "}\n",
       "\n",
       "#sk-container-id-1 div.sk-label-container {\n",
       "  text-align: center;\n",
       "}\n",
       "\n",
       "/* Estimator-specific */\n",
       "#sk-container-id-1 div.sk-estimator {\n",
       "  font-family: monospace;\n",
       "  border: 1px dotted var(--sklearn-color-border-box);\n",
       "  border-radius: 0.25em;\n",
       "  box-sizing: border-box;\n",
       "  margin-bottom: 0.5em;\n",
       "  /* unfitted */\n",
       "  background-color: var(--sklearn-color-unfitted-level-0);\n",
       "}\n",
       "\n",
       "#sk-container-id-1 div.sk-estimator.fitted {\n",
       "  /* fitted */\n",
       "  background-color: var(--sklearn-color-fitted-level-0);\n",
       "}\n",
       "\n",
       "/* on hover */\n",
       "#sk-container-id-1 div.sk-estimator:hover {\n",
       "  /* unfitted */\n",
       "  background-color: var(--sklearn-color-unfitted-level-2);\n",
       "}\n",
       "\n",
       "#sk-container-id-1 div.sk-estimator.fitted:hover {\n",
       "  /* fitted */\n",
       "  background-color: var(--sklearn-color-fitted-level-2);\n",
       "}\n",
       "\n",
       "/* Specification for estimator info (e.g. \"i\" and \"?\") */\n",
       "\n",
       "/* Common style for \"i\" and \"?\" */\n",
       "\n",
       ".sk-estimator-doc-link,\n",
       "a:link.sk-estimator-doc-link,\n",
       "a:visited.sk-estimator-doc-link {\n",
       "  float: right;\n",
       "  font-size: smaller;\n",
       "  line-height: 1em;\n",
       "  font-family: monospace;\n",
       "  background-color: var(--sklearn-color-background);\n",
       "  border-radius: 1em;\n",
       "  height: 1em;\n",
       "  width: 1em;\n",
       "  text-decoration: none !important;\n",
       "  margin-left: 1ex;\n",
       "  /* unfitted */\n",
       "  border: var(--sklearn-color-unfitted-level-1) 1pt solid;\n",
       "  color: var(--sklearn-color-unfitted-level-1);\n",
       "}\n",
       "\n",
       ".sk-estimator-doc-link.fitted,\n",
       "a:link.sk-estimator-doc-link.fitted,\n",
       "a:visited.sk-estimator-doc-link.fitted {\n",
       "  /* fitted */\n",
       "  border: var(--sklearn-color-fitted-level-1) 1pt solid;\n",
       "  color: var(--sklearn-color-fitted-level-1);\n",
       "}\n",
       "\n",
       "/* On hover */\n",
       "div.sk-estimator:hover .sk-estimator-doc-link:hover,\n",
       ".sk-estimator-doc-link:hover,\n",
       "div.sk-label-container:hover .sk-estimator-doc-link:hover,\n",
       ".sk-estimator-doc-link:hover {\n",
       "  /* unfitted */\n",
       "  background-color: var(--sklearn-color-unfitted-level-3);\n",
       "  color: var(--sklearn-color-background);\n",
       "  text-decoration: none;\n",
       "}\n",
       "\n",
       "div.sk-estimator.fitted:hover .sk-estimator-doc-link.fitted:hover,\n",
       ".sk-estimator-doc-link.fitted:hover,\n",
       "div.sk-label-container:hover .sk-estimator-doc-link.fitted:hover,\n",
       ".sk-estimator-doc-link.fitted:hover {\n",
       "  /* fitted */\n",
       "  background-color: var(--sklearn-color-fitted-level-3);\n",
       "  color: var(--sklearn-color-background);\n",
       "  text-decoration: none;\n",
       "}\n",
       "\n",
       "/* Span, style for the box shown on hovering the info icon */\n",
       ".sk-estimator-doc-link span {\n",
       "  display: none;\n",
       "  z-index: 9999;\n",
       "  position: relative;\n",
       "  font-weight: normal;\n",
       "  right: .2ex;\n",
       "  padding: .5ex;\n",
       "  margin: .5ex;\n",
       "  width: min-content;\n",
       "  min-width: 20ex;\n",
       "  max-width: 50ex;\n",
       "  color: var(--sklearn-color-text);\n",
       "  box-shadow: 2pt 2pt 4pt #999;\n",
       "  /* unfitted */\n",
       "  background: var(--sklearn-color-unfitted-level-0);\n",
       "  border: .5pt solid var(--sklearn-color-unfitted-level-3);\n",
       "}\n",
       "\n",
       ".sk-estimator-doc-link.fitted span {\n",
       "  /* fitted */\n",
       "  background: var(--sklearn-color-fitted-level-0);\n",
       "  border: var(--sklearn-color-fitted-level-3);\n",
       "}\n",
       "\n",
       ".sk-estimator-doc-link:hover span {\n",
       "  display: block;\n",
       "}\n",
       "\n",
       "/* \"?\"-specific style due to the `<a>` HTML tag */\n",
       "\n",
       "#sk-container-id-1 a.estimator_doc_link {\n",
       "  float: right;\n",
       "  font-size: 1rem;\n",
       "  line-height: 1em;\n",
       "  font-family: monospace;\n",
       "  background-color: var(--sklearn-color-background);\n",
       "  border-radius: 1rem;\n",
       "  height: 1rem;\n",
       "  width: 1rem;\n",
       "  text-decoration: none;\n",
       "  /* unfitted */\n",
       "  color: var(--sklearn-color-unfitted-level-1);\n",
       "  border: var(--sklearn-color-unfitted-level-1) 1pt solid;\n",
       "}\n",
       "\n",
       "#sk-container-id-1 a.estimator_doc_link.fitted {\n",
       "  /* fitted */\n",
       "  border: var(--sklearn-color-fitted-level-1) 1pt solid;\n",
       "  color: var(--sklearn-color-fitted-level-1);\n",
       "}\n",
       "\n",
       "/* On hover */\n",
       "#sk-container-id-1 a.estimator_doc_link:hover {\n",
       "  /* unfitted */\n",
       "  background-color: var(--sklearn-color-unfitted-level-3);\n",
       "  color: var(--sklearn-color-background);\n",
       "  text-decoration: none;\n",
       "}\n",
       "\n",
       "#sk-container-id-1 a.estimator_doc_link.fitted:hover {\n",
       "  /* fitted */\n",
       "  background-color: var(--sklearn-color-fitted-level-3);\n",
       "}\n",
       "</style><div id=\"sk-container-id-1\" class=\"sk-top-container\"><div class=\"sk-text-repr-fallback\"><pre>ColumnTransformer(transformers=[(&#x27;log_scale&#x27;,\n",
       "                                 Pipeline(steps=[(&#x27;log&#x27;,\n",
       "                                                  FunctionTransformer(func=&lt;ufunc &#x27;log1p&#x27;&gt;)),\n",
       "                                                 (&#x27;scaler&#x27;, StandardScaler())]),\n",
       "                                 [&#x27;power_kw&#x27;, &#x27;fuel_consumption_g_km&#x27;,\n",
       "                                  &#x27;mileage_in_km&#x27;]),\n",
       "                                (&#x27;direct_scale&#x27;, StandardScaler(),\n",
       "                                 [&#x27;ev_range_km&#x27;, &#x27;vehicle_manufacturing_age&#x27;,\n",
       "                                  &#x27;vehicle_registration_age&#x27;]),\n",
       "                                (&#x27;passthrough&#x27;, &#x27;passthrough&#x27;,\n",
       "                                 [&#x27;reg_month_sin&#x27;, &#x27;reg_...\n",
       "                                  &#x27;brand_chrysler&#x27;, &#x27;brand_citroen&#x27;,\n",
       "                                  &#x27;brand_dacia&#x27;, &#x27;brand_daewoo&#x27;,\n",
       "                                  &#x27;brand_daihatsu&#x27;, &#x27;brand_dodge&#x27;,\n",
       "                                  &#x27;brand_ferrari&#x27;, &#x27;brand_fiat&#x27;, &#x27;brand_ford&#x27;,\n",
       "                                  &#x27;brand_honda&#x27;, &#x27;brand_hyundai&#x27;,\n",
       "                                  &#x27;brand_infiniti&#x27;, &#x27;brand_isuzu&#x27;,\n",
       "                                  &#x27;brand_jaguar&#x27;, &#x27;brand_jeep&#x27;, &#x27;brand_kia&#x27;,\n",
       "                                  &#x27;brand_lada&#x27;, &#x27;brand_lamborghini&#x27;,\n",
       "                                  &#x27;brand_lancia&#x27;, &#x27;brand_land-rover&#x27;,\n",
       "                                  &#x27;brand_maserati&#x27;, ...])],\n",
       "                  verbose_feature_names_out=False)</pre><b>In a Jupyter environment, please rerun this cell to show the HTML representation or trust the notebook. <br />On GitHub, the HTML representation is unable to render, please try loading this page with nbviewer.org.</b></div><div class=\"sk-container\" hidden><div class=\"sk-item sk-dashed-wrapped\"><div class=\"sk-label-container\"><div class=\"sk-label  sk-toggleable\"><input class=\"sk-toggleable__control sk-hidden--visually\" id=\"sk-estimator-id-1\" type=\"checkbox\" ><label for=\"sk-estimator-id-1\" class=\"sk-toggleable__label  sk-toggleable__label-arrow \">&nbsp;&nbsp;ColumnTransformer<a class=\"sk-estimator-doc-link \" rel=\"noreferrer\" target=\"_blank\" href=\"https://scikit-learn.org/1.5/modules/generated/sklearn.compose.ColumnTransformer.html\">?<span>Documentation for ColumnTransformer</span></a><span class=\"sk-estimator-doc-link \">i<span>Not fitted</span></span></label><div class=\"sk-toggleable__content \"><pre>ColumnTransformer(transformers=[(&#x27;log_scale&#x27;,\n",
       "                                 Pipeline(steps=[(&#x27;log&#x27;,\n",
       "                                                  FunctionTransformer(func=&lt;ufunc &#x27;log1p&#x27;&gt;)),\n",
       "                                                 (&#x27;scaler&#x27;, StandardScaler())]),\n",
       "                                 [&#x27;power_kw&#x27;, &#x27;fuel_consumption_g_km&#x27;,\n",
       "                                  &#x27;mileage_in_km&#x27;]),\n",
       "                                (&#x27;direct_scale&#x27;, StandardScaler(),\n",
       "                                 [&#x27;ev_range_km&#x27;, &#x27;vehicle_manufacturing_age&#x27;,\n",
       "                                  &#x27;vehicle_registration_age&#x27;]),\n",
       "                                (&#x27;passthrough&#x27;, &#x27;passthrough&#x27;,\n",
       "                                 [&#x27;reg_month_sin&#x27;, &#x27;reg_...\n",
       "                                  &#x27;brand_chrysler&#x27;, &#x27;brand_citroen&#x27;,\n",
       "                                  &#x27;brand_dacia&#x27;, &#x27;brand_daewoo&#x27;,\n",
       "                                  &#x27;brand_daihatsu&#x27;, &#x27;brand_dodge&#x27;,\n",
       "                                  &#x27;brand_ferrari&#x27;, &#x27;brand_fiat&#x27;, &#x27;brand_ford&#x27;,\n",
       "                                  &#x27;brand_honda&#x27;, &#x27;brand_hyundai&#x27;,\n",
       "                                  &#x27;brand_infiniti&#x27;, &#x27;brand_isuzu&#x27;,\n",
       "                                  &#x27;brand_jaguar&#x27;, &#x27;brand_jeep&#x27;, &#x27;brand_kia&#x27;,\n",
       "                                  &#x27;brand_lada&#x27;, &#x27;brand_lamborghini&#x27;,\n",
       "                                  &#x27;brand_lancia&#x27;, &#x27;brand_land-rover&#x27;,\n",
       "                                  &#x27;brand_maserati&#x27;, ...])],\n",
       "                  verbose_feature_names_out=False)</pre></div> </div></div><div class=\"sk-parallel\"><div class=\"sk-parallel-item\"><div class=\"sk-item\"><div class=\"sk-label-container\"><div class=\"sk-label  sk-toggleable\"><input class=\"sk-toggleable__control sk-hidden--visually\" id=\"sk-estimator-id-2\" type=\"checkbox\" ><label for=\"sk-estimator-id-2\" class=\"sk-toggleable__label  sk-toggleable__label-arrow \">log_scale</label><div class=\"sk-toggleable__content \"><pre>[&#x27;power_kw&#x27;, &#x27;fuel_consumption_g_km&#x27;, &#x27;mileage_in_km&#x27;]</pre></div> </div></div><div class=\"sk-serial\"><div class=\"sk-item\"><div class=\"sk-serial\"><div class=\"sk-item\"><div class=\"sk-estimator  sk-toggleable\"><input class=\"sk-toggleable__control sk-hidden--visually\" id=\"sk-estimator-id-3\" type=\"checkbox\" ><label for=\"sk-estimator-id-3\" class=\"sk-toggleable__label  sk-toggleable__label-arrow \">&nbsp;FunctionTransformer<a class=\"sk-estimator-doc-link \" rel=\"noreferrer\" target=\"_blank\" href=\"https://scikit-learn.org/1.5/modules/generated/sklearn.preprocessing.FunctionTransformer.html\">?<span>Documentation for FunctionTransformer</span></a></label><div class=\"sk-toggleable__content \"><pre>FunctionTransformer(func=&lt;ufunc &#x27;log1p&#x27;&gt;)</pre></div> </div></div><div class=\"sk-item\"><div class=\"sk-estimator  sk-toggleable\"><input class=\"sk-toggleable__control sk-hidden--visually\" id=\"sk-estimator-id-4\" type=\"checkbox\" ><label for=\"sk-estimator-id-4\" class=\"sk-toggleable__label  sk-toggleable__label-arrow \">&nbsp;StandardScaler<a class=\"sk-estimator-doc-link \" rel=\"noreferrer\" target=\"_blank\" href=\"https://scikit-learn.org/1.5/modules/generated/sklearn.preprocessing.StandardScaler.html\">?<span>Documentation for StandardScaler</span></a></label><div class=\"sk-toggleable__content \"><pre>StandardScaler()</pre></div> </div></div></div></div></div></div></div><div class=\"sk-parallel-item\"><div class=\"sk-item\"><div class=\"sk-label-container\"><div class=\"sk-label  sk-toggleable\"><input class=\"sk-toggleable__control sk-hidden--visually\" id=\"sk-estimator-id-5\" type=\"checkbox\" ><label for=\"sk-estimator-id-5\" class=\"sk-toggleable__label  sk-toggleable__label-arrow \">direct_scale</label><div class=\"sk-toggleable__content \"><pre>[&#x27;ev_range_km&#x27;, &#x27;vehicle_manufacturing_age&#x27;, &#x27;vehicle_registration_age&#x27;]</pre></div> </div></div><div class=\"sk-serial\"><div class=\"sk-item\"><div class=\"sk-estimator  sk-toggleable\"><input class=\"sk-toggleable__control sk-hidden--visually\" id=\"sk-estimator-id-6\" type=\"checkbox\" ><label for=\"sk-estimator-id-6\" class=\"sk-toggleable__label  sk-toggleable__label-arrow \">&nbsp;StandardScaler<a class=\"sk-estimator-doc-link \" rel=\"noreferrer\" target=\"_blank\" href=\"https://scikit-learn.org/1.5/modules/generated/sklearn.preprocessing.StandardScaler.html\">?<span>Documentation for StandardScaler</span></a></label><div class=\"sk-toggleable__content \"><pre>StandardScaler()</pre></div> </div></div></div></div></div><div class=\"sk-parallel-item\"><div class=\"sk-item\"><div class=\"sk-label-container\"><div class=\"sk-label  sk-toggleable\"><input class=\"sk-toggleable__control sk-hidden--visually\" id=\"sk-estimator-id-7\" type=\"checkbox\" ><label for=\"sk-estimator-id-7\" class=\"sk-toggleable__label  sk-toggleable__label-arrow \">passthrough</label><div class=\"sk-toggleable__content \"><pre>[&#x27;reg_month_sin&#x27;, &#x27;reg_month_cos&#x27;, &#x27;mileage_per_year&#x27;, &#x27;brand_aston-martin&#x27;, &#x27;brand_audi&#x27;, &#x27;brand_bentley&#x27;, &#x27;brand_bmw&#x27;, &#x27;brand_cadillac&#x27;, &#x27;brand_chevrolet&#x27;, &#x27;brand_chrysler&#x27;, &#x27;brand_citroen&#x27;, &#x27;brand_dacia&#x27;, &#x27;brand_daewoo&#x27;, &#x27;brand_daihatsu&#x27;, &#x27;brand_dodge&#x27;, &#x27;brand_ferrari&#x27;, &#x27;brand_fiat&#x27;, &#x27;brand_ford&#x27;, &#x27;brand_honda&#x27;, &#x27;brand_hyundai&#x27;, &#x27;brand_infiniti&#x27;, &#x27;brand_isuzu&#x27;, &#x27;brand_jaguar&#x27;, &#x27;brand_jeep&#x27;, &#x27;brand_kia&#x27;, &#x27;brand_lada&#x27;, &#x27;brand_lamborghini&#x27;, &#x27;brand_lancia&#x27;, &#x27;brand_land-rover&#x27;, &#x27;brand_maserati&#x27;, &#x27;brand_mazda&#x27;, &#x27;color_black&#x27;, &#x27;color_blue&#x27;, &#x27;color_bronze&#x27;, &#x27;color_brown&#x27;, &#x27;color_gold&#x27;, &#x27;color_green&#x27;, &#x27;color_grey&#x27;, &#x27;color_orange&#x27;, &#x27;color_red&#x27;, &#x27;color_silver&#x27;, &#x27;color_violet&#x27;, &#x27;color_white&#x27;, &#x27;color_yellow&#x27;, &#x27;transmission_type_manual&#x27;, &#x27;transmission_type_semi-automatic&#x27;, &#x27;fuel_type_diesel&#x27;, &#x27;fuel_type_diesel_hybrid&#x27;, &#x27;fuel_type_electric&#x27;, &#x27;fuel_type_ethanol&#x27;, &#x27;fuel_type_hybrid&#x27;, &#x27;fuel_type_hydrogen&#x27;, &#x27;fuel_type_lpg&#x27;, &#x27;fuel_type_petrol&#x27;, &#x27;model_target_enc&#x27;]</pre></div> </div></div><div class=\"sk-serial\"><div class=\"sk-item\"><div class=\"sk-estimator  sk-toggleable\"><input class=\"sk-toggleable__control sk-hidden--visually\" id=\"sk-estimator-id-8\" type=\"checkbox\" ><label for=\"sk-estimator-id-8\" class=\"sk-toggleable__label  sk-toggleable__label-arrow \">passthrough</label><div class=\"sk-toggleable__content \"><pre>passthrough</pre></div> </div></div></div></div></div></div></div></div></div>"
      ],
      "text/plain": [
       "ColumnTransformer(transformers=[('log_scale',\n",
       "                                 Pipeline(steps=[('log',\n",
       "                                                  FunctionTransformer(func=<ufunc 'log1p'>)),\n",
       "                                                 ('scaler', StandardScaler())]),\n",
       "                                 ['power_kw', 'fuel_consumption_g_km',\n",
       "                                  'mileage_in_km']),\n",
       "                                ('direct_scale', StandardScaler(),\n",
       "                                 ['ev_range_km', 'vehicle_manufacturing_age',\n",
       "                                  'vehicle_registration_age']),\n",
       "                                ('passthrough', 'passthrough',\n",
       "                                 ['reg_month_sin', 'reg_...\n",
       "                                  'brand_chrysler', 'brand_citroen',\n",
       "                                  'brand_dacia', 'brand_daewoo',\n",
       "                                  'brand_daihatsu', 'brand_dodge',\n",
       "                                  'brand_ferrari', 'brand_fiat', 'brand_ford',\n",
       "                                  'brand_honda', 'brand_hyundai',\n",
       "                                  'brand_infiniti', 'brand_isuzu',\n",
       "                                  'brand_jaguar', 'brand_jeep', 'brand_kia',\n",
       "                                  'brand_lada', 'brand_lamborghini',\n",
       "                                  'brand_lancia', 'brand_land-rover',\n",
       "                                  'brand_maserati', ...])],\n",
       "                  verbose_feature_names_out=False)"
      ]
     },
     "execution_count": 173,
     "metadata": {},
     "output_type": "execute_result"
    }
   ],
   "source": [
    "log_transformer = FunctionTransformer(np.log1p, validate=False)\n",
    "\n",
    "# Column Transformer\n",
    "preprocessor = ColumnTransformer(\n",
    "    transformers=[\n",
    "        (\"log_scale\", Pipeline([\n",
    "            (\"log\", log_transformer),\n",
    "            (\"scaler\", StandardScaler())\n",
    "        ]), log_scale_cols),\n",
    "        \n",
    "        (\"direct_scale\", StandardScaler(), direct_scale_cols),\n",
    "        \n",
    "        # Not scaling ones are passed through\n",
    "        (\"passthrough\", \"passthrough\", not_scale_cols)\n",
    "    ],\n",
    "    remainder=\"drop\",   # drop any extra cols not listed\n",
    "    verbose_feature_names_out=False  # 👈 disables prefixing\n",
    ")\n",
    "\n",
    "# Ensure pandas DataFrame output\n",
    "preprocessor.set_output(transform=\"pandas\")\n"
   ]
  },
  {
   "cell_type": "code",
   "execution_count": 174,
   "id": "ee369120-a6f9-48ac-850d-550de105d534",
   "metadata": {},
   "outputs": [],
   "source": [
    "X_train_scaled = preprocessor.fit_transform(X_train)\n",
    "X_test_scaled  = preprocessor.transform(X_test)\n"
   ]
  },
  {
   "cell_type": "code",
   "execution_count": 175,
   "id": "cfbdec37-c913-4aa2-a9f6-29ce8ff2db7c",
   "metadata": {},
   "outputs": [
    {
     "data": {
      "text/html": [
       "<div>\n",
       "<style scoped>\n",
       "    .dataframe tbody tr th:only-of-type {\n",
       "        vertical-align: middle;\n",
       "    }\n",
       "\n",
       "    .dataframe tbody tr th {\n",
       "        vertical-align: top;\n",
       "    }\n",
       "\n",
       "    .dataframe thead th {\n",
       "        text-align: right;\n",
       "    }\n",
       "</style>\n",
       "<table border=\"1\" class=\"dataframe\">\n",
       "  <thead>\n",
       "    <tr style=\"text-align: right;\">\n",
       "      <th></th>\n",
       "      <th>power_kw</th>\n",
       "      <th>fuel_consumption_g_km</th>\n",
       "      <th>mileage_in_km</th>\n",
       "      <th>ev_range_km</th>\n",
       "      <th>vehicle_manufacturing_age</th>\n",
       "      <th>vehicle_registration_age</th>\n",
       "      <th>reg_month_sin</th>\n",
       "      <th>reg_month_cos</th>\n",
       "      <th>mileage_per_year</th>\n",
       "      <th>brand_aston-martin</th>\n",
       "      <th>...</th>\n",
       "      <th>transmission_type_semi-automatic</th>\n",
       "      <th>fuel_type_diesel</th>\n",
       "      <th>fuel_type_diesel_hybrid</th>\n",
       "      <th>fuel_type_electric</th>\n",
       "      <th>fuel_type_ethanol</th>\n",
       "      <th>fuel_type_hybrid</th>\n",
       "      <th>fuel_type_hydrogen</th>\n",
       "      <th>fuel_type_lpg</th>\n",
       "      <th>fuel_type_petrol</th>\n",
       "      <th>model_target_enc</th>\n",
       "    </tr>\n",
       "  </thead>\n",
       "  <tbody>\n",
       "    <tr>\n",
       "      <th>0</th>\n",
       "      <td>-1.257251</td>\n",
       "      <td>0.107083</td>\n",
       "      <td>0.324312</td>\n",
       "      <td>-0.197433</td>\n",
       "      <td>0.270262</td>\n",
       "      <td>0.270262</td>\n",
       "      <td>-5.000000e-01</td>\n",
       "      <td>-0.866025</td>\n",
       "      <td>9343.12</td>\n",
       "      <td>0</td>\n",
       "      <td>...</td>\n",
       "      <td>0</td>\n",
       "      <td>0</td>\n",
       "      <td>0</td>\n",
       "      <td>0</td>\n",
       "      <td>0</td>\n",
       "      <td>0</td>\n",
       "      <td>0</td>\n",
       "      <td>0</td>\n",
       "      <td>1</td>\n",
       "      <td>28528.211111</td>\n",
       "    </tr>\n",
       "    <tr>\n",
       "      <th>1</th>\n",
       "      <td>1.474533</td>\n",
       "      <td>0.721307</td>\n",
       "      <td>-0.812817</td>\n",
       "      <td>-0.197433</td>\n",
       "      <td>-0.499453</td>\n",
       "      <td>-0.499453</td>\n",
       "      <td>5.000000e-01</td>\n",
       "      <td>-0.866025</td>\n",
       "      <td>4250.00</td>\n",
       "      <td>0</td>\n",
       "      <td>...</td>\n",
       "      <td>0</td>\n",
       "      <td>0</td>\n",
       "      <td>0</td>\n",
       "      <td>0</td>\n",
       "      <td>0</td>\n",
       "      <td>0</td>\n",
       "      <td>0</td>\n",
       "      <td>0</td>\n",
       "      <td>1</td>\n",
       "      <td>32774.311111</td>\n",
       "    </tr>\n",
       "    <tr>\n",
       "      <th>2</th>\n",
       "      <td>2.731971</td>\n",
       "      <td>0.831753</td>\n",
       "      <td>-1.259641</td>\n",
       "      <td>-0.197433</td>\n",
       "      <td>-1.076739</td>\n",
       "      <td>-1.076739</td>\n",
       "      <td>1.224647e-16</td>\n",
       "      <td>-1.000000</td>\n",
       "      <td>9500.00</td>\n",
       "      <td>0</td>\n",
       "      <td>...</td>\n",
       "      <td>0</td>\n",
       "      <td>0</td>\n",
       "      <td>0</td>\n",
       "      <td>0</td>\n",
       "      <td>0</td>\n",
       "      <td>0</td>\n",
       "      <td>0</td>\n",
       "      <td>0</td>\n",
       "      <td>1</td>\n",
       "      <td>18925.400000</td>\n",
       "    </tr>\n",
       "    <tr>\n",
       "      <th>3</th>\n",
       "      <td>-1.781470</td>\n",
       "      <td>-0.370097</td>\n",
       "      <td>-0.369090</td>\n",
       "      <td>-0.197433</td>\n",
       "      <td>-0.691881</td>\n",
       "      <td>-0.691881</td>\n",
       "      <td>-5.000000e-01</td>\n",
       "      <td>0.866025</td>\n",
       "      <td>10099.33</td>\n",
       "      <td>0</td>\n",
       "      <td>...</td>\n",
       "      <td>0</td>\n",
       "      <td>0</td>\n",
       "      <td>0</td>\n",
       "      <td>0</td>\n",
       "      <td>0</td>\n",
       "      <td>0</td>\n",
       "      <td>0</td>\n",
       "      <td>0</td>\n",
       "      <td>1</td>\n",
       "      <td>26087.430956</td>\n",
       "    </tr>\n",
       "    <tr>\n",
       "      <th>4</th>\n",
       "      <td>-1.742072</td>\n",
       "      <td>-0.050408</td>\n",
       "      <td>-0.284079</td>\n",
       "      <td>-0.197433</td>\n",
       "      <td>-0.499453</td>\n",
       "      <td>-0.499453</td>\n",
       "      <td>5.000000e-01</td>\n",
       "      <td>0.866025</td>\n",
       "      <td>8461.25</td>\n",
       "      <td>0</td>\n",
       "      <td>...</td>\n",
       "      <td>0</td>\n",
       "      <td>0</td>\n",
       "      <td>0</td>\n",
       "      <td>0</td>\n",
       "      <td>0</td>\n",
       "      <td>0</td>\n",
       "      <td>0</td>\n",
       "      <td>0</td>\n",
       "      <td>1</td>\n",
       "      <td>26472.971429</td>\n",
       "    </tr>\n",
       "  </tbody>\n",
       "</table>\n",
       "<p>5 rows × 61 columns</p>\n",
       "</div>"
      ],
      "text/plain": [
       "   power_kw  fuel_consumption_g_km  mileage_in_km  ev_range_km  \\\n",
       "0 -1.257251               0.107083       0.324312    -0.197433   \n",
       "1  1.474533               0.721307      -0.812817    -0.197433   \n",
       "2  2.731971               0.831753      -1.259641    -0.197433   \n",
       "3 -1.781470              -0.370097      -0.369090    -0.197433   \n",
       "4 -1.742072              -0.050408      -0.284079    -0.197433   \n",
       "\n",
       "   vehicle_manufacturing_age  vehicle_registration_age  reg_month_sin  \\\n",
       "0                   0.270262                  0.270262  -5.000000e-01   \n",
       "1                  -0.499453                 -0.499453   5.000000e-01   \n",
       "2                  -1.076739                 -1.076739   1.224647e-16   \n",
       "3                  -0.691881                 -0.691881  -5.000000e-01   \n",
       "4                  -0.499453                 -0.499453   5.000000e-01   \n",
       "\n",
       "   reg_month_cos  mileage_per_year  brand_aston-martin  ...  \\\n",
       "0      -0.866025           9343.12                   0  ...   \n",
       "1      -0.866025           4250.00                   0  ...   \n",
       "2      -1.000000           9500.00                   0  ...   \n",
       "3       0.866025          10099.33                   0  ...   \n",
       "4       0.866025           8461.25                   0  ...   \n",
       "\n",
       "   transmission_type_semi-automatic  fuel_type_diesel  \\\n",
       "0                                 0                 0   \n",
       "1                                 0                 0   \n",
       "2                                 0                 0   \n",
       "3                                 0                 0   \n",
       "4                                 0                 0   \n",
       "\n",
       "   fuel_type_diesel_hybrid  fuel_type_electric  fuel_type_ethanol  \\\n",
       "0                        0                   0                  0   \n",
       "1                        0                   0                  0   \n",
       "2                        0                   0                  0   \n",
       "3                        0                   0                  0   \n",
       "4                        0                   0                  0   \n",
       "\n",
       "   fuel_type_hybrid  fuel_type_hydrogen  fuel_type_lpg  fuel_type_petrol  \\\n",
       "0                 0                   0              0                 1   \n",
       "1                 0                   0              0                 1   \n",
       "2                 0                   0              0                 1   \n",
       "3                 0                   0              0                 1   \n",
       "4                 0                   0              0                 1   \n",
       "\n",
       "   model_target_enc  \n",
       "0      28528.211111  \n",
       "1      32774.311111  \n",
       "2      18925.400000  \n",
       "3      26087.430956  \n",
       "4      26472.971429  \n",
       "\n",
       "[5 rows x 61 columns]"
      ]
     },
     "execution_count": 175,
     "metadata": {},
     "output_type": "execute_result"
    }
   ],
   "source": [
    "X_train_scaled.head()"
   ]
  },
  {
   "cell_type": "code",
   "execution_count": 176,
   "id": "ee235472-2245-4b7b-9c4f-f71cfcb4cbe2",
   "metadata": {},
   "outputs": [
    {
     "data": {
      "text/plain": [
       "(79460, 61)"
      ]
     },
     "execution_count": 176,
     "metadata": {},
     "output_type": "execute_result"
    }
   ],
   "source": [
    "X_train_scaled.shape"
   ]
  },
  {
   "cell_type": "code",
   "execution_count": 177,
   "id": "fe33cd34-ff32-497a-8896-1dd4c3be6f81",
   "metadata": {},
   "outputs": [],
   "source": [
    "train_final = X_train_scaled.copy()\n",
    "train_final[\"price_in_euro\"] = y_train.values"
   ]
  },
  {
   "cell_type": "code",
   "execution_count": 178,
   "id": "c4eb1627-7f0d-4ea6-b2bf-732e3ac477dd",
   "metadata": {},
   "outputs": [],
   "source": [
    "test_final = X_test_scaled.copy()\n",
    "test_final[\"price_in_euro\"] = y_test.values"
   ]
  },
  {
   "cell_type": "code",
   "execution_count": 179,
   "id": "a5515ed5-78d1-475a-9f6d-28cb1f73669b",
   "metadata": {},
   "outputs": [],
   "source": [
    "train_final.to_csv(\"train_final.csv\", index=False)\n",
    "test_final.to_csv(\"test_final.csv\", index=False)"
   ]
  },
  {
   "cell_type": "code",
   "execution_count": null,
   "id": "6965026a-de33-4f17-bfc2-b26ab47b7178",
   "metadata": {},
   "outputs": [],
   "source": []
  },
  {
   "cell_type": "code",
   "execution_count": 180,
   "id": "f26857e7-4f70-41c9-b3ca-25e51671af7c",
   "metadata": {},
   "outputs": [],
   "source": [
    "log_pipeline = preprocessor.named_transformers_[\"log_scale\"]\n",
    "\n",
    "log_transformer = log_pipeline.named_steps[\"log\"]\n",
    "log_scaler = log_pipeline.named_steps[\"scaler\"]\n",
    "\n",
    "direct_scaler = preprocessor.named_transformers_[\"direct_scale\"]\n",
    "\n",
    "\n"
   ]
  },
  {
   "cell_type": "code",
   "execution_count": 181,
   "id": "83dc51a9-d506-4a4c-8e00-ada519069bf5",
   "metadata": {},
   "outputs": [],
   "source": [
    "model_target_mapping.to_csv(\"../artifacts/model_target_mapping.csv\", index=False)\n"
   ]
  },
  {
   "cell_type": "code",
   "execution_count": 182,
   "id": "80c32427-eb36-466e-9f30-f50401cccc2a",
   "metadata": {},
   "outputs": [
    {
     "data": {
      "text/plain": [
       "['../artifacts/log_transformer.joblib']"
      ]
     },
     "execution_count": 182,
     "metadata": {},
     "output_type": "execute_result"
    }
   ],
   "source": [
    "import joblib\n",
    "\n",
    "joblib.dump(log_scaler, \"../artifacts/log_scaler.joblib\")\n",
    "joblib.dump(direct_scaler, \"../artifacts/direct_scaler.joblib\")\n",
    "joblib.dump(log_transformer, \"../artifacts/log_transformer.joblib\")  # though this is usually just np.log1p\n"
   ]
  },
  {
   "cell_type": "code",
   "execution_count": 183,
   "id": "2e481d91-66b3-4ee8-9ac0-7491e0476484",
   "metadata": {},
   "outputs": [],
   "source": [
    "feature_order = X_train.columns.tolist()"
   ]
  },
  {
   "cell_type": "code",
   "execution_count": 184,
   "id": "a4a6e454-24de-4ed1-be73-a9acaf33d172",
   "metadata": {},
   "outputs": [
    {
     "data": {
      "text/plain": [
       "['../artifacts/feature_order.joblib']"
      ]
     },
     "execution_count": 184,
     "metadata": {},
     "output_type": "execute_result"
    }
   ],
   "source": [
    "joblib.dump(feature_order, \"../artifacts/feature_order.joblib\")"
   ]
  },
  {
   "cell_type": "code",
   "execution_count": 185,
   "id": "e288a991-b8f9-47f7-8664-afecef0aa0d9",
   "metadata": {},
   "outputs": [
    {
     "name": "stdout",
     "output_type": "stream",
     "text": [
      "joblib: 1.4.2\n",
      "numpy: 1.26.4\n",
      "pandas: 2.2.3\n"
     ]
    }
   ],
   "source": [
    "print(\"joblib:\", joblib.__version__)\n",
    "print(\"numpy:\", np.__version__)\n",
    "print(\"pandas:\", pd.__version__)\n"
   ]
  },
  {
   "cell_type": "code",
   "execution_count": null,
   "id": "0e675dd8-ac72-4cb0-9350-5287756ed767",
   "metadata": {},
   "outputs": [],
   "source": []
  },
  {
   "cell_type": "code",
   "execution_count": null,
   "id": "b077f30b-4687-4e1f-ba56-bcf79c19e07d",
   "metadata": {},
   "outputs": [],
   "source": []
  }
 ],
 "metadata": {
  "kernelspec": {
   "display_name": "Python 3 (ipykernel)",
   "language": "python",
   "name": "python3"
  },
  "language_info": {
   "codemirror_mode": {
    "name": "ipython",
    "version": 3
   },
   "file_extension": ".py",
   "mimetype": "text/x-python",
   "name": "python",
   "nbconvert_exporter": "python",
   "pygments_lexer": "ipython3",
   "version": "3.12.0"
  }
 },
 "nbformat": 4,
 "nbformat_minor": 5
}
